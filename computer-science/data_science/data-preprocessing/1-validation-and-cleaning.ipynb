{
 "cells": [
  {
   "attachments": {},
   "cell_type": "markdown",
   "metadata": {},
   "source": [
    "# 1 - Data Validation & Cleaning\n",
    "\n",
    "## Assignment\n",
    "\n",
    "In short, the main task is to clean The Metropolitan Museum of Art Open Access dataset.\n",
    "  \n",
    "> The instructions are not given in details: It is up to you to come up with ideas on how to fulfill the particular tasks as best you can!\n",
    "\n",
    "1. Download the dataset MetObjects.csv from the repository https://github.com/metmuseum/openaccess/.\n",
    "2. Check consistency (i.e. that same things are represented in the same way) of at least three features where you expect problems (include \"Object Name\" feature). You can propose how to clean selected features, however do not apply cleaning (in your interest) :)\n",
    "3. Select some features where you expect integrity problems (describe your choice) and check integrity of those features. By integrity we mean correct logical relations between features (e.g. female names for females only).\n",
    "4. Convert at least five features to a proper data type. Choose at least one numeric, one categorical and one datetime.\n",
    "5. Find some outliers (describe your method).\n",
    "6. Detect missing data in at least three features, convert them to a proper representation (if they are already not), and impute missing values in at least one feature.\n",
    "\n",
    "## Solution\n",
    "\n",
    "1. Download dataset \n",
    "  - Copy the dataframe\n",
    "  - Basic dataset information\n",
    "  - Data example\n",
    "2. Feature consistency check\n",
    "  - Feature \"Gallery Number\"\n",
    "  - Feature \"AccessionYear\"\n",
    "  - Feature \"Object Name\"\n",
    "  - Feature \"Object Number\"\n",
    "3. Feature integrity problems\n",
    "  - \"Object Number\" (number before first dot) == \"AccessionYear\"\n",
    "  - \"Object Begin Date\" <= \"Object End Date\"\n",
    "4. Feature type conversions\n",
    "  - Numeric conversion\n",
    "    - \"Constiuent ID\"\n",
    "    - \"Gallery Number\"\n",
    "  - Categorical conversion\n",
    "    - \"Constiuent ID\"\n",
    "    - \"Object Number\"\n",
    "    - \"Department\"\n",
    "  - Datetime conversion\n",
    "    - \"AccessionYear\"\n",
    "5. Outliers\n",
    "  - Rule of thumb\n",
    "  - \"Object Begin Date\" and \"Object End Date\"\n",
    "6. Missing data detection and imputation \n",
    "  - Missing values Detection\n",
    "  - Potential candidates for group imputation\n",
    "  - Helper functions\n",
    "  - Feature \"Medium\"\n",
    "  - Feature \"AccessionYear\"\n",
    "  - Feature \"Classification\"\n",
    "  - Feature \"Object Date\""
   ]
  },
  {
   "cell_type": "code",
   "execution_count": 1,
   "metadata": {},
   "outputs": [],
   "source": [
    "# Imports\n",
    "import pandas as pd\n",
    "import numpy as np\n",
    "import seaborn as sns\n",
    "import matplotlib.pyplot as plt\n",
    "%matplotlib inline\n",
    "import re"
   ]
  },
  {
   "attachments": {},
   "cell_type": "markdown",
   "metadata": {},
   "source": [
    "### 1. Download dataset "
   ]
  },
  {
   "cell_type": "code",
   "execution_count": 2,
   "metadata": {
    "scrolled": true
   },
   "outputs": [
    {
     "name": "stderr",
     "output_type": "stream",
     "text": [
      "/home/langerjaros/.langerenv_0.2/lib/python3.6/site-packages/IPython/core/interactiveshell.py:3063: DtypeWarning: Columns (5,7,10,11,12,13,14,15,22,34,35,36,37,38,39,40,41,42,43,44,46) have mixed types.Specify dtype option on import or set low_memory=False.\n",
      "  interactivity=interactivity, compiler=compiler, result=result)\n"
     ]
    }
   ],
   "source": [
    "# should be accessed only to make copy with pd.DataFrame.copy()\n",
    "original_df = pd.read_csv('MetObjects.csv')"
   ]
  },
  {
   "attachments": {},
   "cell_type": "markdown",
   "metadata": {},
   "source": [
    "### Copy the dataframe"
   ]
  },
  {
   "cell_type": "code",
   "execution_count": 3,
   "metadata": {},
   "outputs": [],
   "source": [
    "df = original_df.copy()"
   ]
  },
  {
   "attachments": {},
   "cell_type": "markdown",
   "metadata": {},
   "source": [
    "### Basic dataset information"
   ]
  },
  {
   "cell_type": "code",
   "execution_count": 4,
   "metadata": {
    "scrolled": false
   },
   "outputs": [
    {
     "name": "stdout",
     "output_type": "stream",
     "text": [
      "<class 'pandas.core.frame.DataFrame'>\n",
      "RangeIndex: 474526 entries, 0 to 474525\n",
      "Data columns (total 54 columns):\n",
      " #   Column                   Non-Null Count   Dtype  \n",
      "---  ------                   --------------   -----  \n",
      " 0   Object Number            474526 non-null  object \n",
      " 1   Is Highlight             474526 non-null  bool   \n",
      " 2   Is Timeline Work         474526 non-null  bool   \n",
      " 3   Is Public Domain         474526 non-null  bool   \n",
      " 4   Object ID                474526 non-null  int64  \n",
      " 5   Gallery Number           54386 non-null   object \n",
      " 6   Department               474526 non-null  object \n",
      " 7   AccessionYear            470560 non-null  object \n",
      " 8   Object Name              473172 non-null  object \n",
      " 9   Title                    444655 non-null  object \n",
      " 10  Culture                  206456 non-null  object \n",
      " 11  Period                   90362 non-null   object \n",
      " 12  Dynasty                  23144 non-null   object \n",
      " 13  Reign                    11180 non-null   object \n",
      " 14  Portfolio                23344 non-null   object \n",
      " 15  Constiuent ID            272672 non-null  object \n",
      " 16  Artist Role              270578 non-null  object \n",
      " 17  Artist Prefix            89303 non-null   object \n",
      " 18  Artist Display Name      272672 non-null  object \n",
      " 19  Artist Display Bio       233625 non-null  object \n",
      " 20  Artist Suffix            11928 non-null   object \n",
      " 21  Artist Alpha Sort        272637 non-null  object \n",
      " 22  Artist Nationality       182413 non-null  object \n",
      " 23  Artist Begin Date        236226 non-null  object \n",
      " 24  Artist End Date          236220 non-null  object \n",
      " 25  Artist Gender            101045 non-null  object \n",
      " 26  Artist ULAN URL          203965 non-null  object \n",
      " 27  Artist Wikidata URL      159897 non-null  object \n",
      " 28  Object Date              459614 non-null  object \n",
      " 29  Object Begin Date        474526 non-null  int64  \n",
      " 30  Object End Date          474526 non-null  int64  \n",
      " 31  Medium                   467413 non-null  object \n",
      " 32  Dimensions               399051 non-null  object \n",
      " 33  Credit Line              474106 non-null  object \n",
      " 34  Geography Type           59363 non-null   object \n",
      " 35  City                     31973 non-null   object \n",
      " 36  State                    2530 non-null    object \n",
      " 37  County                   8240 non-null    object \n",
      " 38  Country                  75278 non-null   object \n",
      " 39  Region                   31335 non-null   object \n",
      " 40  Subregion                22057 non-null   object \n",
      " 41  Locale                   15604 non-null   object \n",
      " 42  Locus                    7397 non-null    object \n",
      " 43  Excavation               16007 non-null   object \n",
      " 44  River                    2097 non-null    object \n",
      " 45  Classification           418463 non-null  object \n",
      " 46  Rights and Reproduction  23337 non-null   object \n",
      " 47  Link Resource            474526 non-null  object \n",
      " 48  Object Wikidata URL      20965 non-null   object \n",
      " 49  Metadata Date            0 non-null       float64\n",
      " 50  Repository               474526 non-null  object \n",
      " 51  Tags                     217430 non-null  object \n",
      " 52  Tags AAT URL             216984 non-null  object \n",
      " 53  Tags Wikidata URL        215668 non-null  object \n",
      "dtypes: bool(3), float64(1), int64(3), object(47)\n",
      "memory usage: 186.0+ MB\n"
     ]
    }
   ],
   "source": [
    "df.info()"
   ]
  },
  {
   "attachments": {},
   "cell_type": "markdown",
   "metadata": {},
   "source": [
    "### Data example"
   ]
  },
  {
   "cell_type": "code",
   "execution_count": 5,
   "metadata": {},
   "outputs": [
    {
     "data": {
      "text/html": [
       "<div>\n",
       "<style scoped>\n",
       "    .dataframe tbody tr th:only-of-type {\n",
       "        vertical-align: middle;\n",
       "    }\n",
       "\n",
       "    .dataframe tbody tr th {\n",
       "        vertical-align: top;\n",
       "    }\n",
       "\n",
       "    .dataframe thead th {\n",
       "        text-align: right;\n",
       "    }\n",
       "</style>\n",
       "<table border=\"1\" class=\"dataframe\">\n",
       "  <thead>\n",
       "    <tr style=\"text-align: right;\">\n",
       "      <th></th>\n",
       "      <th>Object Number</th>\n",
       "      <th>Is Highlight</th>\n",
       "      <th>Is Timeline Work</th>\n",
       "      <th>Is Public Domain</th>\n",
       "      <th>Object ID</th>\n",
       "      <th>Gallery Number</th>\n",
       "      <th>Department</th>\n",
       "      <th>AccessionYear</th>\n",
       "      <th>Object Name</th>\n",
       "      <th>Title</th>\n",
       "      <th>Culture</th>\n",
       "      <th>Period</th>\n",
       "      <th>Dynasty</th>\n",
       "      <th>Reign</th>\n",
       "      <th>Portfolio</th>\n",
       "      <th>Constiuent ID</th>\n",
       "      <th>Artist Role</th>\n",
       "      <th>Artist Prefix</th>\n",
       "      <th>Artist Display Name</th>\n",
       "      <th>Artist Display Bio</th>\n",
       "      <th>Artist Suffix</th>\n",
       "      <th>Artist Alpha Sort</th>\n",
       "      <th>Artist Nationality</th>\n",
       "      <th>Artist Begin Date</th>\n",
       "      <th>Artist End Date</th>\n",
       "      <th>Artist Gender</th>\n",
       "      <th>Artist ULAN URL</th>\n",
       "      <th>Artist Wikidata URL</th>\n",
       "      <th>Object Date</th>\n",
       "      <th>Object Begin Date</th>\n",
       "      <th>Object End Date</th>\n",
       "      <th>Medium</th>\n",
       "      <th>Dimensions</th>\n",
       "      <th>Credit Line</th>\n",
       "      <th>Geography Type</th>\n",
       "      <th>City</th>\n",
       "      <th>State</th>\n",
       "      <th>County</th>\n",
       "      <th>Country</th>\n",
       "      <th>Region</th>\n",
       "      <th>Subregion</th>\n",
       "      <th>Locale</th>\n",
       "      <th>Locus</th>\n",
       "      <th>Excavation</th>\n",
       "      <th>River</th>\n",
       "      <th>Classification</th>\n",
       "      <th>Rights and Reproduction</th>\n",
       "      <th>Link Resource</th>\n",
       "      <th>Object Wikidata URL</th>\n",
       "      <th>Metadata Date</th>\n",
       "      <th>Repository</th>\n",
       "      <th>Tags</th>\n",
       "      <th>Tags AAT URL</th>\n",
       "      <th>Tags Wikidata URL</th>\n",
       "    </tr>\n",
       "  </thead>\n",
       "  <tbody>\n",
       "    <tr>\n",
       "      <th>303002</th>\n",
       "      <td>31.19.5</td>\n",
       "      <td>False</td>\n",
       "      <td>False</td>\n",
       "      <td>True</td>\n",
       "      <td>448564</td>\n",
       "      <td>NaN</td>\n",
       "      <td>Islamic Art</td>\n",
       "      <td>1931</td>\n",
       "      <td>Fragment</td>\n",
       "      <td>Textile Fragment</td>\n",
       "      <td>NaN</td>\n",
       "      <td>NaN</td>\n",
       "      <td>NaN</td>\n",
       "      <td>NaN</td>\n",
       "      <td>NaN</td>\n",
       "      <td>NaN</td>\n",
       "      <td>NaN</td>\n",
       "      <td>NaN</td>\n",
       "      <td>NaN</td>\n",
       "      <td>NaN</td>\n",
       "      <td>NaN</td>\n",
       "      <td>NaN</td>\n",
       "      <td>NaN</td>\n",
       "      <td>NaN</td>\n",
       "      <td>NaN</td>\n",
       "      <td>NaN</td>\n",
       "      <td>NaN</td>\n",
       "      <td>NaN</td>\n",
       "      <td>10th century</td>\n",
       "      <td>900</td>\n",
       "      <td>999</td>\n",
       "      <td>Linen, silk; plain weave, tapestry weave</td>\n",
       "      <td>Textile: L. 13 1/2 in. (34.3 cm)\\r\\n          ...</td>\n",
       "      <td>Gift of George D. Pratt, 1931</td>\n",
       "      <td>Attributed to</td>\n",
       "      <td>NaN</td>\n",
       "      <td>NaN</td>\n",
       "      <td>NaN</td>\n",
       "      <td>Egypt</td>\n",
       "      <td>NaN</td>\n",
       "      <td>NaN</td>\n",
       "      <td>NaN</td>\n",
       "      <td>NaN</td>\n",
       "      <td>NaN</td>\n",
       "      <td>NaN</td>\n",
       "      <td>Textiles-Woven</td>\n",
       "      <td>NaN</td>\n",
       "      <td>http://www.metmuseum.org/art/collection/search...</td>\n",
       "      <td>NaN</td>\n",
       "      <td>NaN</td>\n",
       "      <td>Metropolitan Museum of Art, New York, NY</td>\n",
       "      <td>NaN</td>\n",
       "      <td>NaN</td>\n",
       "      <td>NaN</td>\n",
       "    </tr>\n",
       "    <tr>\n",
       "      <th>196419</th>\n",
       "      <td>86.11.249a</td>\n",
       "      <td>False</td>\n",
       "      <td>False</td>\n",
       "      <td>True</td>\n",
       "      <td>321825</td>\n",
       "      <td>NaN</td>\n",
       "      <td>Ancient Near Eastern Art</td>\n",
       "      <td>1886</td>\n",
       "      <td>Cuneiform tablet</td>\n",
       "      <td>Cuneiform tablet: receipt of a kid</td>\n",
       "      <td>Neo-Sumerian</td>\n",
       "      <td>Ur III</td>\n",
       "      <td>NaN</td>\n",
       "      <td>NaN</td>\n",
       "      <td>NaN</td>\n",
       "      <td>NaN</td>\n",
       "      <td>NaN</td>\n",
       "      <td>NaN</td>\n",
       "      <td>NaN</td>\n",
       "      <td>NaN</td>\n",
       "      <td>NaN</td>\n",
       "      <td>NaN</td>\n",
       "      <td>NaN</td>\n",
       "      <td>NaN</td>\n",
       "      <td>NaN</td>\n",
       "      <td>NaN</td>\n",
       "      <td>NaN</td>\n",
       "      <td>NaN</td>\n",
       "      <td>ca. 2051 B.C.</td>\n",
       "      <td>-2051</td>\n",
       "      <td>-2051</td>\n",
       "      <td>Clay</td>\n",
       "      <td>2.8 x 2.6 x 1.4 cm (1 1/8 x 1 x 1/2 in.)</td>\n",
       "      <td>Purchase, 1886</td>\n",
       "      <td>NaN</td>\n",
       "      <td>NaN</td>\n",
       "      <td>NaN</td>\n",
       "      <td>NaN</td>\n",
       "      <td>NaN</td>\n",
       "      <td>Mesopotamia</td>\n",
       "      <td>probably from Drehem (ancient Puzrish-Dagan)</td>\n",
       "      <td>NaN</td>\n",
       "      <td>NaN</td>\n",
       "      <td>NaN</td>\n",
       "      <td>NaN</td>\n",
       "      <td>Clay-Tablets-Inscribed</td>\n",
       "      <td>NaN</td>\n",
       "      <td>http://www.metmuseum.org/art/collection/search...</td>\n",
       "      <td>NaN</td>\n",
       "      <td>NaN</td>\n",
       "      <td>Metropolitan Museum of Art, New York, NY</td>\n",
       "      <td>Cuneiform</td>\n",
       "      <td>http://vocab.getty.edu/page/aat/300028711</td>\n",
       "      <td>https://www.wikidata.org/wiki/Q401</td>\n",
       "    </tr>\n",
       "    <tr>\n",
       "      <th>376474</th>\n",
       "      <td>63.350.207.145.1.233</td>\n",
       "      <td>False</td>\n",
       "      <td>False</td>\n",
       "      <td>True</td>\n",
       "      <td>644236</td>\n",
       "      <td>NaN</td>\n",
       "      <td>Drawings and Prints</td>\n",
       "      <td>1963</td>\n",
       "      <td>Print</td>\n",
       "      <td>Actress wearing military costume with sword, f...</td>\n",
       "      <td>NaN</td>\n",
       "      <td>NaN</td>\n",
       "      <td>NaN</td>\n",
       "      <td>NaN</td>\n",
       "      <td>NaN</td>\n",
       "      <td>10567</td>\n",
       "      <td>Publisher</td>\n",
       "      <td>Issued by</td>\n",
       "      <td>W. Duke, Sons &amp; Co.</td>\n",
       "      <td>New York and Durham, N.C.</td>\n",
       "      <td>NaN</td>\n",
       "      <td>Duke, W. Sons &amp; Co.</td>\n",
       "      <td>NaN</td>\n",
       "      <td>1870</td>\n",
       "      <td>1920</td>\n",
       "      <td>NaN</td>\n",
       "      <td>(not assigned)</td>\n",
       "      <td>https://www.wikidata.org/wiki/Q66734555</td>\n",
       "      <td>1880s</td>\n",
       "      <td>1880</td>\n",
       "      <td>1889</td>\n",
       "      <td>Albumen photograph</td>\n",
       "      <td>Sheet: 2 1/2 × 1 3/8 in. (6.4 × 3.5 cm)</td>\n",
       "      <td>The Jefferson R. Burdick Collection, Gift of J...</td>\n",
       "      <td>NaN</td>\n",
       "      <td>NaN</td>\n",
       "      <td>NaN</td>\n",
       "      <td>NaN</td>\n",
       "      <td>NaN</td>\n",
       "      <td>NaN</td>\n",
       "      <td>NaN</td>\n",
       "      <td>NaN</td>\n",
       "      <td>NaN</td>\n",
       "      <td>NaN</td>\n",
       "      <td>NaN</td>\n",
       "      <td>Photographs|Ephemera</td>\n",
       "      <td>NaN</td>\n",
       "      <td>http://www.metmuseum.org/art/collection/search...</td>\n",
       "      <td>NaN</td>\n",
       "      <td>NaN</td>\n",
       "      <td>Metropolitan Museum of Art, New York, NY</td>\n",
       "      <td>Portraits|Women|Actresses</td>\n",
       "      <td>http://vocab.getty.edu/page/aat/300015637|http...</td>\n",
       "      <td>https://www.wikidata.org/wiki/Q134307|https://...</td>\n",
       "    </tr>\n",
       "  </tbody>\n",
       "</table>\n",
       "</div>"
      ],
      "text/plain": [
       "               Object Number  Is Highlight  Is Timeline Work  \\\n",
       "303002               31.19.5         False             False   \n",
       "196419            86.11.249a         False             False   \n",
       "376474  63.350.207.145.1.233         False             False   \n",
       "\n",
       "        Is Public Domain  Object ID Gallery Number                Department  \\\n",
       "303002              True     448564            NaN               Islamic Art   \n",
       "196419              True     321825            NaN  Ancient Near Eastern Art   \n",
       "376474              True     644236            NaN       Drawings and Prints   \n",
       "\n",
       "       AccessionYear       Object Name  \\\n",
       "303002          1931          Fragment   \n",
       "196419          1886  Cuneiform tablet   \n",
       "376474          1963             Print   \n",
       "\n",
       "                                                    Title       Culture  \\\n",
       "303002                                   Textile Fragment           NaN   \n",
       "196419                 Cuneiform tablet: receipt of a kid  Neo-Sumerian   \n",
       "376474  Actress wearing military costume with sword, f...           NaN   \n",
       "\n",
       "        Period Dynasty Reign Portfolio Constiuent ID Artist Role  \\\n",
       "303002     NaN     NaN   NaN       NaN           NaN         NaN   \n",
       "196419  Ur III     NaN   NaN       NaN           NaN         NaN   \n",
       "376474     NaN     NaN   NaN       NaN         10567   Publisher   \n",
       "\n",
       "       Artist Prefix  Artist Display Name         Artist Display Bio  \\\n",
       "303002           NaN                  NaN                        NaN   \n",
       "196419           NaN                  NaN                        NaN   \n",
       "376474     Issued by  W. Duke, Sons & Co.  New York and Durham, N.C.   \n",
       "\n",
       "       Artist Suffix    Artist Alpha Sort Artist Nationality  \\\n",
       "303002           NaN                  NaN                NaN   \n",
       "196419           NaN                  NaN                NaN   \n",
       "376474           NaN  Duke, W. Sons & Co.                NaN   \n",
       "\n",
       "       Artist Begin Date Artist End Date Artist Gender Artist ULAN URL  \\\n",
       "303002               NaN             NaN           NaN             NaN   \n",
       "196419               NaN             NaN           NaN             NaN   \n",
       "376474        1870            1920                 NaN  (not assigned)   \n",
       "\n",
       "                            Artist Wikidata URL    Object Date  \\\n",
       "303002                                      NaN   10th century   \n",
       "196419                                      NaN  ca. 2051 B.C.   \n",
       "376474  https://www.wikidata.org/wiki/Q66734555          1880s   \n",
       "\n",
       "        Object Begin Date  Object End Date  \\\n",
       "303002                900              999   \n",
       "196419              -2051            -2051   \n",
       "376474               1880             1889   \n",
       "\n",
       "                                          Medium  \\\n",
       "303002  Linen, silk; plain weave, tapestry weave   \n",
       "196419                                      Clay   \n",
       "376474                        Albumen photograph   \n",
       "\n",
       "                                               Dimensions  \\\n",
       "303002  Textile: L. 13 1/2 in. (34.3 cm)\\r\\n          ...   \n",
       "196419           2.8 x 2.6 x 1.4 cm (1 1/8 x 1 x 1/2 in.)   \n",
       "376474            Sheet: 2 1/2 × 1 3/8 in. (6.4 × 3.5 cm)   \n",
       "\n",
       "                                              Credit Line Geography Type City  \\\n",
       "303002                      Gift of George D. Pratt, 1931  Attributed to  NaN   \n",
       "196419                                     Purchase, 1886            NaN  NaN   \n",
       "376474  The Jefferson R. Burdick Collection, Gift of J...            NaN  NaN   \n",
       "\n",
       "       State County Country       Region  \\\n",
       "303002   NaN    NaN   Egypt          NaN   \n",
       "196419   NaN    NaN     NaN  Mesopotamia   \n",
       "376474   NaN    NaN     NaN          NaN   \n",
       "\n",
       "                                           Subregion Locale Locus Excavation  \\\n",
       "303002                                           NaN    NaN   NaN        NaN   \n",
       "196419  probably from Drehem (ancient Puzrish-Dagan)    NaN   NaN        NaN   \n",
       "376474                                           NaN    NaN   NaN        NaN   \n",
       "\n",
       "       River          Classification Rights and Reproduction  \\\n",
       "303002   NaN          Textiles-Woven                     NaN   \n",
       "196419   NaN  Clay-Tablets-Inscribed                     NaN   \n",
       "376474   NaN    Photographs|Ephemera                     NaN   \n",
       "\n",
       "                                            Link Resource Object Wikidata URL  \\\n",
       "303002  http://www.metmuseum.org/art/collection/search...                 NaN   \n",
       "196419  http://www.metmuseum.org/art/collection/search...                 NaN   \n",
       "376474  http://www.metmuseum.org/art/collection/search...                 NaN   \n",
       "\n",
       "        Metadata Date                                Repository  \\\n",
       "303002            NaN  Metropolitan Museum of Art, New York, NY   \n",
       "196419            NaN  Metropolitan Museum of Art, New York, NY   \n",
       "376474            NaN  Metropolitan Museum of Art, New York, NY   \n",
       "\n",
       "                             Tags  \\\n",
       "303002                        NaN   \n",
       "196419                  Cuneiform   \n",
       "376474  Portraits|Women|Actresses   \n",
       "\n",
       "                                             Tags AAT URL  \\\n",
       "303002                                                NaN   \n",
       "196419          http://vocab.getty.edu/page/aat/300028711   \n",
       "376474  http://vocab.getty.edu/page/aat/300015637|http...   \n",
       "\n",
       "                                        Tags Wikidata URL  \n",
       "303002                                                NaN  \n",
       "196419                 https://www.wikidata.org/wiki/Q401  \n",
       "376474  https://www.wikidata.org/wiki/Q134307|https://...  "
      ]
     },
     "metadata": {},
     "output_type": "display_data"
    }
   ],
   "source": [
    "pd.set_option(\"max_columns\", None)\n",
    "display(df.sample(n=3))\n",
    "pd.reset_option(\"max_columns\")"
   ]
  },
  {
   "attachments": {},
   "cell_type": "markdown",
   "metadata": {},
   "source": [
    "### 2. Feature consistency check"
   ]
  },
  {
   "cell_type": "code",
   "execution_count": 6,
   "metadata": {},
   "outputs": [],
   "source": [
    "def explore_floats(df, feature):\n",
    "    \"\"\"Print basic information about values of type float\"\"\"\n",
    "    float_filter = df[feature].apply(lambda x: isinstance(x, float))\n",
    "    float_num = float_filter.sum()\n",
    "    float_nan = df[float_filter][feature].isnull().sum()\n",
    "    float_dec = df[float_filter][feature].notnull().sum()\n",
    "    row_num = df.shape[0]\n",
    "    print(f\"Float values - number of floats: {float_num} (~ {float_num/row_num*100:.2f}% of rows)\",\n",
    "        f\"nan values: {float_nan} (~ {float_nan/float_num*100:.2f}% of floats ~ {float_nan/row_num*100:.2f}% of rows)\",\n",
    "        f\"Decimal numbers: {float_dec} (~ {float_dec/float_num*100:.2f}% of floats)\\n\", sep=\"\\n\"\n",
    "    )\n",
    "    return None\n",
    "\n",
    "def explore_strings(df, feature):\n",
    "    \"\"\"Print basic information about values of type string\"\"\"\n",
    "    string_filter = df[feature].apply(lambda x: isinstance(x, str))\n",
    "    string_number = string_filter.sum()\n",
    "    string_numeric = df[string_filter][feature].str.isnumeric().sum()\n",
    "    string_oth = (~df[string_filter][feature].str.isnumeric()).sum()\n",
    "    row_num = df.shape[0]\n",
    "    print(f\"String values - number of string values: {string_number} (~ {string_number/row_num*100:.2f}% of rows)\",\n",
    "            f\"Numeric strings: {string_numeric} (~ {string_numeric/string_number*100:.2f}% of strings)\",\n",
    "            f\"Other strings: {string_oth} (~ {string_oth/string_number*100:.2f}% of strings)\\n\", sep=\"\\n\"\n",
    "    )\n",
    "    print(\"Number of unique other strings: {}, the strings: {}\\n\".format(\n",
    "        df[string_filter][(~df[string_filter][feature].str.isnumeric())][feature].nunique(),\n",
    "        df[string_filter][(~df[string_filter][feature].str.isnumeric())][feature].unique()\n",
    "    ))\n",
    "    return None\n",
    "\n",
    "def explore_other(df, feature, feature_type):\n",
    "    \"\"\"Print number of values of given type\"\"\"\n",
    "    none_filter = df[feature].apply(lambda x: isinstance(x, feature_type))\n",
    "    none_number = none_filter.sum()\n",
    "    row_num = df.shape[0]\n",
    "    print(\"{} values - number: {} (~ {:.2f}% of rows)\\n\".format(\n",
    "        feature_type, none_number, none_number/row_num*100\n",
    "    ))\n",
    "\n",
    "\n",
    "def explore_feature(df, feature):\n",
    "    \"\"\"Print basic information about given feature such as its value types, and more\"\"\"\n",
    "    print(\"Number of rows: {}\\nNumber of unique values (nan included): {}\\n\".format(\n",
    "        df.shape[0], df[feature].nunique(False)\n",
    "    ))\n",
    "\n",
    "    display(\"Sample of how the values look like:\",\n",
    "        df[feature].sample(n=10)\n",
    "    )\n",
    "    # print(f\"Type of \\\"{feature}\\\" feature: {df.dtypes[feature]}\\n\")\n",
    "\n",
    "    value_types = df[feature].apply(lambda x: type(x)).unique()\n",
    "    print(f\"Value types: {value_types}\\n\")\n",
    "\n",
    "    for value_type in value_types:\n",
    "        if (value_type is float):\n",
    "            explore_floats(df, feature)\n",
    "        elif (value_type is str):\n",
    "            explore_strings(df, feature)\n",
    "        else:\n",
    "            explore_other(df, feature, value_type)\n",
    "    return None"
   ]
  },
  {
   "attachments": {},
   "cell_type": "markdown",
   "metadata": {},
   "source": [
    "### Feature \"Gallery Number\"\n",
    "\n",
    "#### Check findings\n",
    "\n",
    "- Type of **\"Gallery Number\"** feature was understood as object.\n",
    "- Altogether there are **590** unique values (591 with nan value).\n",
    "- There are two types of values, **string** values and **float** values.\n",
    "    - Float values are most of the rows (96.8%) out of which 90% are **not a number** values.\n",
    "    - String values makes 3.2% of the rows, most of them are contains numeric characters only 99.9%\n",
    "        - **15 (4 unique)** strings are not numeric, namely they are \\[*'in Great Hall' 'Petrie Ct. Café' 'on Fifth Avenue' 'Façade'*\\].\n",
    "\n",
    "#### Conclusion\n",
    "\n",
    "- The values are **not consistent**.\n",
    "\n",
    "#### Proposed solution\n",
    "\n",
    "- **Replace** the four \"labeled\" names with **numbers** and **convert** all values to **float** type (because of nans).\n",
    "    - In case nan is a problem, replace it with some appropriete number (then the numbers can be integers also)."
   ]
  },
  {
   "cell_type": "code",
   "execution_count": 7,
   "metadata": {},
   "outputs": [
    {
     "name": "stdout",
     "output_type": "stream",
     "text": [
      "Number of rows: 474526\n",
      "Number of unique values (nan included): 591\n",
      "\n"
     ]
    },
    {
     "data": {
      "text/plain": [
       "'Sample of how the values look like:'"
      ]
     },
     "metadata": {},
     "output_type": "display_data"
    },
    {
     "data": {
      "text/plain": [
       "36236     NaN\n",
       "197043    NaN\n",
       "412751    NaN\n",
       "250975    NaN\n",
       "361019    122\n",
       "448824    NaN\n",
       "143099    NaN\n",
       "267427    NaN\n",
       "247028    NaN\n",
       "278429    NaN\n",
       "Name: Gallery Number, dtype: object"
      ]
     },
     "metadata": {},
     "output_type": "display_data"
    },
    {
     "name": "stdout",
     "output_type": "stream",
     "text": [
      "Value types: [<class 'float'> <class 'str'>]\n",
      "\n",
      "Float values - number of floats: 459353 (~ 96.80% of rows)\n",
      "nan values: 420140 (~ 91.46% of floats ~ 88.54% of rows)\n",
      "Decimal numbers: 39213 (~ 8.54% of floats)\n",
      "\n",
      "String values - number of string values: 15173 (~ 3.20% of rows)\n",
      "Numeric strings: 15158 (~ 99.90% of strings)\n",
      "Other strings: 15 (~ 0.10% of strings)\n",
      "\n",
      "Number of unique other strings: 4, the strings: ['in Great Hall' 'Petrie Ct. Café' 'on Fifth Avenue' 'Façade']\n",
      "\n"
     ]
    }
   ],
   "source": [
    "explore_feature(df, \"Gallery Number\")"
   ]
  },
  {
   "attachments": {},
   "cell_type": "markdown",
   "metadata": {},
   "source": [
    "### Feature \"AccessionYear\"\n",
    "\n",
    "Disclaimer - very similar to previous feature \"Gallery Number\"\n",
    "\n",
    "#### Check findings\n",
    "\n",
    "- Type of **\"AccessionYear\"** feature was understood as object..\n",
    "- There are **264** unique values (265 with not a number value)\n",
    "- Values are either:  **floats, integers** or, **strings**.\n",
    "    - Float values makes most of the rows (89.78%) out of which there are only 0.93% of nan values.\n",
    "    - 16384 values (3.45%) are integers\n",
    "    - There are 32127 strings (6.77%) where only 2 are can not be considered as numeric. namely \\[*'2005-02-15' '2020-03-23'*\\].\n",
    "\n",
    "#### Conclusion\n",
    "\n",
    "- The values are **not consistent**.\n",
    "\n",
    "#### Proposed solution\n",
    "\n",
    "- Convert all values to  **datetime** type.\n",
    "    - In case datetime is not appropriete solution, then extract years from the two abnormalities and convert all values float (because of the nan values)."
   ]
  },
  {
   "cell_type": "code",
   "execution_count": 8,
   "metadata": {},
   "outputs": [
    {
     "name": "stdout",
     "output_type": "stream",
     "text": [
      "Number of rows: 474526\n",
      "Number of unique values (nan included): 265\n",
      "\n"
     ]
    },
    {
     "data": {
      "text/plain": [
       "'Sample of how the values look like:'"
      ]
     },
     "metadata": {},
     "output_type": "display_data"
    },
    {
     "data": {
      "text/plain": [
       "435281    1955\n",
       "211054    1941\n",
       "142653    1874\n",
       "4541      1986\n",
       "35301     1914\n",
       "211721    1972\n",
       "454538    1963\n",
       "367557    1930\n",
       "348523    1910\n",
       "49721     1919\n",
       "Name: AccessionYear, dtype: object"
      ]
     },
     "metadata": {},
     "output_type": "display_data"
    },
    {
     "name": "stdout",
     "output_type": "stream",
     "text": [
      "Value types: [<class 'float'> <class 'int'> <class 'str'>]\n",
      "\n",
      "Float values - number of floats: 426015 (~ 89.78% of rows)\n",
      "nan values: 3966 (~ 0.93% of floats ~ 0.84% of rows)\n",
      "Decimal numbers: 422049 (~ 99.07% of floats)\n",
      "\n",
      "<class 'int'> values - number: 16384 (~ 3.45% of rows)\n",
      "\n",
      "String values - number of string values: 32127 (~ 6.77% of rows)\n",
      "Numeric strings: 32125 (~ 99.99% of strings)\n",
      "Other strings: 2 (~ 0.01% of strings)\n",
      "\n",
      "Number of unique other strings: 2, the strings: ['2005-02-15' '2020-03-23']\n",
      "\n"
     ]
    }
   ],
   "source": [
    "explore_feature(df, \"AccessionYear\")"
   ]
  },
  {
   "attachments": {},
   "cell_type": "markdown",
   "metadata": {},
   "source": [
    "### Feature \"Object Name\"\n",
    "\n",
    "#### Check findings\n",
    "\n",
    "- The type of feature **\"Object Name\"** was resolved as an object type. \n",
    "- Values are one of these **two** types:  **float** and **string**.\n",
    "    - Most of the values (473172 ~ 99.71%) are type of string\n",
    "    - Zero values are numerical (i.e. 0 string values are numeric adn and all float valeus are **not a number**)\n",
    "    - About **30 percent** values are **not a number**.\n",
    "- There are **28076** unique values (28077 with nan).\n",
    "    - When the comparism is made case-insensitive, the number of unique values declines to **27253**.\n",
    "    - When all the unicode-non-word characters are extracted, the nubmer of unique values lowers to **26158**.\n",
    "- Example of inconsistency in naming of two identical items (at least I hope they should be the same names):\n",
    "    - The difference is either in **spelling**, usage of **special characters**, **meta characters** (*italics*) or in **level of description**.\n",
    "```\n",
    "'Blade and mounting for a dagger (Tanōt)',\n",
    "'Blade and mounting for a dagger (Tanto)', 'Dagger (Tantō)',\n",
    "'Blade and mounting for a short sword (Wakizashi) \\r\\n',\n",
    "'Blade and mounting for a short sword (<i>Wakizashi</i>)',\n",
    "'Blade and mounting for a slung sword (Tachi)',\n",
    "'Blade and mounting for a short sword (Wakazashi)',\n",
    "'Blade and mounting for a short sword (wakizashi)',\n",
    "'Blade and mounting for a short sword (Waskizashi)',\n",
    "```\n",
    "\n",
    "#### Conclusion\n",
    "\n",
    "- The values are **not consistent**.\n",
    "\n",
    "#### Proposed solution\n",
    "\n",
    "- The approach would be chosed based on **choice** whether **it is better** to **not identify same names** (1), or **merge names which are different** indeed (2).\n",
    "    1. Use similar technique (regex pattern) to detect names that looks very likely as an **synonyms**.\n",
    "        - The regex pattern used for extracting of the irrelevant symbols **was not safe**, so it is possible it made two different object names **look the same**. \n",
    "            - However as it extracted only unicode-non-word symbols, it needed a bit of unluck to happen.\n",
    "        - This technique is **far from perfect** as it does not help with word orders or word synonyms.\n",
    "    2. For such results it would need some tool to extract key words from the string (something similar to what google do)\n",
    "        - Needed to say it would probably make many object names **look the same** even when they are not.\n",
    "- Both approaches would **need** an **art expert consultation** after the synonyms detection to ask whether they are also interchangeable for an **art expert** or only for a **art layman**."
   ]
  },
  {
   "cell_type": "code",
   "execution_count": 9,
   "metadata": {},
   "outputs": [
    {
     "name": "stdout",
     "output_type": "stream",
     "text": [
      "Number of rows: 474526\n",
      "Number of unique values (nan included): 28077\n",
      "\n"
     ]
    },
    {
     "data": {
      "text/plain": [
       "'Sample of how the values look like:'"
      ]
     },
     "metadata": {},
     "output_type": "display_data"
    },
    {
     "data": {
      "text/plain": [
       "429863    Book Print Ornament & Architecture\n",
       "109303                                Teapot\n",
       "83532                                 Collar\n",
       "218665                                  Book\n",
       "126972                                 Piece\n",
       "158741                            Photograph\n",
       "439854                       Print, baseball\n",
       "284444                                 Print\n",
       "56129                                Fitting\n",
       "202058                 Cuneiform tablet case\n",
       "Name: Object Name, dtype: object"
      ]
     },
     "metadata": {},
     "output_type": "display_data"
    },
    {
     "name": "stdout",
     "output_type": "stream",
     "text": [
      "Value types: [<class 'str'> <class 'float'>]\n",
      "\n",
      "String values - number of string values: 473172 (~ 99.71% of rows)\n",
      "Numeric strings: 0 (~ 0.00% of strings)\n",
      "Other strings: 473172 (~ 100.00% of strings)\n",
      "\n",
      "Number of unique other strings: 28076, the strings: ['Coin' 'Peso' 'Centavos' ...\n",
      " 'Inked impression of engraved firearms ornament'\n",
      " '11 Stained Glass Fragments' '108 Chairs and Chair Fragments']\n",
      "\n",
      "Float values - number of floats: 1354 (~ 0.29% of rows)\n",
      "nan values: 1354 (~ 100.00% of floats ~ 0.29% of rows)\n",
      "Decimal numbers: 0 (~ 0.00% of floats)\n",
      "\n"
     ]
    },
    {
     "data": {
      "text/plain": [
       "'Number of all lowercase unique values: 27253'"
      ]
     },
     "metadata": {},
     "output_type": "display_data"
    },
    {
     "data": {
      "text/plain": [
       "'Number of all lowercase unique values with extracted all non-word literals: 26158'"
      ]
     },
     "metadata": {},
     "output_type": "display_data"
    },
    {
     "name": "stdout",
     "output_type": "stream",
     "text": [
      "Example of inconsistent names, where the difference is either in spelling,\n",
      "usage of special characters, meta characters (italics) or in level of description:\n"
     ]
    },
    {
     "data": {
      "text/plain": [
       "array(['Blade and mounting for a dagger (Tanōt)',\n",
       "       'Blade and mounting for a dagger (Tanto)', 'Dagger (Tantō)',\n",
       "       'Blade and mounting for a short sword (Wakizashi) \\r\\n',\n",
       "       'Blade and mounting for a short sword (<i>Wakizashi</i>)',\n",
       "       'Blade and mounting for a slung sword (Tachi)',\n",
       "       'Blade and mounting for a short sword (Wakazashi)',\n",
       "       'Blade and mounting for a short sword (wakizashi)',\n",
       "       'Blade and mounting for a short sword (Waskizashi)'], dtype=object)"
      ]
     },
     "metadata": {},
     "output_type": "display_data"
    }
   ],
   "source": [
    "feature = \"Object Name\"\n",
    "\n",
    "explore_feature(df, feature)\n",
    "\n",
    "display(\"Number of all lowercase unique values: {}\".format(\n",
    "    df[feature].str.lower().nunique()\n",
    "))\n",
    "display(\"Number of all lowercase unique values with extracted all non-word literals: {}\".format(\n",
    "    df[feature].str.lower().str.replace(r\"\\W\", \"\").nunique()\n",
    "))\n",
    "\n",
    "print(\"\"\"Example of inconsistent names, where the difference is either in spelling,\n",
    "usage of special characters, meta characters (italics) or in level of description:\"\"\")\n",
    "display(df[~df[feature].str.lower().str.replace(r\"\\s|-|,|\\.|'|’\", \"\")\\\n",
    "    .isin(df[feature].str.lower().str.replace(r\"\\W\", \"\").unique())][feature].unique()[15:24])"
   ]
  },
  {
   "attachments": {},
   "cell_type": "markdown",
   "metadata": {},
   "source": [
    "### Feature \"Object Number\"\n",
    "\n",
    "#### Check findings\n",
    "\n",
    "- The feature **\"Object Number\"** or \"Accesion number\" as they call this feature on metmuseum websites was understood as object type. \n",
    "- All values are **string** type.\n",
    "- From all the **474526** there are **471737** unique values in other words there are **2789** duplicated values.\n",
    "- At first I thought the format should look like `1979.486.1a–c` or `Inst. 1979.486.1a,b`, the following python re regex describes what I thought are consistent values\n",
    "```regex\n",
    "'\\\\A\\\\s*(inst\\\\.\\\\s*)?(\\\\d+(\\\\.\\\\d+)*)\\\\s*([a-zA-Z]+(([-–]|(\\\\s*,\\\\s*))[a-zA-Z]+)?)?\\\\s*\\\\Z'\n",
    "```\n",
    "    - there are **63072** values that are not matched by this pattern one example of such a value is `69.194.153, .163`\n",
    "\n",
    "#### Conclusion\n",
    "\n",
    "- The values are **consistent**.\n",
    "    - There are only recommendations how the accession number should look like, as all the values are strings, where the same string means the objects came from the same donor, the values look consistent.\n",
    "    "
   ]
  },
  {
   "cell_type": "code",
   "execution_count": 10,
   "metadata": {},
   "outputs": [
    {
     "data": {
      "text/plain": [
       "'Number of rows that does not match expected accession number pattern: 63072'"
      ]
     },
     "metadata": {},
     "output_type": "display_data"
    },
    {
     "data": {
      "text/plain": [
       "'Examples of \"Object Number\" values that does not match expected accesion number pattern:'"
      ]
     },
     "metadata": {},
     "output_type": "display_data"
    },
    {
     "data": {
      "text/plain": [
       "array(['50.130.149u recto', 'Inst.X.6.1', '10.125.599z (22)', 'X.407',\n",
       "       '10.125.599 z(19)', '46.67.54a, .50b', '46.67.55a, .51b',\n",
       "       '50.130.149n recto', '50.130.149n verso', '50.130.149o verso'],\n",
       "      dtype=object)"
      ]
     },
     "metadata": {},
     "output_type": "display_data"
    }
   ],
   "source": [
    "feature = \"Object Number\"\n",
    "\n",
    "# explore_feature(df, feature)\n",
    "\n",
    "inst = r\"(inst\\.\\s*)\"\n",
    "number = r\"(\\d+(\\.\\d+)*)\"\n",
    "letter = r\"[a-zA-Z]\"\n",
    "dash = r\"[-–]\"\n",
    "comma = r\"(\\s*,\\s*)\"\n",
    "letters = fr\"({letter}+(({dash}|{comma}){letter}+)?)\"\n",
    "pattern = fr\"\\A\\s*{inst}?{number}\\s*{letters}?\\s*\\Z\"\n",
    "\n",
    "# display(\"The accesion number regex pattern: {}\".format(pattern))\n",
    "\n",
    "object_number_filter = df[feature].str.match(pattern, case=False)==True\n",
    "\n",
    "display(\"Number of rows that does not match expected accession number pattern: {}\".format(\n",
    "    df[~object_number_filter].shape[0]\n",
    "))\n",
    "display(f\"Examples of \\\"{feature}\\\" values that does not match expected accesion number pattern:\",\n",
    "    df[~object_number_filter][feature].unique()[:10]\n",
    ")"
   ]
  },
  {
   "attachments": {},
   "cell_type": "markdown",
   "metadata": {},
   "source": [
    "## 3. Feature integrity problems\n",
    "\n",
    "My selected features are (1) \"Object Number\", \"AccessionYear\" and (2) \"Object Begin Date\" and \"Object End Date\".\n",
    "I am going to check whether the dates are logically correct:\n",
    "1. (\"Object Number\" (number before first dot) == \"AccessionYear\")\n",
    "    - It is general rule that the first number before dot of the accession number (\"Object Number\") should be the year when the object was added to the gallery. (It is not a hard rule however we could use this knowledge to complete missing information, or check the current one)\n",
    "2. Check whether the features holds this obvious rule \"Object Begin Date\" <= \"Object End Date\"\n",
    "    - Obvious truths are best for checking first"
   ]
  },
  {
   "attachments": {},
   "cell_type": "markdown",
   "metadata": {},
   "source": [
    "### \"Object Number\" (number before first dot) == \"AccessionYear\""
   ]
  },
  {
   "cell_type": "code",
   "execution_count": 11,
   "metadata": {},
   "outputs": [],
   "source": [
    "ON = \"Object Number\"\n",
    "AY = \"AccessionYear\"\n",
    "BEF = \"before\"\n",
    "AYE = \"accession_year_extracted\"\n",
    "AFT = \"after\"\n",
    "AYC = \"accession_year_converted\"\n",
    "AYS = \"accession_year_string\""
   ]
  },
  {
   "cell_type": "code",
   "execution_count": 12,
   "metadata": {},
   "outputs": [
    {
     "data": {
      "text/plain": [
       "'Number of rows, that does not match the extract pattern: 10032'"
      ]
     },
     "metadata": {},
     "output_type": "display_data"
    },
    {
     "data": {
      "text/plain": [
       "'Values that does not match the extract pattern:'"
      ]
     },
     "metadata": {},
     "output_type": "display_data"
    },
    {
     "data": {
      "text/plain": [
       "46138                   JP1899\n",
       "467674     Burdick 537, W626.7\n",
       "255781                  WW.309\n",
       "423248    Burdick 218, N232.35\n",
       "412284    Burdick 230, N668.74\n",
       "Name: Object Number, dtype: object"
      ]
     },
     "metadata": {},
     "output_type": "display_data"
    }
   ],
   "source": [
    "modified_df = original_df.copy()\n",
    "df = modified_df\n",
    "feature = ON\n",
    "\n",
    "# extract_pattern = fr\"(?P<{BEF}>\\D*)(?P<{AYE}>(?<!X\\.)\\d+|X(?=\\.\\d))(?P<{AFT}>.*)\\Z\"\n",
    "# extract_pattern = fr\"(?P<{BEF}>.*)(?P<{AYE}>(?<!\\d)(\\d{{2}}){{1,2}}(?=\\.|\\Z|\\s)|X)(?P<{AFT}>.*)\"\n",
    "extract_pattern = fr\"(?P<{BEF}>.*)(?P<{AYE}>(?<!.[\\w-]|[^ti]\\.)(\\d{{2}}){{1,2}}(?=\\.|\\Z|\\s)|X)(?P<{AFT}>.*)\"\n",
    "\n",
    "extract_pattern = fr\"(?P<{BEF}>\\D*)(?P<{AYE}>(?<!.[\\w-]|[^ti]\\.)(\\d{{1,4}}|X)(?=\\.))(?P<{AFT}>.*)\"\n",
    "extract_pattern = fr\"(?P<{BEF}>\\D*(t\\.|i\\.|\\s|\\A))(?P<{AYE}>(\\d{{1,4}}|X)(?=\\.))(?P<{AFT}>.*)\"\n",
    "\n",
    "match_filter = df[feature].str.match(extract_pattern, case=False) == True\n",
    "\n",
    "display(\"Number of rows, that does not match the extract pattern: {}\".format(\n",
    "    (~match_filter).sum()\n",
    "))\n",
    "\n",
    "display(\"Values that does not match the extract pattern:\",\n",
    "    df[~match_filter][feature].sample(n=5)\n",
    ")\n",
    "\n",
    "df = df.join(df[feature].str.extract(extract_pattern, flags=re.IGNORECASE))\n",
    "\n",
    "df[AYC] = df[AYE].apply(\n",
    "    lambda x: '' if (isinstance(x, float) or (not x.isnumeric())) else x\n",
    ")\n",
    "\n",
    "modified_df = df"
   ]
  },
  {
   "cell_type": "code",
   "execution_count": 13,
   "metadata": {},
   "outputs": [],
   "source": [
    "df = modified_df\n",
    "\n",
    "def convert_to_year_string(x):\n",
    "    if (isinstance(x, float) and np.isnan(x)):\n",
    "        return ''\n",
    "    elif (x in ['2005-02-15','2020-03-23']):\n",
    "        return str(int(x[:4]))\n",
    "    else:\n",
    "        return str(int(x))\n",
    "\n",
    "df[AYS] = pd.DataFrame(df[AY].apply(convert_to_year_string)).rename(columns={AY:AYS})\n",
    "\n",
    "modified_df = df"
   ]
  },
  {
   "cell_type": "code",
   "execution_count": 14,
   "metadata": {},
   "outputs": [
    {
     "data": {
      "text/plain": [
       "'Sample of how the values looks like (the important are the last two):'"
      ]
     },
     "metadata": {},
     "output_type": "display_data"
    },
    {
     "data": {
      "text/html": [
       "<div>\n",
       "<style scoped>\n",
       "    .dataframe tbody tr th:only-of-type {\n",
       "        vertical-align: middle;\n",
       "    }\n",
       "\n",
       "    .dataframe tbody tr th {\n",
       "        vertical-align: top;\n",
       "    }\n",
       "\n",
       "    .dataframe thead th {\n",
       "        text-align: right;\n",
       "    }\n",
       "</style>\n",
       "<table border=\"1\" class=\"dataframe\">\n",
       "  <thead>\n",
       "    <tr style=\"text-align: right;\">\n",
       "      <th></th>\n",
       "      <th>Object Number</th>\n",
       "      <th>AccessionYear</th>\n",
       "      <th>before</th>\n",
       "      <th>accession_year_extracted</th>\n",
       "      <th>after</th>\n",
       "      <th>accession_year_converted</th>\n",
       "      <th>accession_year_string</th>\n",
       "    </tr>\n",
       "  </thead>\n",
       "  <tbody>\n",
       "    <tr>\n",
       "      <th>44236</th>\n",
       "      <td>13.100.115</td>\n",
       "      <td>1913</td>\n",
       "      <td></td>\n",
       "      <td>13</td>\n",
       "      <td>.100.115</td>\n",
       "      <td>13</td>\n",
       "      <td>1913</td>\n",
       "    </tr>\n",
       "    <tr>\n",
       "      <th>385212</th>\n",
       "      <td>63.550.88</td>\n",
       "      <td>1963</td>\n",
       "      <td></td>\n",
       "      <td>63</td>\n",
       "      <td>.550.88</td>\n",
       "      <td>63</td>\n",
       "      <td>1963</td>\n",
       "    </tr>\n",
       "    <tr>\n",
       "      <th>65463</th>\n",
       "      <td>2013.881</td>\n",
       "      <td>2013</td>\n",
       "      <td></td>\n",
       "      <td>2013</td>\n",
       "      <td>.881</td>\n",
       "      <td>2013</td>\n",
       "      <td>2013</td>\n",
       "    </tr>\n",
       "    <tr>\n",
       "      <th>56159</th>\n",
       "      <td>2002.201.54</td>\n",
       "      <td>2002</td>\n",
       "      <td></td>\n",
       "      <td>2002</td>\n",
       "      <td>.201.54</td>\n",
       "      <td>2002</td>\n",
       "      <td>2002</td>\n",
       "    </tr>\n",
       "  </tbody>\n",
       "</table>\n",
       "</div>"
      ],
      "text/plain": [
       "       Object Number AccessionYear before accession_year_extracted     after  \\\n",
       "44236     13.100.115          1913                              13  .100.115   \n",
       "385212     63.550.88          1963                              63   .550.88   \n",
       "65463       2013.881          2013                            2013      .881   \n",
       "56159    2002.201.54          2002                            2002   .201.54   \n",
       "\n",
       "       accession_year_converted accession_year_string  \n",
       "44236                        13                  1913  \n",
       "385212                       63                  1963  \n",
       "65463                      2013                  2013  \n",
       "56159                      2002                  2002  "
      ]
     },
     "metadata": {},
     "output_type": "display_data"
    },
    {
     "name": "stdout",
     "output_type": "stream",
     "text": [
      "Number of cases, where AccessionYear ends with extracted Object Number: 470627\n",
      " Number of cases, where the the accesion year differs form extracted object number: 3899\n",
      "\n"
     ]
    },
    {
     "data": {
      "text/plain": [
       "'Twenty examples, where the values are not consistent:'"
      ]
     },
     "metadata": {},
     "output_type": "display_data"
    },
    {
     "data": {
      "text/html": [
       "<div>\n",
       "<style scoped>\n",
       "    .dataframe tbody tr th:only-of-type {\n",
       "        vertical-align: middle;\n",
       "    }\n",
       "\n",
       "    .dataframe tbody tr th {\n",
       "        vertical-align: top;\n",
       "    }\n",
       "\n",
       "    .dataframe thead th {\n",
       "        text-align: right;\n",
       "    }\n",
       "</style>\n",
       "<table border=\"1\" class=\"dataframe\">\n",
       "  <thead>\n",
       "    <tr style=\"text-align: right;\">\n",
       "      <th></th>\n",
       "      <th>Object Number</th>\n",
       "      <th>AccessionYear</th>\n",
       "      <th>accession_year_converted</th>\n",
       "      <th>accession_year_string</th>\n",
       "    </tr>\n",
       "  </thead>\n",
       "  <tbody>\n",
       "    <tr>\n",
       "      <th>68334</th>\n",
       "      <td>1992.9.3a, b</td>\n",
       "      <td>1991</td>\n",
       "      <td>1992</td>\n",
       "      <td>1991</td>\n",
       "    </tr>\n",
       "    <tr>\n",
       "      <th>2844</th>\n",
       "      <td>Inst.67.15.68a, b</td>\n",
       "      <td>NaN</td>\n",
       "      <td>67</td>\n",
       "      <td></td>\n",
       "    </tr>\n",
       "    <tr>\n",
       "      <th>6812</th>\n",
       "      <td>Inst.67.15.120</td>\n",
       "      <td>NaN</td>\n",
       "      <td>67</td>\n",
       "      <td></td>\n",
       "    </tr>\n",
       "    <tr>\n",
       "      <th>179661</th>\n",
       "      <td>2005.100.364.15</td>\n",
       "      <td>1999</td>\n",
       "      <td>2005</td>\n",
       "      <td>1999</td>\n",
       "    </tr>\n",
       "    <tr>\n",
       "      <th>391278</th>\n",
       "      <td>24.41.1</td>\n",
       "      <td>1927</td>\n",
       "      <td>24</td>\n",
       "      <td>1927</td>\n",
       "    </tr>\n",
       "    <tr>\n",
       "      <th>375788</th>\n",
       "      <td>25.78.634</td>\n",
       "      <td>1928</td>\n",
       "      <td>25</td>\n",
       "      <td>1928</td>\n",
       "    </tr>\n",
       "    <tr>\n",
       "      <th>474470</th>\n",
       "      <td>1976.602.66</td>\n",
       "      <td>1962</td>\n",
       "      <td>1976</td>\n",
       "      <td>1962</td>\n",
       "    </tr>\n",
       "    <tr>\n",
       "      <th>175688</th>\n",
       "      <td>2005.100.6</td>\n",
       "      <td>1999</td>\n",
       "      <td>2005</td>\n",
       "      <td>1999</td>\n",
       "    </tr>\n",
       "    <tr>\n",
       "      <th>472086</th>\n",
       "      <td>63.550.43</td>\n",
       "      <td>1962</td>\n",
       "      <td>63</td>\n",
       "      <td>1962</td>\n",
       "    </tr>\n",
       "    <tr>\n",
       "      <th>179520</th>\n",
       "      <td>2005.100.376.118</td>\n",
       "      <td>1999</td>\n",
       "      <td>2005</td>\n",
       "      <td>1999</td>\n",
       "    </tr>\n",
       "    <tr>\n",
       "      <th>472696</th>\n",
       "      <td>63.623.5(3)</td>\n",
       "      <td>NaN</td>\n",
       "      <td>63</td>\n",
       "      <td></td>\n",
       "    </tr>\n",
       "    <tr>\n",
       "      <th>1257</th>\n",
       "      <td>Inst.67.17.7</td>\n",
       "      <td>NaN</td>\n",
       "      <td>67</td>\n",
       "      <td></td>\n",
       "    </tr>\n",
       "    <tr>\n",
       "      <th>424491</th>\n",
       "      <td>2005.100.583 (66b)</td>\n",
       "      <td>1999</td>\n",
       "      <td>2005</td>\n",
       "      <td>1999</td>\n",
       "    </tr>\n",
       "    <tr>\n",
       "      <th>438118</th>\n",
       "      <td>47.139.94</td>\n",
       "      <td>1962</td>\n",
       "      <td>47</td>\n",
       "      <td>1962</td>\n",
       "    </tr>\n",
       "    <tr>\n",
       "      <th>436965</th>\n",
       "      <td>47.139.41</td>\n",
       "      <td>1966</td>\n",
       "      <td>47</td>\n",
       "      <td>1966</td>\n",
       "    </tr>\n",
       "    <tr>\n",
       "      <th>424557</th>\n",
       "      <td>2005.100.583 (6a)</td>\n",
       "      <td>1999</td>\n",
       "      <td>2005</td>\n",
       "      <td>1999</td>\n",
       "    </tr>\n",
       "    <tr>\n",
       "      <th>285241</th>\n",
       "      <td>21.11.1</td>\n",
       "      <td>1923</td>\n",
       "      <td>21</td>\n",
       "      <td>1923</td>\n",
       "    </tr>\n",
       "    <tr>\n",
       "      <th>195999</th>\n",
       "      <td>2008.190.72</td>\n",
       "      <td>2013</td>\n",
       "      <td>2008</td>\n",
       "      <td>2013</td>\n",
       "    </tr>\n",
       "    <tr>\n",
       "      <th>175841</th>\n",
       "      <td>2005.100.289</td>\n",
       "      <td>1999</td>\n",
       "      <td>2005</td>\n",
       "      <td>1999</td>\n",
       "    </tr>\n",
       "    <tr>\n",
       "      <th>175822</th>\n",
       "      <td>2005.100.102</td>\n",
       "      <td>1999</td>\n",
       "      <td>2005</td>\n",
       "      <td>1999</td>\n",
       "    </tr>\n",
       "  </tbody>\n",
       "</table>\n",
       "</div>"
      ],
      "text/plain": [
       "             Object Number AccessionYear accession_year_converted  \\\n",
       "68334         1992.9.3a, b          1991                     1992   \n",
       "2844     Inst.67.15.68a, b           NaN                       67   \n",
       "6812        Inst.67.15.120           NaN                       67   \n",
       "179661     2005.100.364.15          1999                     2005   \n",
       "391278             24.41.1          1927                       24   \n",
       "375788           25.78.634          1928                       25   \n",
       "474470         1976.602.66          1962                     1976   \n",
       "175688          2005.100.6          1999                     2005   \n",
       "472086           63.550.43          1962                       63   \n",
       "179520    2005.100.376.118          1999                     2005   \n",
       "472696         63.623.5(3)           NaN                       63   \n",
       "1257          Inst.67.17.7           NaN                       67   \n",
       "424491  2005.100.583 (66b)          1999                     2005   \n",
       "438118           47.139.94          1962                       47   \n",
       "436965           47.139.41          1966                       47   \n",
       "424557   2005.100.583 (6a)          1999                     2005   \n",
       "285241             21.11.1          1923                       21   \n",
       "195999         2008.190.72          2013                     2008   \n",
       "175841        2005.100.289          1999                     2005   \n",
       "175822        2005.100.102          1999                     2005   \n",
       "\n",
       "       accession_year_string  \n",
       "68334                   1991  \n",
       "2844                          \n",
       "6812                          \n",
       "179661                  1999  \n",
       "391278                  1927  \n",
       "375788                  1928  \n",
       "474470                  1962  \n",
       "175688                  1999  \n",
       "472086                  1962  \n",
       "179520                  1999  \n",
       "472696                        \n",
       "1257                          \n",
       "424491                  1999  \n",
       "438118                  1962  \n",
       "436965                  1966  \n",
       "424557                  1999  \n",
       "285241                  1923  \n",
       "195999                  2013  \n",
       "175841                  1999  \n",
       "175822                  1999  "
      ]
     },
     "metadata": {},
     "output_type": "display_data"
    },
    {
     "name": "stdout",
     "output_type": "stream",
     "text": [
      "Number of rows where AccessionYear value is missing and was successfully extracted from Object Name 1142\n"
     ]
    }
   ],
   "source": [
    "df = modified_df\n",
    "\n",
    "display(\"Sample of how the values looks like (the important are the last two):\",\n",
    "    df[[ON, AY, BEF, AYE, AFT, AYC, AYS]].sample(n=4)\n",
    ")\n",
    "\n",
    "equal_fiter = df.apply(lambda x: x[AYS].endswith(x[AYC]), axis=1)\n",
    "\n",
    "print(f\"Number of cases, where AccessionYear ends with extracted Object Number: {equal_fiter.sum()}\\n\",\n",
    "    f\"Number of cases, where the the accesion year differs form extracted object number: {(~equal_fiter).sum()}\\n\"\n",
    ")\n",
    "\n",
    "display(\"Twenty examples, where the values are not consistent:\",\n",
    "    df[~equal_fiter][[ON,AY,AYC,AYS]].sample(n=20)\n",
    ")\n",
    "\n",
    "print(\"Number of rows where AccessionYear value is missing and was successfully extracted from Object Name {}\".format(\n",
    "    (df[AY].isna() & ~equal_fiter).sum()\n",
    "))"
   ]
  },
  {
   "attachments": {},
   "cell_type": "markdown",
   "metadata": {},
   "source": [
    "### \"Object Begin Date\" <= \"Object End Date\"\n",
    "\n",
    "- both columns contains only integers, co it is very convinient to do the check\n",
    "- surprisingly, there are 188 objects, where the \"Object Begin Date\" <= \"Object End Date\" assumption is not true."
   ]
  },
  {
   "cell_type": "code",
   "execution_count": 15,
   "metadata": {},
   "outputs": [
    {
     "name": "stdout",
     "output_type": "stream",
     "text": [
      "Number of rows: 474526\n",
      "Number of unique values (nan included): 2050\n",
      "\n"
     ]
    },
    {
     "data": {
      "text/plain": [
       "'Sample of how the values look like:'"
      ]
     },
     "metadata": {},
     "output_type": "display_data"
    },
    {
     "data": {
      "text/plain": [
       "40796     1800\n",
       "228879    1649\n",
       "149854    -399\n",
       "435362    1844\n",
       "454794    1911\n",
       "32027     -500\n",
       "414116    1888\n",
       "13063     1810\n",
       "238246    1500\n",
       "314466     200\n",
       "Name: Object Begin Date, dtype: int64"
      ]
     },
     "metadata": {},
     "output_type": "display_data"
    },
    {
     "name": "stdout",
     "output_type": "stream",
     "text": [
      "Value types: [<class 'int'>]\n",
      "\n",
      "<class 'int'> values - number: 474526 (~ 100.00% of rows)\n",
      "\n",
      "Number of rows: 474526\n",
      "Number of unique values (nan included): 2015\n",
      "\n"
     ]
    },
    {
     "data": {
      "text/plain": [
       "'Sample of how the values look like:'"
      ]
     },
     "metadata": {},
     "output_type": "display_data"
    },
    {
     "data": {
      "text/plain": [
       "402209    1896\n",
       "392147    -450\n",
       "295245    1865\n",
       "343386   -1802\n",
       "206181    1999\n",
       "123782    1924\n",
       "371563    1599\n",
       "356906   -1975\n",
       "352721    -664\n",
       "367370    1911\n",
       "Name: Object End Date, dtype: int64"
      ]
     },
     "metadata": {},
     "output_type": "display_data"
    },
    {
     "name": "stdout",
     "output_type": "stream",
     "text": [
      "Value types: [<class 'int'>]\n",
      "\n",
      "<class 'int'> values - number: 474526 (~ 100.00% of rows)\n",
      "\n"
     ]
    }
   ],
   "source": [
    "df = original_df.copy()\n",
    "\n",
    "OBD = \"Object Begin Date\"\n",
    "OED = \"Object End Date\"\n",
    "\n",
    "explore_feature(df, OBD)\n",
    "\n",
    "explore_feature(df, OED)"
   ]
  },
  {
   "cell_type": "code",
   "execution_count": 16,
   "metadata": {},
   "outputs": [
    {
     "name": "stdout",
     "output_type": "stream",
     "text": [
      "In 188 cases the Object Begin Date value is larger Object End Date\n",
      "\n"
     ]
    },
    {
     "data": {
      "text/plain": [
       "'Ten examples of such items:'"
      ]
     },
     "metadata": {},
     "output_type": "display_data"
    },
    {
     "data": {
      "text/html": [
       "<div>\n",
       "<style scoped>\n",
       "    .dataframe tbody tr th:only-of-type {\n",
       "        vertical-align: middle;\n",
       "    }\n",
       "\n",
       "    .dataframe tbody tr th {\n",
       "        vertical-align: top;\n",
       "    }\n",
       "\n",
       "    .dataframe thead th {\n",
       "        text-align: right;\n",
       "    }\n",
       "</style>\n",
       "<table border=\"1\" class=\"dataframe\">\n",
       "  <thead>\n",
       "    <tr style=\"text-align: right;\">\n",
       "      <th></th>\n",
       "      <th>Object Begin Date</th>\n",
       "      <th>Object End Date</th>\n",
       "    </tr>\n",
       "  </thead>\n",
       "  <tbody>\n",
       "    <tr>\n",
       "      <th>355720</th>\n",
       "      <td>-664</td>\n",
       "      <td>-688</td>\n",
       "    </tr>\n",
       "    <tr>\n",
       "      <th>355740</th>\n",
       "      <td>-664</td>\n",
       "      <td>-688</td>\n",
       "    </tr>\n",
       "    <tr>\n",
       "      <th>155400</th>\n",
       "      <td>0</td>\n",
       "      <td>-600</td>\n",
       "    </tr>\n",
       "    <tr>\n",
       "      <th>355744</th>\n",
       "      <td>-664</td>\n",
       "      <td>-688</td>\n",
       "    </tr>\n",
       "    <tr>\n",
       "      <th>342242</th>\n",
       "      <td>-664</td>\n",
       "      <td>-688</td>\n",
       "    </tr>\n",
       "    <tr>\n",
       "      <th>347504</th>\n",
       "      <td>-664</td>\n",
       "      <td>-688</td>\n",
       "    </tr>\n",
       "    <tr>\n",
       "      <th>355752</th>\n",
       "      <td>-664</td>\n",
       "      <td>-688</td>\n",
       "    </tr>\n",
       "    <tr>\n",
       "      <th>202458</th>\n",
       "      <td>1814</td>\n",
       "      <td>0</td>\n",
       "    </tr>\n",
       "    <tr>\n",
       "      <th>355747</th>\n",
       "      <td>-664</td>\n",
       "      <td>-688</td>\n",
       "    </tr>\n",
       "    <tr>\n",
       "      <th>347140</th>\n",
       "      <td>600</td>\n",
       "      <td>0</td>\n",
       "    </tr>\n",
       "  </tbody>\n",
       "</table>\n",
       "</div>"
      ],
      "text/plain": [
       "        Object Begin Date  Object End Date\n",
       "355720               -664             -688\n",
       "355740               -664             -688\n",
       "155400                  0             -600\n",
       "355744               -664             -688\n",
       "342242               -664             -688\n",
       "347504               -664             -688\n",
       "355752               -664             -688\n",
       "202458               1814                0\n",
       "355747               -664             -688\n",
       "347140                600                0"
      ]
     },
     "metadata": {},
     "output_type": "display_data"
    }
   ],
   "source": [
    "df = original_df.copy()\n",
    "\n",
    "end_before_begin_filter = df[OBD] > df[OED]\n",
    "\n",
    "print('In {} cases the {} value is larger {}\\n'.format(\n",
    "    end_before_begin_filter.sum(), OBD, OED\n",
    "))\n",
    "\n",
    "display(\"Ten examples of such items:\",\n",
    "    df[end_before_begin_filter][[OBD, OED]].sample(n=10)\n",
    ")"
   ]
  },
  {
   "attachments": {},
   "cell_type": "markdown",
   "metadata": {},
   "source": [
    "## 4. Feature type conversions"
   ]
  },
  {
   "cell_type": "code",
   "execution_count": 17,
   "metadata": {},
   "outputs": [],
   "source": [
    "better_df = original_df.copy()"
   ]
  },
  {
   "cell_type": "code",
   "execution_count": 18,
   "metadata": {},
   "outputs": [],
   "source": [
    "def willWorkFloatToInt(df, feature):\n",
    "    float_filter = df[feature].apply(lambda x: isinstance(x, float) and (not pd.isna(x)))\n",
    "    \n",
    "    float_integer_filter = df[float_filter][feature].apply(str).str.match(r'.*\\.0\\Z')\n",
    "    print(\"Number of floats, that after decimal point has not zero digit: {}, list of these values: {}\\n\".format(\n",
    "        (~float_integer_filter).sum(), df[float_filter][~float_integer_filter][feature].unique()\n",
    "    ))"
   ]
  },
  {
   "attachments": {},
   "cell_type": "markdown",
   "metadata": {},
   "source": [
    "### Numeric conversion\n",
    "\n",
    "- \"Gallery Number\"\n",
    "- Try to convert \"Constiuent ID\"\n",
    "\n",
    "#### \"Gallery Number\"\n",
    "\n",
    "- As decribed in feature consistency check, the only string values are mapped to negative numbers.\n",
    "- Check for keeping the same number of unique values is performed (there are no negative numbers by default)."
   ]
  },
  {
   "cell_type": "code",
   "execution_count": 19,
   "metadata": {},
   "outputs": [
    {
     "name": "stdout",
     "output_type": "stream",
     "text": [
      "Number of values lesser than zero: 0\n",
      "\n",
      "Number of rows: 474526\n",
      "Number of unique values (nan included): 406\n",
      "\n"
     ]
    },
    {
     "data": {
      "text/plain": [
       "'Sample of how the values look like:'"
      ]
     },
     "metadata": {},
     "output_type": "display_data"
    },
    {
     "data": {
      "text/plain": [
       "92947       NaN\n",
       "235792      NaN\n",
       "346450    134.0\n",
       "131042      NaN\n",
       "112918      NaN\n",
       "133643      NaN\n",
       "22685       NaN\n",
       "35746       NaN\n",
       "421272      NaN\n",
       "446097      NaN\n",
       "Name: Gallery Number, dtype: float64"
      ]
     },
     "metadata": {},
     "output_type": "display_data"
    },
    {
     "name": "stdout",
     "output_type": "stream",
     "text": [
      "Value types: [<class 'float'>]\n",
      "\n",
      "Float values - number of floats: 474526 (~ 100.00% of rows)\n",
      "nan values: 420140 (~ 88.54% of floats ~ 88.54% of rows)\n",
      "Decimal numbers: 54386 (~ 11.46% of floats)\n",
      "\n"
     ]
    }
   ],
   "source": [
    "df = better_df\n",
    "\n",
    "feature = \"Gallery Number\"\n",
    "\n",
    "print(\"Number of values lesser than zero: {}\\n\".format(\n",
    "    (df[feature].apply(lambda x: x < 0 if isinstance(x, int) else False)).sum()\n",
    "))\n",
    "\n",
    "galleries_without_number = ['in Great Hall', 'Petrie Ct. Café', 'on Fifth Avenue', 'Façade']\n",
    "gallery_mapping = {-n: v for n, v in enumerate(galleries_without_number, start=1)}\n",
    "name_to_number = {value: key for key, value in gallery_mapping.items()}\n",
    "\n",
    "df[feature] = df[feature].apply(lambda x: name_to_number[x] if x in name_to_number else x)\n",
    "df[feature] = pd.to_numeric(df[feature])\n",
    "\n",
    "explore_feature(df, feature)\n",
    "\n",
    "better_df = df"
   ]
  },
  {
   "attachments": {},
   "cell_type": "markdown",
   "metadata": {},
   "source": [
    "#### \"Constiuent ID\"\n",
    "\n",
    "##### Check if all the values can be converted in a meaningful way\n",
    "\n",
    "- Are the strings comprehensible as integers?\n",
    "    - yes\n",
    "- Are all the floats integers?\n",
    "    - yes\n",
    "- Is there an negative IDs? (If not, the -1 is a solid candidate for missing value)\n",
    "    - no\n",
    "- Check the longest value, whether there are type with required precision.\n",
    "    - ok, the longest \"Constiuent ID\" has **730** digits, there will be **no numeric types**"
   ]
  },
  {
   "cell_type": "code",
   "execution_count": 20,
   "metadata": {},
   "outputs": [
    {
     "name": "stdout",
     "output_type": "stream",
     "text": [
      "Number of rows: 474526\n",
      "Number of unique values (nan included): 44848\n",
      "\n"
     ]
    },
    {
     "data": {
      "text/plain": [
       "'Sample of how the values look like:'"
      ]
     },
     "metadata": {},
     "output_type": "display_data"
    },
    {
     "data": {
      "text/plain": [
       "408989                     16490\n",
       "271963                     16225\n",
       "28674                        NaN\n",
       "456214                     16616\n",
       "319969                       NaN\n",
       "426298                      5483\n",
       "374572    7677616231616555516554\n",
       "109715                      3801\n",
       "11724                        293\n",
       "276300                 743266930\n",
       "Name: Constiuent ID, dtype: object"
      ]
     },
     "metadata": {},
     "output_type": "display_data"
    },
    {
     "name": "stdout",
     "output_type": "stream",
     "text": [
      "Value types: [<class 'str'> <class 'float'>]\n",
      "\n",
      "String values - number of string values: 272453 (~ 57.42% of rows)\n",
      "Numeric strings: 272453 (~ 100.00% of strings)\n",
      "Other strings: 0 (~ 0.00% of strings)\n",
      "\n",
      "Number of unique other strings: 0, the strings: []\n",
      "\n",
      "Float values - number of floats: 202073 (~ 42.58% of rows)\n",
      "nan values: 201854 (~ 99.89% of floats ~ 42.54% of rows)\n",
      "Decimal numbers: 219 (~ 0.11% of floats)\n",
      "\n",
      "Number of floats, that after decimal point has not zero digit: 2, list of these values: [1.6016516347316348e+16 1.6040316040516348e+16]\n",
      "\n",
      "Number of values containing minus sign 0\n",
      "\n",
      "Length of longest numeric string: 730.0, the string: ['7550472110818198971510149598294983031014969830510149716195116632610149816199490970162015101499980131627881654021626751661691645419801698017945977373698018980199802098021980229802316235016185816226016603498026166175165437980279802816540398030742059797316197516331216223598033980349803798038164087690839804016617298041166179980439804416617798045980479804898049911759797498053980559805716604216261916274716617416617316617397975755009806416612269672770827065698066162413166181980671621368304098069980707054598074980759807695583162389980779807998080797251638399808198082162305967039808398084980857060082364163864714461661831661849808716454916269398095817449809698097915788121116508316278016421216508116488798099792626908594858892649484']\n",
      "\n"
     ]
    }
   ],
   "source": [
    "df = better_df\n",
    "\n",
    "feature = \"Constiuent ID\"\n",
    "\n",
    "explore_feature(df, feature)\n",
    "\n",
    "# Will the decimal numbers loose precision with conversion?\n",
    "willWorkFloatToInt(df, feature)\n",
    "\n",
    "# are there negative ids?\n",
    "float_filter = df[feature].apply(lambda x: isinstance(x, float) and (not pd.isna(x)))\n",
    "print(\"Number of values containing minus sign {}\\n\".format(\n",
    "    df[float_filter][feature].apply(str).str.contains('-').sum()\n",
    "))\n",
    "\n",
    "# Check if the longest numeric string is in int64 range\n",
    "len_longest_string = max(df[feature].str.len())\n",
    "print(\"Length of longest numeric string: {}, the string: {}\\n\".format(len_longest_string,\n",
    "    df[df[feature].str.len() == len_longest_string][feature].values\n",
    "))\n",
    "\n",
    "better_df = df"
   ]
  },
  {
   "attachments": {},
   "cell_type": "markdown",
   "metadata": {},
   "source": [
    "### Categorical conversion\n",
    "\n",
    "#### \"Constiuent ID\""
   ]
  },
  {
   "cell_type": "code",
   "execution_count": 21,
   "metadata": {},
   "outputs": [
    {
     "name": "stdout",
     "output_type": "stream",
     "text": [
      "Number of rows: 474526\n",
      "Number of unique values (nan included): 44848\n",
      "\n"
     ]
    },
    {
     "data": {
      "text/plain": [
       "'Sample of how the values look like:'"
      ]
     },
     "metadata": {},
     "output_type": "display_data"
    },
    {
     "data": {
      "text/plain": [
       "259449    165095764789826\n",
       "103800          350943473\n",
       "18837                 NaN\n",
       "64453                1420\n",
       "470342               7847\n",
       "35880                 NaN\n",
       "155047                NaN\n",
       "251045         1618877764\n",
       "163718              16192\n",
       "261227              16629\n",
       "Name: Constiuent ID, dtype: object"
      ]
     },
     "metadata": {},
     "output_type": "display_data"
    },
    {
     "name": "stdout",
     "output_type": "stream",
     "text": [
      "Value types: [<class 'str'> <class 'float'>]\n",
      "\n",
      "String values - number of string values: 272453 (~ 57.42% of rows)\n",
      "Numeric strings: 272453 (~ 100.00% of strings)\n",
      "Other strings: 0 (~ 0.00% of strings)\n",
      "\n",
      "Number of unique other strings: 0, the strings: []\n",
      "\n",
      "Float values - number of floats: 202073 (~ 42.58% of rows)\n",
      "nan values: 201854 (~ 99.89% of floats ~ 42.54% of rows)\n",
      "Decimal numbers: 219 (~ 0.11% of floats)\n",
      "\n",
      "\"Constiuent ID\" feature type: <class 'numpy.dtype'>\n",
      "\n",
      "Number of rows: 474526\n",
      "Number of unique values (nan included): 44848\n",
      "\n"
     ]
    },
    {
     "data": {
      "text/plain": [
       "'Sample of how the values look like:'"
      ]
     },
     "metadata": {},
     "output_type": "display_data"
    },
    {
     "data": {
      "text/plain": [
       "214675    33674\n",
       "352668       -1\n",
       "18372        -1\n",
       "439376    14677\n",
       "5173         -1\n",
       "172578     7175\n",
       "133845       -1\n",
       "371602    16817\n",
       "153286    24950\n",
       "78984        -1\n",
       "Name: Constiuent ID, dtype: int32"
      ]
     },
     "metadata": {},
     "output_type": "display_data"
    },
    {
     "name": "stdout",
     "output_type": "stream",
     "text": [
      "Value types: [<class 'int'>]\n",
      "\n",
      "<class 'int'> values - number: 474526 (~ 100.00% of rows)\n",
      "\n"
     ]
    }
   ],
   "source": [
    "df = better_df\n",
    "\n",
    "feature = \"Constiuent ID\"\n",
    "\n",
    "explore_feature(df, feature)\n",
    "\n",
    "df[feature] = df[feature].astype('category') #.apply(lambda x: x.codes)\n",
    "df[feature] = df[feature].cat.codes\n",
    "\n",
    "print(f'\"{feature}\" feature type: {type(df.dtypes[feature])}\\n')\n",
    "\n",
    "explore_feature(df, feature)\n",
    "\n",
    "better_df = df"
   ]
  },
  {
   "attachments": {},
   "cell_type": "markdown",
   "metadata": {},
   "source": [
    "#### \"Object Number\""
   ]
  },
  {
   "cell_type": "code",
   "execution_count": 22,
   "metadata": {},
   "outputs": [
    {
     "name": "stdout",
     "output_type": "stream",
     "text": [
      "\"Object Number\" feature type: <class 'pandas.core.dtypes.dtypes.CategoricalDtype'>\n",
      "\n",
      "Number of rows: 474526\n",
      "Number of unique values (nan included): 471737\n",
      "\n"
     ]
    },
    {
     "data": {
      "text/plain": [
       "'Sample of how the values look like:'"
      ]
     },
     "metadata": {},
     "output_type": "display_data"
    },
    {
     "data": {
      "text/plain": [
       "146866             07.232.88b\n",
       "119617        61.107.410–.415\n",
       "14498     1995.379.4bbb verso\n",
       "423278              100.1 B59\n",
       "116702            1982.60.141\n",
       "298370               90.5.379\n",
       "280270         53.600.4832(1)\n",
       "455388         63.350.651.444\n",
       "365524              26.3.353a\n",
       "439035        2011.604.3.1834\n",
       "Name: Object Number, dtype: category\n",
       "Categories (471737, object): [00.1.1, 00.1.10, 00.1.11, 00.1.14, ..., x.686.1–.4, x.7, x.791, x.815]"
      ]
     },
     "metadata": {},
     "output_type": "display_data"
    },
    {
     "name": "stdout",
     "output_type": "stream",
     "text": [
      "Value types: [<class 'str'>]\n",
      "\n",
      "String values - number of string values: 474526 (~ 100.00% of rows)\n",
      "Numeric strings: 2 (~ 0.00% of strings)\n",
      "Other strings: 474524 (~ 100.00% of strings)\n",
      "\n",
      "Number of unique other strings: 471735, the strings: [1979.486.1, 1980.264.5, 67.265.9, 67.265.10, 67.265.11, ..., 07.225.14b, 69.292.12, See attached list, See attached list - chairs, 61.100.3c]\n",
      "Length: 471735\n",
      "Categories (471735, object): [1979.486.1, 1980.264.5, 67.265.9, 67.265.10, ..., 69.292.12, See attached list, See attached list - chairs, 61.100.3c]\n",
      "\n"
     ]
    }
   ],
   "source": [
    "df = better_df\n",
    "\n",
    "feature = \"Object Number\"\n",
    "\n",
    "df[feature] = df[feature].astype('category')\n",
    "\n",
    "print(f'\"{feature}\" feature type: {type(df.dtypes[feature])}\\n')\n",
    "\n",
    "explore_feature(df, feature)\n",
    "\n",
    "better_df = df"
   ]
  },
  {
   "attachments": {},
   "cell_type": "markdown",
   "metadata": {},
   "source": [
    "#### \"Department\""
   ]
  },
  {
   "cell_type": "code",
   "execution_count": 23,
   "metadata": {},
   "outputs": [
    {
     "name": "stdout",
     "output_type": "stream",
     "text": [
      "Number of rows: 474526\n",
      "Number of unique values (nan included): 19\n",
      "\n"
     ]
    },
    {
     "data": {
      "text/plain": [
       "'Sample of how the values look like:'"
      ]
     },
     "metadata": {},
     "output_type": "display_data"
    },
    {
     "data": {
      "text/plain": [
       "189742    Arts of Africa, Oceania, and the Americas\n",
       "386898                          Drawings and Prints\n",
       "440284                          Greek and Roman Art\n",
       "467789                          Drawings and Prints\n",
       "368337    Arts of Africa, Oceania, and the Americas\n",
       "55108                                     Asian Art\n",
       "101196       European Sculpture and Decorative Arts\n",
       "203959                          Drawings and Prints\n",
       "185994    Arts of Africa, Oceania, and the Americas\n",
       "286585                          Drawings and Prints\n",
       "Name: Department, dtype: category\n",
       "Categories (19, object): [The American Wing, European Sculpture and Decorative Arts, Modern and Contemporary Art, Arms and Armor, ..., The Cloisters, Musical Instruments, Egyptian Art, The Libraries]"
      ]
     },
     "metadata": {},
     "output_type": "display_data"
    },
    {
     "name": "stdout",
     "output_type": "stream",
     "text": [
      "Value types: [<class 'str'>]\n",
      "\n",
      "String values - number of string values: 474526 (~ 100.00% of rows)\n",
      "Numeric strings: 0 (~ 0.00% of strings)\n",
      "Other strings: 474526 (~ 100.00% of strings)\n",
      "\n",
      "Number of unique other strings: 19, the strings: [The American Wing, European Sculpture and Decorative Arts, Modern and Contemporary Art, Arms and Armor, Medieval Art, ..., Robert Lehman Collection, The Cloisters, Musical Instruments, Egyptian Art, The Libraries]\n",
      "Length: 19\n",
      "Categories (19, object): [The American Wing, European Sculpture and Decorative Arts, Modern and Contemporary Art, Arms and Armor, ..., The Cloisters, Musical Instruments, Egyptian Art, The Libraries]\n",
      "\n"
     ]
    }
   ],
   "source": [
    "df = better_df\n",
    "\n",
    "feature = \"Department\"\n",
    "\n",
    "department_category = pd.api.types.CategoricalDtype(categories=df[feature].unique(), ordered=False)\n",
    "\n",
    "df[feature] = df[feature].astype(department_category)\n",
    "\n",
    "explore_feature(df, feature)\n",
    "\n",
    "better_df = df"
   ]
  },
  {
   "attachments": {},
   "cell_type": "markdown",
   "metadata": {},
   "source": [
    "### Datetime conversion\n",
    "\n",
    "- Default day and month for years was set on January first, I also considered generate it by randomness.\n",
    "\n",
    "#### \"AccessionYear\""
   ]
  },
  {
   "cell_type": "code",
   "execution_count": 24,
   "metadata": {},
   "outputs": [
    {
     "name": "stdout",
     "output_type": "stream",
     "text": [
      "Number of floats, that after decimal point has not zero digit: 0, list of these values: []\n",
      "\n",
      "Number of rows: 474526\n",
      "Number of unique values (nan included): 154\n",
      "\n"
     ]
    },
    {
     "data": {
      "text/plain": [
       "'Sample of how the values look like:'"
      ]
     },
     "metadata": {},
     "output_type": "display_data"
    },
    {
     "data": {
      "text/plain": [
       "314137   1917-01-01\n",
       "146969   1907-01-01\n",
       "66928    1994-01-01\n",
       "401119   2011-01-01\n",
       "298670   1890-01-01\n",
       "157450   1974-01-01\n",
       "76890    1943-01-01\n",
       "102328   1909-01-01\n",
       "144004   1874-01-01\n",
       "283779   1957-01-01\n",
       "Name: AccessionYear, dtype: datetime64[ns]"
      ]
     },
     "metadata": {},
     "output_type": "display_data"
    },
    {
     "name": "stdout",
     "output_type": "stream",
     "text": [
      "Value types: [<class 'pandas._libs.tslibs.timestamps.Timestamp'>\n",
      " <class 'pandas._libs.tslibs.nattype.NaTType'>]\n",
      "\n",
      "<class 'pandas._libs.tslibs.timestamps.Timestamp'> values - number: 470560 (~ 99.16% of rows)\n",
      "\n",
      "<class 'pandas._libs.tslibs.nattype.NaTType'> values - number: 3966 (~ 0.84% of rows)\n",
      "\n"
     ]
    }
   ],
   "source": [
    "df = better_df\n",
    "\n",
    "feature = \"AccessionYear\"\n",
    "\n",
    "# explore_feature(df, feature)\n",
    "\n",
    "willWorkFloatToInt(df, feature)\n",
    "\n",
    "full_date_filter = df[feature].str.match(r\"\\d{4}-\\d{2}-\\d{2}\") == True\n",
    "\n",
    "df.loc[~full_date_filter, [feature]] = df[~full_date_filter][feature].apply(\n",
    "    lambda x: f\"{int(x)}-01-01\" if not pd.isna(x) else x\n",
    ")\n",
    "\n",
    "df[feature] = pd.to_datetime(df[feature], format=\"%Y-%m-%d\")\n",
    "\n",
    "explore_feature(df, feature)\n",
    "\n",
    "better_df = df"
   ]
  },
  {
   "attachments": {},
   "cell_type": "markdown",
   "metadata": {},
   "source": [
    "#### Quick look at changed Dtypes"
   ]
  },
  {
   "cell_type": "code",
   "execution_count": 25,
   "metadata": {},
   "outputs": [
    {
     "name": "stdout",
     "output_type": "stream",
     "text": [
      "<class 'pandas.core.frame.DataFrame'>\n",
      "RangeIndex: 474526 entries, 0 to 474525\n",
      "Data columns (total 54 columns):\n",
      " #   Column                   Non-Null Count   Dtype         \n",
      "---  ------                   --------------   -----         \n",
      " 0   Object Number            474526 non-null  category      \n",
      " 1   Is Highlight             474526 non-null  bool          \n",
      " 2   Is Timeline Work         474526 non-null  bool          \n",
      " 3   Is Public Domain         474526 non-null  bool          \n",
      " 4   Object ID                474526 non-null  int64         \n",
      " 5   Gallery Number           54386 non-null   float64       \n",
      " 6   Department               474526 non-null  category      \n",
      " 7   AccessionYear            470560 non-null  datetime64[ns]\n",
      " 8   Object Name              473172 non-null  object        \n",
      " 9   Title                    444655 non-null  object        \n",
      " 10  Culture                  206456 non-null  object        \n",
      " 11  Period                   90362 non-null   object        \n",
      " 12  Dynasty                  23144 non-null   object        \n",
      " 13  Reign                    11180 non-null   object        \n",
      " 14  Portfolio                23344 non-null   object        \n",
      " 15  Constiuent ID            474526 non-null  int32         \n",
      " 16  Artist Role              270578 non-null  object        \n",
      " 17  Artist Prefix            89303 non-null   object        \n",
      " 18  Artist Display Name      272672 non-null  object        \n",
      " 19  Artist Display Bio       233625 non-null  object        \n",
      " 20  Artist Suffix            11928 non-null   object        \n",
      " 21  Artist Alpha Sort        272637 non-null  object        \n",
      " 22  Artist Nationality       182413 non-null  object        \n",
      " 23  Artist Begin Date        236226 non-null  object        \n",
      " 24  Artist End Date          236220 non-null  object        \n",
      " 25  Artist Gender            101045 non-null  object        \n",
      " 26  Artist ULAN URL          203965 non-null  object        \n",
      " 27  Artist Wikidata URL      159897 non-null  object        \n",
      " 28  Object Date              459614 non-null  object        \n",
      " 29  Object Begin Date        474526 non-null  int64         \n",
      " 30  Object End Date          474526 non-null  int64         \n",
      " 31  Medium                   467413 non-null  object        \n",
      " 32  Dimensions               399051 non-null  object        \n",
      " 33  Credit Line              474106 non-null  object        \n",
      " 34  Geography Type           59363 non-null   object        \n",
      " 35  City                     31973 non-null   object        \n",
      " 36  State                    2530 non-null    object        \n",
      " 37  County                   8240 non-null    object        \n",
      " 38  Country                  75278 non-null   object        \n",
      " 39  Region                   31335 non-null   object        \n",
      " 40  Subregion                22057 non-null   object        \n",
      " 41  Locale                   15604 non-null   object        \n",
      " 42  Locus                    7397 non-null    object        \n",
      " 43  Excavation               16007 non-null   object        \n",
      " 44  River                    2097 non-null    object        \n",
      " 45  Classification           418463 non-null  object        \n",
      " 46  Rights and Reproduction  23337 non-null   object        \n",
      " 47  Link Resource            474526 non-null  object        \n",
      " 48  Object Wikidata URL      20965 non-null   object        \n",
      " 49  Metadata Date            0 non-null       float64       \n",
      " 50  Repository               474526 non-null  object        \n",
      " 51  Tags                     217430 non-null  object        \n",
      " 52  Tags AAT URL             216984 non-null  object        \n",
      " 53  Tags Wikidata URL        215668 non-null  object        \n",
      "dtypes: bool(3), category(2), datetime64[ns](1), float64(2), int32(1), int64(3), object(42)\n",
      "memory usage: 202.8+ MB\n"
     ]
    }
   ],
   "source": [
    "better_df.info()"
   ]
  },
  {
   "attachments": {},
   "cell_type": "markdown",
   "metadata": {},
   "source": [
    "## 5. Outliers\n",
    "\n",
    "- Because of high cardinality of the values I chosed to use single feature method.\n",
    "- The one-hot encoding would not work here, and otherwise create the distance would be a problem I think.\n",
    "\n",
    "### Rule of thumb\n",
    "\n",
    "- The decision boundary for outlier detection was taken from tutorial. \n",
    "    - i.e. if the value exceeds 1.5 times the interquartil range either under the the first quartil or above the third quartile, than is the value considered as an outlier."
   ]
  },
  {
   "cell_type": "code",
   "execution_count": 26,
   "metadata": {},
   "outputs": [],
   "source": [
    "df = original_df.copy()"
   ]
  },
  {
   "cell_type": "code",
   "execution_count": 27,
   "metadata": {},
   "outputs": [],
   "source": [
    "def getOutliersBoundaries(df, feature):\n",
    "    q1 = df[feature].quantile(0.25)\n",
    "    q3 = df[feature].quantile(0.75)\n",
    "    return (q1, q3, q3 - q1)\n",
    "\n",
    "\n",
    "def seeOutliers(df, feature):\n",
    "    q1, q3, iqr = getOutliersBoundaries(df, feature)\n",
    "    outliers_filter = ((df[feature] < q1 - 1.5*iqr) | (df[feature] > q3 + 1.5*iqr))\n",
    "    plt.figure(figsize=(17, 4))\n",
    "    plt.subplot(1,2,1)\n",
    "    sns.distplot(df[feature], kde=False).set_title(\"Value distribution with outliers\")\n",
    "    plt.subplot(1,2,2)\n",
    "    sns.distplot(df[~outliers_filter][feature], kde=False).set_title(\"Value distribution without outliers\")"
   ]
  },
  {
   "attachments": {},
   "cell_type": "markdown",
   "metadata": {},
   "source": [
    "### \"Object Begin Date\" and \"Object End Date\"\n",
    "\n",
    "- Let's start with boxplots"
   ]
  },
  {
   "cell_type": "code",
   "execution_count": 28,
   "metadata": {},
   "outputs": [
    {
     "data": {
      "text/plain": [
       "<matplotlib.axes._subplots.AxesSubplot at 0x7fb2718cfbe0>"
      ]
     },
     "execution_count": 28,
     "metadata": {},
     "output_type": "execute_result"
    },
    {
     "data": {
      "image/png": "[encoded data removed]",
      "text/plain": [
       "<Figure size 1152x288 with 2 Axes>"
      ]
     },
     "metadata": {
      "needs_background": "light"
     },
     "output_type": "display_data"
    }
   ],
   "source": [
    "plt.figure(figsize=(16, 4))\n",
    "plt.subplot(1,2,1)\n",
    "sns.boxplot(x=\"Object Begin Date\", data=df)\n",
    "plt.subplot(1,2,2)\n",
    "sns.boxplot(x=\"Object End Date\", data=df)"
   ]
  },
  {
   "cell_type": "code",
   "execution_count": 29,
   "metadata": {},
   "outputs": [
    {
     "data": {
      "text/plain": [
       "'First 5 outliers under the accepted range'"
      ]
     },
     "metadata": {},
     "output_type": "display_data"
    },
    {
     "data": {
      "text/plain": [
       "363923   -400000\n",
       "363915   -400000\n",
       "470122   -300050\n",
       "363912   -240000\n",
       "363913   -240000\n",
       "Name: Object Begin Date, dtype: int64"
      ]
     },
     "metadata": {},
     "output_type": "display_data"
    },
    {
     "data": {
      "text/plain": [
       "'Last 5 outliers above the accepted range'"
      ]
     },
     "metadata": {},
     "output_type": "display_data"
    },
    {
     "data": {
      "text/plain": [
       "335935    5000\n",
       "336164    5000\n",
       "Name: Object Begin Date, dtype: int64"
      ]
     },
     "metadata": {},
     "output_type": "display_data"
    },
    {
     "data": {
      "image/png": "[encoded data removed]",
      "text/plain": [
       "<Figure size 1224x288 with 2 Axes>"
      ]
     },
     "metadata": {
      "needs_background": "light"
     },
     "output_type": "display_data"
    }
   ],
   "source": [
    "feature = \"Object Begin Date\"\n",
    "\n",
    "# display(outliers_filter.sum())\n",
    "\n",
    "q1, q3, iqr = getOutliersBoundaries(df, feature)\n",
    "\n",
    "display(\"First 5 outliers under the accepted range\",\n",
    "    df[df[feature] < q1 - 1.5 * iqr][feature].sort_values().head(5),\n",
    "    \"Last 5 outliers above the accepted range\",\n",
    "    df[df[feature] > q3 + 1.5 * iqr][feature].sort_values().tail(5)\n",
    ")\n",
    "\n",
    "seeOutliers(df, feature)"
   ]
  },
  {
   "cell_type": "code",
   "execution_count": 30,
   "metadata": {},
   "outputs": [
    {
     "data": {
      "text/plain": [
       "'First 5 outliers under the accepted range'"
      ]
     },
     "metadata": {},
     "output_type": "display_data"
    },
    {
     "data": {
      "text/plain": [
       "363915   -240000\n",
       "363923   -240000\n",
       "470122   -125000\n",
       "363912    -40000\n",
       "363911    -40000\n",
       "Name: Object End Date, dtype: int64"
      ]
     },
     "metadata": {},
     "output_type": "display_data"
    },
    {
     "data": {
      "text/plain": [
       "'Last 5 outliers above the accepted range'"
      ]
     },
     "metadata": {},
     "output_type": "display_data"
    },
    {
     "data": {
      "text/plain": [
       "231374     2835\n",
       "246733     2870\n",
       "100045    15335\n",
       "Name: Object End Date, dtype: int64"
      ]
     },
     "metadata": {},
     "output_type": "display_data"
    },
    {
     "data": {
      "image/png": "[encoded data removed]",
      "text/plain": [
       "<Figure size 1224x288 with 2 Axes>"
      ]
     },
     "metadata": {
      "needs_background": "light"
     },
     "output_type": "display_data"
    }
   ],
   "source": [
    "feature = \"Object End Date\"\n",
    "\n",
    "# display(outliers_filter.sum())\n",
    "\n",
    "q1, q3, iqr = getOutliersBoundaries(df, feature)\n",
    "\n",
    "display(\"First 5 outliers under the accepted range\",\n",
    "    df[df[feature] < q1 - 1.5 * iqr][feature].sort_values().head(5),\n",
    "    \"Last 5 outliers above the accepted range\",\n",
    "    df[df[feature] > q3 + 1.5 * iqr][feature].sort_values().tail(5)\n",
    ")\n",
    "\n",
    "seeOutliers(df, feature)"
   ]
  },
  {
   "attachments": {},
   "cell_type": "markdown",
   "metadata": {},
   "source": [
    "## 6. Missing data detection and imputation\n",
    "\n",
    "- I see here the same problem with high cardinality (and dimensionality) as described at outliers section.\n",
    "- Therefore the imputation method I choosed is rather simple"
   ]
  },
  {
   "attachments": {},
   "cell_type": "markdown",
   "metadata": {},
   "source": [
    "### Missing values Detection\n",
    "\n",
    "- Usually it makes more sense to impute values if there is enough data already.\n",
    "- Look at the data where is missing up to 20% of rows."
   ]
  },
  {
   "cell_type": "code",
   "execution_count": 31,
   "metadata": {},
   "outputs": [
    {
     "data": {
      "text/plain": [
       "'Features with less than 20% missing values:'"
      ]
     },
     "metadata": {},
     "output_type": "display_data"
    },
    {
     "data": {
      "text/plain": [
       "Credit Line         420\n",
       "Object Name        1354\n",
       "AccessionYear      3966\n",
       "Medium             7113\n",
       "Object Date       14912\n",
       "Title             29871\n",
       "Classification    56063\n",
       "Dimensions        75475\n",
       "dtype: int64"
      ]
     },
     "metadata": {},
     "output_type": "display_data"
    }
   ],
   "source": [
    "row_num = df.shape[0]\n",
    "full_columns = (df.isna().sum() == 0).values\n",
    "missing_less_than_20p = (df.isna().sum() < row_num*0.2).values\n",
    "\n",
    "columns_between_80_100 = df.columns[missing_less_than_20p & ~full_columns]\n",
    "\n",
    "display(\"Features with less than 20% missing values:\",\n",
    "    df[columns_between_80_100].isna().sum().sort_values()\n",
    ")"
   ]
  },
  {
   "attachments": {},
   "cell_type": "markdown",
   "metadata": {},
   "source": [
    "### Potential candidates for group imputation\n",
    "\n",
    "- impute values by median of the same group (in case of categorical values not medial, but mode)"
   ]
  },
  {
   "cell_type": "code",
   "execution_count": 32,
   "metadata": {},
   "outputs": [
    {
     "data": {
      "text/plain": [
       "Metadata Date          0\n",
       "Repository             1\n",
       "Is Highlight           2\n",
       "Is Timeline Work       2\n",
       "Is Public Domain       2\n",
       "Department            19\n",
       "State                104\n",
       "Geography Type       108\n",
       "River                229\n",
       "AccessionYear        264\n",
       "Artist Gender        276\n",
       "Subregion            352\n",
       "Reign                378\n",
       "Excavation           384\n",
       "Dynasty              386\n",
       "Gallery Number       590\n",
       "Region               710\n",
       "Locale               856\n",
       "Country              925\n",
       "County              1085\n",
       "dtype: int64"
      ]
     },
     "execution_count": 32,
     "metadata": {},
     "output_type": "execute_result"
    }
   ],
   "source": [
    "df.apply(lambda x: x.nunique()).sort_values()[:20]"
   ]
  },
  {
   "attachments": {},
   "cell_type": "markdown",
   "metadata": {},
   "source": [
    "### Helper functions\n",
    "\n",
    "- Department was choosed as a representative group, mainly because its the only possible option, but also the column is fullfilled (luck)"
   ]
  },
  {
   "cell_type": "code",
   "execution_count": 33,
   "metadata": {},
   "outputs": [],
   "source": [
    "DEP = \"Department\"\n",
    "\n",
    "def getFeatureModeByDepartment(df, feature):\n",
    "    mostCommonFeature = []\n",
    "    for dep, group in df[[DEP, feature]].groupby(DEP):\n",
    "        sizes = group.groupby(feature).size()\n",
    "        mostCommonFeature.append([dep, sizes[sizes == sizes.max()].index.values[0], sizes.max()])\n",
    "    return pd.DataFrame(mostCommonFeature, columns=[DEP, feature, \"Number of objects\"])\n",
    "\n",
    "def getLinesOfFeatureGroupSizesByDepartment(df, feature):\n",
    "    lines = []\n",
    "    for dep, g in df.groupby(DEP):\n",
    "        for index, value in g.groupby(feature).size().items():\n",
    "            lines.append([dep, value, index])\n",
    "    return lines\n",
    "\n",
    "def plotFeatureCountByDepartment(df, feature):\n",
    "    lines = getLinesOfFeatureGroupSizesByDepartment(df, feature)\n",
    "    df = pd.DataFrame(lines, columns=[\"Department\", f'\"{feature}\" feature group size', feature])\n",
    "    plt.figure(figsize=(8, 10))\n",
    "    sns.stripplot(x=f'\"{feature}\" feature group size', y=\"Department\", data=df)\\\n",
    "        .set_title(f'Sizes of feature \"{feature}\" groups by departments')\n"
   ]
  },
  {
   "attachments": {},
   "cell_type": "markdown",
   "metadata": {},
   "source": [
    "### Feature \"Medium\"\n",
    "\n",
    "- On the graph is visible the \"Drawing and Prints\" \"Commercial color lithograph\" was shifted to the left.\n",
    "- Also the gap between the two largest groups in \"European Sculpture and Decorative Arts\" is bigger now, and that is about it."
   ]
  },
  {
   "cell_type": "code",
   "execution_count": 34,
   "metadata": {
    "scrolled": false
   },
   "outputs": [
    {
     "name": "stdout",
     "output_type": "stream",
     "text": [
      "Number of missing values: 7113\n",
      "\n",
      "Number of missing values: 0\n",
      "\n"
     ]
    },
    {
     "data": {
      "text/plain": [
       "'The imputed values are visible as differences of the last two columns'"
      ]
     },
     "metadata": {},
     "output_type": "display_data"
    },
    {
     "data": {
      "text/html": [
       "<div>\n",
       "<style scoped>\n",
       "    .dataframe tbody tr th:only-of-type {\n",
       "        vertical-align: middle;\n",
       "    }\n",
       "\n",
       "    .dataframe tbody tr th {\n",
       "        vertical-align: top;\n",
       "    }\n",
       "\n",
       "    .dataframe thead th {\n",
       "        text-align: right;\n",
       "    }\n",
       "</style>\n",
       "<table border=\"1\" class=\"dataframe\">\n",
       "  <thead>\n",
       "    <tr style=\"text-align: right;\">\n",
       "      <th></th>\n",
       "      <th>Department</th>\n",
       "      <th>Medium</th>\n",
       "      <th>Number of objects</th>\n",
       "      <th>New numbers</th>\n",
       "    </tr>\n",
       "  </thead>\n",
       "  <tbody>\n",
       "    <tr>\n",
       "      <th>0</th>\n",
       "      <td>Ancient Near Eastern Art</td>\n",
       "      <td>Ceramic</td>\n",
       "      <td>886</td>\n",
       "      <td>886</td>\n",
       "    </tr>\n",
       "    <tr>\n",
       "      <th>1</th>\n",
       "      <td>Arms and Armor</td>\n",
       "      <td>Steel</td>\n",
       "      <td>1617</td>\n",
       "      <td>1799</td>\n",
       "    </tr>\n",
       "    <tr>\n",
       "      <th>2</th>\n",
       "      <td>Arts of Africa, Oceania, and the Americas</td>\n",
       "      <td>Ceramic</td>\n",
       "      <td>921</td>\n",
       "      <td>921</td>\n",
       "    </tr>\n",
       "    <tr>\n",
       "      <th>3</th>\n",
       "      <td>Asian Art</td>\n",
       "      <td>Silk</td>\n",
       "      <td>2820</td>\n",
       "      <td>3067</td>\n",
       "    </tr>\n",
       "    <tr>\n",
       "      <th>4</th>\n",
       "      <td>Costume Institute</td>\n",
       "      <td>Silk</td>\n",
       "      <td>5620</td>\n",
       "      <td>5623</td>\n",
       "    </tr>\n",
       "    <tr>\n",
       "      <th>5</th>\n",
       "      <td>Drawings and Prints</td>\n",
       "      <td>Commercial color lithograph</td>\n",
       "      <td>18342</td>\n",
       "      <td>22614</td>\n",
       "    </tr>\n",
       "    <tr>\n",
       "      <th>6</th>\n",
       "      <td>Egyptian Art</td>\n",
       "      <td>Faience</td>\n",
       "      <td>4728</td>\n",
       "      <td>4729</td>\n",
       "    </tr>\n",
       "    <tr>\n",
       "      <th>7</th>\n",
       "      <td>European Paintings</td>\n",
       "      <td>Oil on canvas</td>\n",
       "      <td>1190</td>\n",
       "      <td>1190</td>\n",
       "    </tr>\n",
       "    <tr>\n",
       "      <th>8</th>\n",
       "      <td>European Sculpture and Decorative Arts</td>\n",
       "      <td>Silk</td>\n",
       "      <td>3471</td>\n",
       "      <td>4794</td>\n",
       "    </tr>\n",
       "    <tr>\n",
       "      <th>9</th>\n",
       "      <td>Greek and Roman Art</td>\n",
       "      <td>Terracotta</td>\n",
       "      <td>23034</td>\n",
       "      <td>23049</td>\n",
       "    </tr>\n",
       "    <tr>\n",
       "      <th>10</th>\n",
       "      <td>Islamic Art</td>\n",
       "      <td>Stucco; carved</td>\n",
       "      <td>781</td>\n",
       "      <td>837</td>\n",
       "    </tr>\n",
       "    <tr>\n",
       "      <th>11</th>\n",
       "      <td>Medieval Art</td>\n",
       "      <td>Copper alloy</td>\n",
       "      <td>464</td>\n",
       "      <td>464</td>\n",
       "    </tr>\n",
       "    <tr>\n",
       "      <th>12</th>\n",
       "      <td>Modern and Contemporary Art</td>\n",
       "      <td>Oil on canvas</td>\n",
       "      <td>1063</td>\n",
       "      <td>1103</td>\n",
       "    </tr>\n",
       "    <tr>\n",
       "      <th>13</th>\n",
       "      <td>Musical Instruments</td>\n",
       "      <td>Wood</td>\n",
       "      <td>562</td>\n",
       "      <td>622</td>\n",
       "    </tr>\n",
       "    <tr>\n",
       "      <th>14</th>\n",
       "      <td>Photographs</td>\n",
       "      <td>Gelatin silver print</td>\n",
       "      <td>9724</td>\n",
       "      <td>10375</td>\n",
       "    </tr>\n",
       "    <tr>\n",
       "      <th>15</th>\n",
       "      <td>Robert Lehman Collection</td>\n",
       "      <td>Maiolica (tin-glazed earthenware)</td>\n",
       "      <td>156</td>\n",
       "      <td>156</td>\n",
       "    </tr>\n",
       "    <tr>\n",
       "      <th>16</th>\n",
       "      <td>The American Wing</td>\n",
       "      <td>Porcelain</td>\n",
       "      <td>1301</td>\n",
       "      <td>1329</td>\n",
       "    </tr>\n",
       "    <tr>\n",
       "      <th>17</th>\n",
       "      <td>The Cloisters</td>\n",
       "      <td>Marble</td>\n",
       "      <td>253</td>\n",
       "      <td>253</td>\n",
       "    </tr>\n",
       "    <tr>\n",
       "      <th>18</th>\n",
       "      <td>The Libraries</td>\n",
       "      <td>Illustrated book</td>\n",
       "      <td>20</td>\n",
       "      <td>255</td>\n",
       "    </tr>\n",
       "  </tbody>\n",
       "</table>\n",
       "</div>"
      ],
      "text/plain": [
       "                                   Department  \\\n",
       "0                    Ancient Near Eastern Art   \n",
       "1                              Arms and Armor   \n",
       "2   Arts of Africa, Oceania, and the Americas   \n",
       "3                                   Asian Art   \n",
       "4                           Costume Institute   \n",
       "5                         Drawings and Prints   \n",
       "6                                Egyptian Art   \n",
       "7                          European Paintings   \n",
       "8      European Sculpture and Decorative Arts   \n",
       "9                         Greek and Roman Art   \n",
       "10                                Islamic Art   \n",
       "11                               Medieval Art   \n",
       "12                Modern and Contemporary Art   \n",
       "13                        Musical Instruments   \n",
       "14                                Photographs   \n",
       "15                   Robert Lehman Collection   \n",
       "16                          The American Wing   \n",
       "17                              The Cloisters   \n",
       "18                              The Libraries   \n",
       "\n",
       "                               Medium  Number of objects  New numbers  \n",
       "0                             Ceramic                886          886  \n",
       "1                               Steel               1617         1799  \n",
       "2                             Ceramic                921          921  \n",
       "3                                Silk               2820         3067  \n",
       "4                                Silk               5620         5623  \n",
       "5         Commercial color lithograph              18342        22614  \n",
       "6                             Faience               4728         4729  \n",
       "7                       Oil on canvas               1190         1190  \n",
       "8                                Silk               3471         4794  \n",
       "9                          Terracotta              23034        23049  \n",
       "10                     Stucco; carved                781          837  \n",
       "11                       Copper alloy                464          464  \n",
       "12                      Oil on canvas               1063         1103  \n",
       "13                               Wood                562          622  \n",
       "14               Gelatin silver print               9724        10375  \n",
       "15  Maiolica (tin-glazed earthenware)                156          156  \n",
       "16                          Porcelain               1301         1329  \n",
       "17                             Marble                253          253  \n",
       "18                   Illustrated book                 20          255  "
      ]
     },
     "metadata": {},
     "output_type": "display_data"
    },
    {
     "data": {
      "image/png": "[encoded data removed]",
      "text/plain": [
       "<Figure size 576x720 with 1 Axes>"
      ]
     },
     "metadata": {
      "needs_background": "light"
     },
     "output_type": "display_data"
    },
    {
     "data": {
      "image/png": "[encoded data removed]",
      "text/plain": [
       "<Figure size 576x720 with 1 Axes>"
      ]
     },
     "metadata": {
      "needs_background": "light"
     },
     "output_type": "display_data"
    }
   ],
   "source": [
    "df = original_df.copy()\n",
    "DEP = \"Department\"\n",
    "MED = \"Medium\"\n",
    "\n",
    "med_na_filter = df[MED].isna()\n",
    "print(f\"Number of missing values: {med_na_filter.sum()}\\n\")\n",
    "\n",
    "df[MED] = df[~med_na_filter][MED].apply(str.capitalize)\n",
    "\n",
    "plotFeatureCountByDepartment(df, MED)\n",
    "\n",
    "feature_mode_df = getFeatureModeByDepartment(df, MED)\n",
    "\n",
    "mediumModes = df.groupby(DEP)[MED].apply(lambda x: x.mode())\n",
    "df.loc[med_na_filter, MED] = df[med_na_filter][DEP].apply(lambda d: mediumModes[d].values[0])\n",
    "\n",
    "print(f\"Number of missing values: {df[MED].isna().sum()}\\n\")\n",
    "\n",
    "feature_mode_df[\"New numbers\"] = getFeatureModeByDepartment(df, MED)[\"Number of objects\"]\n",
    "\n",
    "display(\"The imputed values are visible as differences of the last two columns\",\n",
    "    feature_mode_df\n",
    ")\n",
    "\n",
    "plotFeatureCountByDepartment(df, MED)"
   ]
  },
  {
   "attachments": {},
   "cell_type": "markdown",
   "metadata": {},
   "source": [
    "### Feature \"AccessionYear\"\n",
    "\n",
    "- In terms of imputation I would do finished the extraction from \"Object Number\", the rest I would probably dropped.\n",
    "    - This approach is probably more feature engineering than imputation methods, so strictly in this field I would probably solve it with median."
   ]
  },
  {
   "cell_type": "code",
   "execution_count": 35,
   "metadata": {},
   "outputs": [
    {
     "name": "stdout",
     "output_type": "stream",
     "text": [
      "Number of rows: 474526\n",
      "Number of unique values (nan included): 265\n",
      "\n"
     ]
    },
    {
     "data": {
      "text/plain": [
       "'Sample of how the values look like:'"
      ]
     },
     "metadata": {},
     "output_type": "display_data"
    },
    {
     "data": {
      "text/plain": [
       "202985    1992\n",
       "177505    1952\n",
       "297687    1889\n",
       "404353    1927\n",
       "102276    1909\n",
       "245574    1923\n",
       "465952    1933\n",
       "62619     1920\n",
       "208979    1970\n",
       "444994    2011\n",
       "Name: AccessionYear, dtype: object"
      ]
     },
     "metadata": {},
     "output_type": "display_data"
    },
    {
     "name": "stdout",
     "output_type": "stream",
     "text": [
      "Value types: [<class 'float'> <class 'int'> <class 'str'>]\n",
      "\n",
      "Float values - number of floats: 426015 (~ 89.78% of rows)\n",
      "nan values: 3966 (~ 0.93% of floats ~ 0.84% of rows)\n",
      "Decimal numbers: 422049 (~ 99.07% of floats)\n",
      "\n",
      "<class 'int'> values - number: 16384 (~ 3.45% of rows)\n",
      "\n",
      "String values - number of string values: 32127 (~ 6.77% of rows)\n",
      "Numeric strings: 32125 (~ 99.99% of strings)\n",
      "Other strings: 2 (~ 0.01% of strings)\n",
      "\n",
      "Number of unique other strings: 2, the strings: ['2005-02-15' '2020-03-23']\n",
      "\n"
     ]
    }
   ],
   "source": [
    "explore_feature(df, \"AccessionYear\")"
   ]
  },
  {
   "attachments": {},
   "cell_type": "markdown",
   "metadata": {},
   "source": [
    "### Feature \"Classification\"\n",
    "\n",
    "- This feature I would handle the same way as the feature \"Medium\"."
   ]
  },
  {
   "cell_type": "code",
   "execution_count": 36,
   "metadata": {},
   "outputs": [
    {
     "name": "stdout",
     "output_type": "stream",
     "text": [
      "Number of rows: 474526\n",
      "Number of unique values (nan included): 1186\n",
      "\n"
     ]
    },
    {
     "data": {
      "text/plain": [
       "'Sample of how the values look like:'"
      ]
     },
     "metadata": {},
     "output_type": "display_data"
    },
    {
     "data": {
      "text/plain": [
       "160617        Photographs\n",
       "116129          Sculpture\n",
       "272524    Prints|Ephemera\n",
       "224864              Books\n",
       "48850              Prints\n",
       "156415        Photographs\n",
       "34394             Lacquer\n",
       "330094           Drawings\n",
       "290554             Prints\n",
       "16281            Drawings\n",
       "Name: Classification, dtype: object"
      ]
     },
     "metadata": {},
     "output_type": "display_data"
    },
    {
     "name": "stdout",
     "output_type": "stream",
     "text": [
      "Value types: [<class 'str'>]\n",
      "\n",
      "String values - number of string values: 474526 (~ 100.00% of rows)\n",
      "Numeric strings: 0 (~ 0.00% of strings)\n",
      "Other strings: 474526 (~ 100.00% of strings)\n",
      "\n",
      "Number of unique other strings: 1186, the strings: ['Metal' 'Silver' 'Glass' ... 'Books|Costumes' 'Books|Photographs'\n",
      " 'Metalwork-Base Metal|Jewelry']\n",
      "\n",
      "Number of rows: 474526\n",
      "Number of unique values (nan included): 1186\n",
      "\n"
     ]
    },
    {
     "data": {
      "text/plain": [
       "'Sample of how the values look like:'"
      ]
     },
     "metadata": {},
     "output_type": "display_data"
    },
    {
     "data": {
      "text/plain": [
       "302111              Ceramics\n",
       "16004               Textiles\n",
       "42018              Paintings\n",
       "99034     Ceramics-Porcelain\n",
       "12148               Drawings\n",
       "422109       Prints|Ephemera\n",
       "396667       Prints|Ephemera\n",
       "81811           Unclassified\n",
       "333091               Jewelry\n",
       "464949       Prints|Ephemera\n",
       "Name: Classification, dtype: category\n",
       "Categories (1186, object): [(not assigned), Accessory, Accessory-Carried, Accessory-Foot and Leg wear, ..., sealings, tablets and plaques, |, ||]"
      ]
     },
     "metadata": {},
     "output_type": "display_data"
    },
    {
     "name": "stdout",
     "output_type": "stream",
     "text": [
      "Value types: [<class 'str'>]\n",
      "\n",
      "String values - number of string values: 474526 (~ 100.00% of rows)\n",
      "Numeric strings: 0 (~ 0.00% of strings)\n",
      "Other strings: 474526 (~ 100.00% of strings)\n",
      "\n",
      "Number of unique other strings: 1186, the strings: [Metal, Silver, Glass, Furniture, Ceramics, ..., Postcards|Ephemera, Prints|Portfolios|Photographs, Books|Costumes, Books|Photographs, Metalwork-Base Metal|Jewelry]\n",
      "Length: 1186\n",
      "Categories (1186, object): [Metal, Silver, Glass, Furniture, ..., Prints|Portfolios|Photographs, Books|Costumes, Books|Photographs, Metalwork-Base Metal|Jewelry]\n",
      "\n"
     ]
    }
   ],
   "source": [
    "df = original_df.copy()\n",
    "\n",
    "feature = \"Classification\"\n",
    "\n",
    "df[feature] = df[feature].fillna(\"Unclassified\")\n",
    "\n",
    "explore_feature(df, feature)\n",
    "\n",
    "df[feature] = df[feature].astype('category')\n",
    "\n",
    "explore_feature(df, feature)"
   ]
  },
  {
   "attachments": {},
   "cell_type": "markdown",
   "metadata": {},
   "source": [
    "### Feature \"Object Date\"\n",
    "\n",
    "- This feature I would gradually add simple regex until the all the syntexes would be covered, and then handle it separatly\n",
    "    - (extract groups are good start, but this like b.c. or 1st millenia can make it complicated) "
   ]
  },
  {
   "cell_type": "code",
   "execution_count": 37,
   "metadata": {},
   "outputs": [
    {
     "name": "stdout",
     "output_type": "stream",
     "text": [
      "Number of already handled: {sol.sum()}\n",
      "\n"
     ]
    },
    {
     "data": {
      "text/plain": [
       "'Values that are not handled yet:'"
      ]
     },
     "metadata": {},
     "output_type": "display_data"
    },
    {
     "data": {
      "text/plain": [
       "221657                         1862 or later\n",
       "159772    January 27, 1942, printed ca. 1983\n",
       "396615                     January–June 1827\n",
       "437157                6th/5th centuries B.C.\n",
       "63337                     Datable to 1938–45\n",
       "259352                              May 1751\n",
       "183864                   1968, printed later\n",
       "375867                         February 1809\n",
       "292482                        published 1661\n",
       "464696                     December 23, 1809\n",
       "159282                    1966, printed 1979\n",
       "368326                         A.D. 800–1150\n",
       "429116                          May 30, 1786\n",
       "457919                   1902 or ca. 1912–13\n",
       "173831                      January 10, 1941\n",
       "259491                         July 12, 1808\n",
       "175973                        March 26, 1954\n",
       "81313                 late 1920s–early 1930s\n",
       "243836                       January 1, 1798\n",
       "221226                          October 1922\n",
       "Name: Object Date, dtype: object"
      ]
     },
     "metadata": {},
     "output_type": "display_data"
    },
    {
     "name": "stdout",
     "output_type": "stream",
     "text": [
      "There is 35047 values that does not match.\n",
      "\n"
     ]
    }
   ],
   "source": [
    "feature = \"Object Date\"\n",
    "\n",
    "# explore_feature(df, feature)\n",
    "\n",
    "nans = df[feature].apply(lambda x: pd.isna(x))\n",
    "\n",
    "solved = nans.copy()\n",
    "\n",
    "patterns = [\n",
    "    r\"(dated\\s+)?\\d+(–\\d+)?\\Z\", \n",
    "    r\"\\d+s(–\\d+s?)?\",\n",
    "    r\"\\D*\\d+(–\\d+)?\\D*b\\.c\\.\",\n",
    "    r\"ca\\.\\s*\\d+\",\n",
    "    r\".*\\d{1,2}(st|nd|rd|th)\\s+century\",\n",
    "    \"n\\.d\\.\"\n",
    "]\n",
    "\n",
    "for pattern in patterns:\n",
    "    sol = df[feature].str.match(pattern, case=False) == True\n",
    "    solved = solved | sol\n",
    "    \n",
    "print(\"Number of already handled: {sol.sum()}\\n\")\n",
    "\n",
    "display(\"Values that are not handled yet:\",\n",
    "    df[~solved][feature].sample(n=20)\n",
    ")\n",
    "\n",
    "print(\"There is {} values that does not match.\\n\".format(\n",
    "    df.shape[0] - solved.sum()\n",
    "))"
   ]
  }
 ],
 "metadata": {
  "kernelspec": {
   "display_name": "Python 3",
   "language": "python",
   "name": "python3"
  },
  "language_info": {
   "codemirror_mode": {
    "name": "ipython",
    "version": 3
   },
   "file_extension": ".py",
   "mimetype": "text/x-python",
   "name": "python",
   "nbconvert_exporter": "python",
   "pygments_lexer": "ipython3",
   "version": "3.6.7"
  }
 },
 "nbformat": 4,
 "nbformat_minor": 4
}
