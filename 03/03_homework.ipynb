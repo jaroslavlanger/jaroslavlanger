{
 "cells": [
  {
   "cell_type": "markdown",
   "metadata": {},
   "source": [
    "# Homework 3 - data transformation & dimensionality reduction (deadline 26. 12. 2020, 23:59)\n",
    "\n",
    "In short, the main task is to play with transformations and dimensionality reduction to obtain the best results for the linear regression model predicting house sale prices.\n",
    "  \n",
    "> The instructions are not given in detail: It is up to you to come up with ideas on how to fulfill the particular tasks as best you can!\n",
    "\n",
    "## What are you supposed to do:\n",
    "\n",
    "Your aim is to optimize the _RMSLE_ (see the note below) of the linear regression estimator (=our prediction model) of the observed sale prices.\n",
    "\n",
    "### Instructions:\n",
    "\n",
    "  1. Download the dataset from the course pages (data.csv, data_description.txt). It corresponds to [this Kaggle competition](https://www.kaggle.com/c/house-prices-advanced-regression-techniques). \n",
    "  1. Transform features appropriately and prepare new ones - focus on the increase in the performance of the model (possibly in combination with further steps). Split the dataset into a train and test part exactly as we did in the tutorials. Use the test part for evaluation of the influence of further steps.\n",
    "  1. Try to find some suitable subset of features - first without the use of PCA.\n",
    "  1. Use PCA (principal component analysis) to reduce the dimensionality. Discuss the influence of the number of principal components.\n",
    "  1. Compare the results of previous steps on the test part of the dataset.\n",
    "  \n",
    "Give comments (!) on each step of your solution, with short explanations of your choices.\n",
    "\n",
    "**If you do all this properly, you will obtain 16 points.** \n",
    "\n",
    "\n",
    "**Note**: _RMSLE_ is a Root-Mean-Squared-Error (RMSE) between the logarithm of the predicted value and the logarithm of the observed sale prices.\n",
    "\n",
    "\n",
    "## Comments\n",
    "\n",
    "  * Please follow the instructions from https://courses.fit.cvut.cz/MI-PDD/homeworks/index.html.\n",
    "  * If the reviewing teacher is not satisfied, she can (!) give you another chance to rework your homework and to obtain more points. However, this is not a given, so do your best! :)\n",
    "  * English is not compulsory."
   ]
  },
  {
   "cell_type": "markdown",
   "metadata": {},
   "source": [
    "# here comes my code\n",
    "\n",
    "- **TOC TBD**\n",
    "\n",
    "## Train test split disclaimer\n",
    "\n",
    "- TBD\n",
    "\n"
   ]
  },
  {
   "cell_type": "markdown",
   "metadata": {},
   "source": [
    "### Libraries Imports"
   ]
  },
  {
   "cell_type": "code",
   "execution_count": 1,
   "metadata": {},
   "outputs": [],
   "source": [
    "from collections import namedtuple\n",
    "\n",
    "import matplotlib.pyplot as plt\n",
    "\n",
    "import numpy as np\n",
    "\n",
    "import pandas as pd\n",
    "# from pandas.api.types import CategoricalDtype\n",
    "\n",
    "import seaborn as sns\n",
    "\n",
    "from sklearn.decomposition import PCA\n",
    "from sklearn.feature_selection import RFE\n",
    "from sklearn.linear_model import LinearRegression\n",
    "from sklearn.metrics import mean_squared_error\n",
    "from sklearn.metrics import mean_squared_log_error\n",
    "from sklearn.model_selection import train_test_split\n",
    "from sklearn.preprocessing import MinMaxScaler\n",
    "from sklearn.preprocessing import PowerTransformer\n",
    "from sklearn.preprocessing import QuantileTransformer\n",
    "from sklearn.preprocessing import RobustScaler\n",
    "from sklearn.preprocessing import StandardScaler\n",
    "\n"
   ]
  },
  {
   "cell_type": "code",
   "execution_count": 2,
   "metadata": {},
   "outputs": [],
   "source": [
    "SEED = 42"
   ]
  },
  {
   "cell_type": "markdown",
   "metadata": {},
   "source": [
    "### Data exploration funcitons"
   ]
  },
  {
   "cell_type": "code",
   "execution_count": 3,
   "metadata": {},
   "outputs": [],
   "source": [
    "def unique_data_types(df):\n",
    "    return df.dtypes.unique()\n",
    "    \n",
    "def columns_by_type(df, dtype):\n",
    "    return df.columns[df.dtypes == dtype].values\n",
    "\n",
    "def showBarplotWithPercentages(x, y, df, total=None, title=f\"\"):\n",
    "    \"\"\"Show barplot with bars in descending order and percentages on top\"\"\"\n",
    "\n",
    "    df = df.sort_values(by=y, ascending=False)\n",
    "\n",
    "    fig, ax = plt.subplots(figsize=(8, 6))\n",
    "    ax = sns.barplot(x=x, y=y, data=df, ax=ax, palette=\"muted\")\n",
    "\n",
    "    for p in ax.patches:\n",
    "        if total is not None:\n",
    "            annotation = '{:.1f}%'.format((p.get_height()/total) * 100) # percentage\n",
    "        else:\n",
    "            annotation = p.get_height()\n",
    "        x = p.get_x() + p.get_width()/10\n",
    "        y = int((p.get_y() + p.get_height()*1.005))\n",
    "        ax.annotate(annotation, (x, y))\n",
    "\n",
    "    ax.set_title(title)\n",
    "    _ = ax.set_xticklabels(ax.get_xticklabels(), rotation=70)\n",
    "    return ax\n",
    "\n",
    "def show_missing_values(df, x=\"feature\", y=\"missing_values\", missing_code=None):\n",
    "    \"\"\"Show barplot number of missing values per features\"\"\"\n",
    "    \n",
    "    if missing_code is not None:\n",
    "        data = df.apply(lambda x: (x == missing_code).sum())\n",
    "    else:\n",
    "        data = df.apply(lambda x: x.isna().sum())\n",
    "    data = data.reset_index().rename(columns={\"index\": x, 0: y})\n",
    "    data = data[data[y] > 0]\n",
    "    if data.empty:\n",
    "        print(\"There are no missing values.\")\n",
    "        return None\n",
    "\n",
    "    ax = showBarplotWithPercentages(x=x, y=y, df=data, total=df.shape[0],\n",
    "        title=\"Columns with missing values (-1) and percentages of missing values\")\n",
    "    return ax"
   ]
  },
  {
   "cell_type": "markdown",
   "metadata": {},
   "source": [
    "### Classes for easy manipulation with data and models"
   ]
  },
  {
   "cell_type": "code",
   "execution_count": 4,
   "metadata": {},
   "outputs": [],
   "source": [
    "class Data():\n",
    "    \"\"\"Class for easy train and test set storage and manipulation.\"\"\"\n",
    "    \n",
    "    def __init__(self, *, name, train_x, train_y, test_x, test_y):\n",
    "        self.name = name\n",
    "        self.train_x = train_x\n",
    "        self.train_y = train_y\n",
    "        self.test_x = test_x\n",
    "        self.test_y = test_y\n",
    "\n",
    "    def __repr__(self):\n",
    "        return \" \".join([\"<Data:\", f\"name={self.name},\",\n",
    "            f\"train_x.shape={self.train_x.shape}, train_y.shape={self.train_y.shape}\",\n",
    "            f\"test_x.shape={self.test_x.shape}, test_y.shape={self.test_y.shape}>\"])\n",
    "\n",
    "    def copy(self, *, name=None, suffix=\"copy\"):\n",
    "        \"\"\"Deep copy of a Data object. Dataframes are deeply copied that prevents mysterious data changes.\"\"\"\n",
    "        return Data(\n",
    "            name =  f\"{self.name}_{suffix}\" if (name is None) else name,\n",
    "            train_x = self.train_x.copy(),\n",
    "            train_y = self.train_y.copy(),\n",
    "            test_x = self.test_x.copy(),\n",
    "            test_y = self.test_y.copy())\n",
    "    \n",
    "    def drop_features(self, features):\n",
    "        \"\"\"Drop features from train and test set.\"\"\"\n",
    "        self.train_x.drop(features, axis=1, inplace=True)\n",
    "        self.test_x.drop(features, axis=1, inplace=True)\n",
    "        # raise NotImplementedError('Drop features function is yet not implemented.')\n",
    "\n",
    "    def convert_feature_to_ordinal(self, feature, categories):\n",
    "        \"\"\"Convert feature to ordinal categorical type.\n",
    "        Conversion is applied to either the train and test set.\n",
    "        \"\"\"\n",
    "        self.train_x[feature] = self.train_x[feature].astype(\n",
    "            pd.CategoricalDtype(categories=categories, ordered=True)).cat.codes\n",
    "        self.test_x[feature] = self.test_x[feature].astype(\n",
    "            pd.CategoricalDtype(categories=categories, ordered=True)).cat.codes\n",
    "        \n",
    "    def convert_feature_to_nominal(self, feature):\n",
    "        \"\"\"Convert feature to nominal categorical type.\n",
    "        Conversion is applied to either the train and test set.\n",
    "        \"\"\"\n",
    "        self.train_x[feature] = self.train_x[feature].astype('category')\n",
    "        self.test_x[feature] = self.test_x[feature].astype('category')\n",
    "        \n",
    "    def encode_features_one_hot(self, features):\n",
    "        \"\"\"For categorical features perform one-hot encoding.\n",
    "        Add the encoded features to given dataframe and drop the original (not-encoded) columns.\n",
    "        \"\"\"\n",
    "#     features = data.train.X.dtypes[data.train.X.dtypes == \"category\"].index.values\n",
    "        if (len(features) == 0): return data # No Categorical Features to Dummify\n",
    "    \n",
    "        self.train_x = pd.concat([\n",
    "            self.train_x.drop(features, axis=1),\n",
    "            pd.get_dummies(self.train_x[features], dtype=bool)\n",
    "        ], axis=1)\n",
    "        self.test_x = pd.concat([\n",
    "            self.test_x.drop(features, axis=1), \n",
    "            pd.get_dummies(self.test_x[features], dtype=bool)\n",
    "        ], axis=1)\n",
    "    \n",
    "        # Missing in test, needs to be added to test\n",
    "        add = self.train_x.columns.difference(self.test_x.columns) \n",
    "        self.test_x[add] = 0\n",
    "        # Missing in train, needs to be dropped from test\n",
    "        drop = self.test_x.columns.difference(self.train_x.columns)\n",
    "        self.test_x = self.test_x.drop(drop, axis=1)\n",
    "\n",
    "    def transform(self, transformer):\n",
    "        transformer.fit(self.train_x)\n",
    "        self.train_x = pd.DataFrame(\n",
    "            transformer.transform(self.train_x),\n",
    "            index   = self.train_x.index,\n",
    "            columns = self.train_x.columns\n",
    "        )\n",
    "#         transformer.fit(self.test_x)\n",
    "        self.test_x = pd.DataFrame(\n",
    "            transformer.transform(self.test_x),\n",
    "            index   = self.test_x.index,\n",
    "            columns = self.test_x.columns\n",
    "        )\n",
    "        \n",
    "    def reduce(self, reducer):\n",
    "        reducer.fit(self.train_x)\n",
    "        self.train_x = pd.DataFrame(\n",
    "            reducer.transform(self.train_x),\n",
    "            index   = self.train_x.index,\n",
    "        )\n",
    "        self.test_x = pd.DataFrame(\n",
    "            reducer.transform(self.test_x),\n",
    "            index   = self.test_x.index,\n",
    "        )\n",
    "\n",
    "class Model():\n",
    "    \"\"\"Class for easy model manipulation.\"\"\"\n",
    "\n",
    "    attributes = {\n",
    "        'name': None,\n",
    "        'regressor': None,\n",
    "        'data': None,\n",
    "        'prediction': None,\n",
    "        'rmse': None,\n",
    "        'rmsle': None,\n",
    "    }\n",
    "    \n",
    "    def __init__(self, **kwargs):\n",
    "        for k, v in kwargs.items():\n",
    "            if k not in self.attributes:\n",
    "                raise KeyError(\"Model does not implement attribute {k}.\")\n",
    "            setattr(self, k, v)\n",
    "            \n",
    "    def train(self):\n",
    "        print(f\"\\n[{self.name}] {self.data.name}\")\n",
    "        prediction = self.regressor.fit(self.data.train_x, self.data.train_y).predict(self.data.test_x)\n",
    "        self.prediction = pd.Series(prediction, index=self.data.test_x.index)\n",
    "        \n",
    "    def evaluate(self):\n",
    "        self.rmse = mean_squared_error(self.data.test_y, self.prediction)\n",
    "        self.rmsle = mean_squared_log_error(self.data.test_y, self.prediction)"
   ]
  },
  {
   "cell_type": "markdown",
   "metadata": {},
   "source": [
    "### Data cleansing methods"
   ]
  },
  {
   "cell_type": "code",
   "execution_count": 5,
   "metadata": {},
   "outputs": [],
   "source": [
    "def get_categorical_features(df):\n",
    "    categorical_features = []\n",
    "\n",
    "    for f in clean_df.columns:\n",
    "        if (isinstance(clean_df[f].dtypes, pd.CategoricalDtype)):\n",
    "            categorical_features.append(f)\n",
    "    return categorical_features\n",
    "\n"
   ]
  },
  {
   "cell_type": "code",
   "execution_count": 6,
   "metadata": {},
   "outputs": [],
   "source": [
    "def train_and_evaluate(datasets):\n",
    "    \"\"\"Train Linear Regression models for all data given and evaluate the results with RMSLE and NRMSE.\"\"\"\n",
    "    \n",
    "    print('\\n' ,' Create models '.center(79, '-'), '\\n')\n",
    "    models = []\n",
    "    for data in datasets:\n",
    "        models.append(Model(name='linear_regression', regressor=LinearRegression(), data=data))\n",
    "\n",
    "    print('\\n' ,' Train models '.center(79, '-'), '\\n')\n",
    "    predictions = []\n",
    "\n",
    "    for model in models:\n",
    "        predictions.append(model.train())\n",
    "    \n",
    "    print('\\n' ,' Transform negative predictions to zero '.center(79, '-'), '\\n')\n",
    "    for model in models:\n",
    "        print(f'[{model.name}] {model.data.name: <16} Number of negative predictions: {(model.prediction < 0).sum()}')\n",
    "        model.prediction[model.prediction < 0] = 0\n",
    "\n",
    "    print('\\n' ,' Evaluate models '.center(79, '-'), '\\n')\n",
    "    for model in models:\n",
    "        model.evaluate()\n",
    "    \n",
    "    print('\\n', ' Root-Mean-Square Log Error '.center(79, '-'), '\\n')\n",
    "    for model in models:\n",
    "        rmsle = model.rmsle\n",
    "        print(f'[{model.name}] {model.data.name: <16} Root-Mean-Square Log Error: {rmsle:.5}')\n",
    "    \n",
    "    print('\\n' ,' Nomralized Root-Mean-Square Error '.center(79, '-'), '\\n')\n",
    "    for model in models:\n",
    "        nrmse = model.rmse / model.data.test_y.mean()\n",
    "        print(f'[{model.name}] {model.data.name: <16} Nomralized Root-Mean-Square Error: {nrmse}')\n"
   ]
  },
  {
   "cell_type": "markdown",
   "metadata": {},
   "source": [
    "## 1) Download the dataset"
   ]
  },
  {
   "cell_type": "code",
   "execution_count": 7,
   "metadata": {},
   "outputs": [
    {
     "name": "stdout",
     "output_type": "stream",
     "text": [
      "Shape of the original dataframe: (1460, 81)\n",
      "\n",
      "                                   Data sample:                                 \n"
     ]
    },
    {
     "data": {
      "text/html": [
       "<div>\n",
       "<style scoped>\n",
       "    .dataframe tbody tr th:only-of-type {\n",
       "        vertical-align: middle;\n",
       "    }\n",
       "\n",
       "    .dataframe tbody tr th {\n",
       "        vertical-align: top;\n",
       "    }\n",
       "\n",
       "    .dataframe thead th {\n",
       "        text-align: right;\n",
       "    }\n",
       "</style>\n",
       "<table border=\"1\" class=\"dataframe\">\n",
       "  <thead>\n",
       "    <tr style=\"text-align: right;\">\n",
       "      <th></th>\n",
       "      <th>Id</th>\n",
       "      <th>MSSubClass</th>\n",
       "      <th>MSZoning</th>\n",
       "      <th>LotFrontage</th>\n",
       "      <th>LotArea</th>\n",
       "      <th>Street</th>\n",
       "      <th>Alley</th>\n",
       "      <th>LotShape</th>\n",
       "      <th>LandContour</th>\n",
       "      <th>Utilities</th>\n",
       "      <th>...</th>\n",
       "      <th>PoolArea</th>\n",
       "      <th>PoolQC</th>\n",
       "      <th>Fence</th>\n",
       "      <th>MiscFeature</th>\n",
       "      <th>MiscVal</th>\n",
       "      <th>MoSold</th>\n",
       "      <th>YrSold</th>\n",
       "      <th>SaleType</th>\n",
       "      <th>SaleCondition</th>\n",
       "      <th>SalePrice</th>\n",
       "    </tr>\n",
       "  </thead>\n",
       "  <tbody>\n",
       "    <tr>\n",
       "      <th>1034</th>\n",
       "      <td>1035</td>\n",
       "      <td>30</td>\n",
       "      <td>RL</td>\n",
       "      <td>50.0</td>\n",
       "      <td>6305</td>\n",
       "      <td>Pave</td>\n",
       "      <td>NaN</td>\n",
       "      <td>Reg</td>\n",
       "      <td>Bnk</td>\n",
       "      <td>AllPub</td>\n",
       "      <td>...</td>\n",
       "      <td>0</td>\n",
       "      <td>NaN</td>\n",
       "      <td>MnPrv</td>\n",
       "      <td>NaN</td>\n",
       "      <td>0</td>\n",
       "      <td>6</td>\n",
       "      <td>2007</td>\n",
       "      <td>WD</td>\n",
       "      <td>Normal</td>\n",
       "      <td>119750</td>\n",
       "    </tr>\n",
       "    <tr>\n",
       "      <th>857</th>\n",
       "      <td>858</td>\n",
       "      <td>60</td>\n",
       "      <td>RL</td>\n",
       "      <td>65.0</td>\n",
       "      <td>8125</td>\n",
       "      <td>Pave</td>\n",
       "      <td>NaN</td>\n",
       "      <td>Reg</td>\n",
       "      <td>Lvl</td>\n",
       "      <td>AllPub</td>\n",
       "      <td>...</td>\n",
       "      <td>0</td>\n",
       "      <td>NaN</td>\n",
       "      <td>NaN</td>\n",
       "      <td>NaN</td>\n",
       "      <td>0</td>\n",
       "      <td>3</td>\n",
       "      <td>2009</td>\n",
       "      <td>WD</td>\n",
       "      <td>Normal</td>\n",
       "      <td>174000</td>\n",
       "    </tr>\n",
       "    <tr>\n",
       "      <th>76</th>\n",
       "      <td>77</td>\n",
       "      <td>20</td>\n",
       "      <td>RL</td>\n",
       "      <td>NaN</td>\n",
       "      <td>8475</td>\n",
       "      <td>Pave</td>\n",
       "      <td>NaN</td>\n",
       "      <td>IR1</td>\n",
       "      <td>Lvl</td>\n",
       "      <td>AllPub</td>\n",
       "      <td>...</td>\n",
       "      <td>0</td>\n",
       "      <td>NaN</td>\n",
       "      <td>NaN</td>\n",
       "      <td>NaN</td>\n",
       "      <td>0</td>\n",
       "      <td>4</td>\n",
       "      <td>2008</td>\n",
       "      <td>WD</td>\n",
       "      <td>Normal</td>\n",
       "      <td>135750</td>\n",
       "    </tr>\n",
       "  </tbody>\n",
       "</table>\n",
       "<p>3 rows × 81 columns</p>\n",
       "</div>"
      ],
      "text/plain": [
       "        Id  MSSubClass MSZoning  LotFrontage  LotArea Street Alley LotShape  \\\n",
       "1034  1035          30       RL         50.0     6305   Pave   NaN      Reg   \n",
       "857    858          60       RL         65.0     8125   Pave   NaN      Reg   \n",
       "76      77          20       RL          NaN     8475   Pave   NaN      IR1   \n",
       "\n",
       "     LandContour Utilities  ... PoolArea PoolQC  Fence MiscFeature MiscVal  \\\n",
       "1034         Bnk    AllPub  ...        0    NaN  MnPrv         NaN       0   \n",
       "857          Lvl    AllPub  ...        0    NaN    NaN         NaN       0   \n",
       "76           Lvl    AllPub  ...        0    NaN    NaN         NaN       0   \n",
       "\n",
       "     MoSold YrSold  SaleType  SaleCondition  SalePrice  \n",
       "1034      6   2007        WD         Normal     119750  \n",
       "857       3   2009        WD         Normal     174000  \n",
       "76        4   2008        WD         Normal     135750  \n",
       "\n",
       "[3 rows x 81 columns]"
      ]
     },
     "metadata": {},
     "output_type": "display_data"
    }
   ],
   "source": [
    "# Load the Dataframe\n",
    "original_df = pd.read_csv('data.csv')\n",
    "# Data shape\n",
    "print(f\"Shape of the original dataframe: {original_df.shape}\")\n",
    "# Data sample\n",
    "print('\\n', ' Data sample: '.center(79)); display(original_df.sample(n=3))"
   ]
  },
  {
   "cell_type": "code",
   "execution_count": 8,
   "metadata": {},
   "outputs": [
    {
     "name": "stdout",
     "output_type": "stream",
     "text": [
      "<class 'pandas.core.frame.DataFrame'>\n",
      "RangeIndex: 1460 entries, 0 to 1459\n",
      "Data columns (total 81 columns):\n",
      " #   Column         Non-Null Count  Dtype  \n",
      "---  ------         --------------  -----  \n",
      " 0   Id             1460 non-null   int64  \n",
      " 1   MSSubClass     1460 non-null   int64  \n",
      " 2   MSZoning       1460 non-null   object \n",
      " 3   LotFrontage    1201 non-null   float64\n",
      " 4   LotArea        1460 non-null   int64  \n",
      " 5   Street         1460 non-null   object \n",
      " 6   Alley          91 non-null     object \n",
      " 7   LotShape       1460 non-null   object \n",
      " 8   LandContour    1460 non-null   object \n",
      " 9   Utilities      1460 non-null   object \n",
      " 10  LotConfig      1460 non-null   object \n",
      " 11  LandSlope      1460 non-null   object \n",
      " 12  Neighborhood   1460 non-null   object \n",
      " 13  Condition1     1460 non-null   object \n",
      " 14  Condition2     1460 non-null   object \n",
      " 15  BldgType       1460 non-null   object \n",
      " 16  HouseStyle     1460 non-null   object \n",
      " 17  OverallQual    1460 non-null   int64  \n",
      " 18  OverallCond    1460 non-null   int64  \n",
      " 19  YearBuilt      1460 non-null   int64  \n",
      " 20  YearRemodAdd   1460 non-null   int64  \n",
      " 21  RoofStyle      1460 non-null   object \n",
      " 22  RoofMatl       1460 non-null   object \n",
      " 23  Exterior1st    1460 non-null   object \n",
      " 24  Exterior2nd    1460 non-null   object \n",
      " 25  MasVnrType     1452 non-null   object \n",
      " 26  MasVnrArea     1452 non-null   float64\n",
      " 27  ExterQual      1460 non-null   object \n",
      " 28  ExterCond      1460 non-null   object \n",
      " 29  Foundation     1460 non-null   object \n",
      " 30  BsmtQual       1423 non-null   object \n",
      " 31  BsmtCond       1423 non-null   object \n",
      " 32  BsmtExposure   1422 non-null   object \n",
      " 33  BsmtFinType1   1423 non-null   object \n",
      " 34  BsmtFinSF1     1460 non-null   int64  \n",
      " 35  BsmtFinType2   1422 non-null   object \n",
      " 36  BsmtFinSF2     1460 non-null   int64  \n",
      " 37  BsmtUnfSF      1460 non-null   int64  \n",
      " 38  TotalBsmtSF    1460 non-null   int64  \n",
      " 39  Heating        1460 non-null   object \n",
      " 40  HeatingQC      1460 non-null   object \n",
      " 41  CentralAir     1460 non-null   object \n",
      " 42  Electrical     1459 non-null   object \n",
      " 43  1stFlrSF       1460 non-null   int64  \n",
      " 44  2ndFlrSF       1460 non-null   int64  \n",
      " 45  LowQualFinSF   1460 non-null   int64  \n",
      " 46  GrLivArea      1460 non-null   int64  \n",
      " 47  BsmtFullBath   1460 non-null   int64  \n",
      " 48  BsmtHalfBath   1460 non-null   int64  \n",
      " 49  FullBath       1460 non-null   int64  \n",
      " 50  HalfBath       1460 non-null   int64  \n",
      " 51  BedroomAbvGr   1460 non-null   int64  \n",
      " 52  KitchenAbvGr   1460 non-null   int64  \n",
      " 53  KitchenQual    1460 non-null   object \n",
      " 54  TotRmsAbvGrd   1460 non-null   int64  \n",
      " 55  Functional     1460 non-null   object \n",
      " 56  Fireplaces     1460 non-null   int64  \n",
      " 57  FireplaceQu    770 non-null    object \n",
      " 58  GarageType     1379 non-null   object \n",
      " 59  GarageYrBlt    1379 non-null   float64\n",
      " 60  GarageFinish   1379 non-null   object \n",
      " 61  GarageCars     1460 non-null   int64  \n",
      " 62  GarageArea     1460 non-null   int64  \n",
      " 63  GarageQual     1379 non-null   object \n",
      " 64  GarageCond     1379 non-null   object \n",
      " 65  PavedDrive     1460 non-null   object \n",
      " 66  WoodDeckSF     1460 non-null   int64  \n",
      " 67  OpenPorchSF    1460 non-null   int64  \n",
      " 68  EnclosedPorch  1460 non-null   int64  \n",
      " 69  3SsnPorch      1460 non-null   int64  \n",
      " 70  ScreenPorch    1460 non-null   int64  \n",
      " 71  PoolArea       1460 non-null   int64  \n",
      " 72  PoolQC         7 non-null      object \n",
      " 73  Fence          281 non-null    object \n",
      " 74  MiscFeature    54 non-null     object \n",
      " 75  MiscVal        1460 non-null   int64  \n",
      " 76  MoSold         1460 non-null   int64  \n",
      " 77  YrSold         1460 non-null   int64  \n",
      " 78  SaleType       1460 non-null   object \n",
      " 79  SaleCondition  1460 non-null   object \n",
      " 80  SalePrice      1460 non-null   int64  \n",
      "dtypes: float64(3), int64(35), object(43)\n",
      "memory usage: 924.0+ KB\n"
     ]
    }
   ],
   "source": [
    "# Basic information about the loaded dataframe\n",
    "original_df.info()"
   ]
  },
  {
   "cell_type": "markdown",
   "metadata": {},
   "source": [
    "### Explore different data types"
   ]
  },
  {
   "cell_type": "code",
   "execution_count": 9,
   "metadata": {},
   "outputs": [
    {
     "name": "stdout",
     "output_type": "stream",
     "text": [
      "Number of features per type\n",
      "int64: 35\n",
      "object: 43\n",
      "float64: 3\n"
     ]
    }
   ],
   "source": [
    "print(\"Number of features per type\")\n",
    "for dtype in unique_data_types(original_df):\n",
    "    print(dtype, len(columns_by_type(original_df, dtype)), sep=\": \")"
   ]
  },
  {
   "cell_type": "markdown",
   "metadata": {},
   "source": [
    "### Explore missing values"
   ]
  },
  {
   "cell_type": "code",
   "execution_count": 10,
   "metadata": {},
   "outputs": [
    {
     "data": {
      "image/png": "[encoded data removed]",
      "text/plain": [
       "<Figure size 576x432 with 1 Axes>"
      ]
     },
     "metadata": {
      "needs_background": "light"
     },
     "output_type": "display_data"
    }
   ],
   "source": [
    "_ = show_missing_values(original_df)"
   ]
  },
  {
   "cell_type": "markdown",
   "metadata": {},
   "source": [
    "### Explore object datatypes"
   ]
  },
  {
   "cell_type": "code",
   "execution_count": 11,
   "metadata": {},
   "outputs": [
    {
     "data": {
      "text/plain": [
       "array([dtype('int64'), dtype('O'), dtype('float64')], dtype=object)"
      ]
     },
     "execution_count": 11,
     "metadata": {},
     "output_type": "execute_result"
    }
   ],
   "source": [
    "unique_data_types(original_df)"
   ]
  },
  {
   "cell_type": "code",
   "execution_count": 12,
   "metadata": {
    "scrolled": false
   },
   "outputs": [
    {
     "name": "stdout",
     "output_type": "stream",
     "text": [
      "MSZoning       5  - ['RL' 'RM' 'C (all)' 'FV' 'RH']\n",
      "Street         2  - ['Pave' 'Grvl']\n",
      "Alley          3  - [nan 'Grvl' 'Pave']\n",
      "LotShape       4  - ['Reg' 'IR1' 'IR2' 'IR3']\n",
      "LandContour    4  - ['Lvl' 'Bnk' 'Low' 'HLS']\n",
      "Utilities      2  - ['AllPub' 'NoSeWa']\n",
      "LotConfig      5  - ['Inside' 'FR2' 'Corner' 'CulDSac' 'FR3']\n",
      "LandSlope      3  - ['Gtl' 'Mod' 'Sev']\n",
      "Neighborhood   25 - ['CollgCr' 'Veenker' 'Crawfor' 'NoRidge' 'Mitchel' 'Somerst' 'NWAmes'\n",
      " 'OldTown' 'BrkSide' 'Sawyer' 'NridgHt' 'NAmes' 'SawyerW' 'IDOTRR'\n",
      " 'MeadowV' 'Edwards' 'Timber' 'Gilbert' 'StoneBr' 'ClearCr' 'NPkVill'\n",
      " 'Blmngtn' 'BrDale' 'SWISU' 'Blueste']\n",
      "Condition1     9  - ['Norm' 'Feedr' 'PosN' 'Artery' 'RRAe' 'RRNn' 'RRAn' 'PosA' 'RRNe']\n",
      "Condition2     8  - ['Norm' 'Artery' 'RRNn' 'Feedr' 'PosN' 'PosA' 'RRAn' 'RRAe']\n",
      "BldgType       5  - ['1Fam' '2fmCon' 'Duplex' 'TwnhsE' 'Twnhs']\n",
      "HouseStyle     8  - ['2Story' '1Story' '1.5Fin' '1.5Unf' 'SFoyer' 'SLvl' '2.5Unf' '2.5Fin']\n",
      "RoofStyle      6  - ['Gable' 'Hip' 'Gambrel' 'Mansard' 'Flat' 'Shed']\n",
      "RoofMatl       8  - ['CompShg' 'WdShngl' 'Metal' 'WdShake' 'Membran' 'Tar&Grv' 'Roll'\n",
      " 'ClyTile']\n",
      "Exterior1st    15 - ['VinylSd' 'MetalSd' 'Wd Sdng' 'HdBoard' 'BrkFace' 'WdShing' 'CemntBd'\n",
      " 'Plywood' 'AsbShng' 'Stucco' 'BrkComm' 'AsphShn' 'Stone' 'ImStucc'\n",
      " 'CBlock']\n",
      "Exterior2nd    16 - ['VinylSd' 'MetalSd' 'Wd Shng' 'HdBoard' 'Plywood' 'Wd Sdng' 'CmentBd'\n",
      " 'BrkFace' 'Stucco' 'AsbShng' 'Brk Cmn' 'ImStucc' 'AsphShn' 'Stone'\n",
      " 'Other' 'CBlock']\n",
      "MasVnrType     5  - ['BrkFace' 'None' 'Stone' 'BrkCmn' nan]\n",
      "ExterQual      4  - ['Gd' 'TA' 'Ex' 'Fa']\n",
      "ExterCond      5  - ['TA' 'Gd' 'Fa' 'Po' 'Ex']\n",
      "Foundation     6  - ['PConc' 'CBlock' 'BrkTil' 'Wood' 'Slab' 'Stone']\n",
      "BsmtQual       5  - ['Gd' 'TA' 'Ex' nan 'Fa']\n",
      "BsmtCond       5  - ['TA' 'Gd' nan 'Fa' 'Po']\n",
      "BsmtExposure   5  - ['No' 'Gd' 'Mn' 'Av' nan]\n",
      "BsmtFinType1   7  - ['GLQ' 'ALQ' 'Unf' 'Rec' 'BLQ' nan 'LwQ']\n",
      "BsmtFinType2   7  - ['Unf' 'BLQ' nan 'ALQ' 'Rec' 'LwQ' 'GLQ']\n",
      "Heating        6  - ['GasA' 'GasW' 'Grav' 'Wall' 'OthW' 'Floor']\n",
      "HeatingQC      5  - ['Ex' 'Gd' 'TA' 'Fa' 'Po']\n",
      "CentralAir     2  - ['Y' 'N']\n",
      "Electrical     6  - ['SBrkr' 'FuseF' 'FuseA' 'FuseP' 'Mix' nan]\n",
      "KitchenQual    4  - ['Gd' 'TA' 'Ex' 'Fa']\n",
      "Functional     7  - ['Typ' 'Min1' 'Maj1' 'Min2' 'Mod' 'Maj2' 'Sev']\n",
      "FireplaceQu    6  - [nan 'TA' 'Gd' 'Fa' 'Ex' 'Po']\n",
      "GarageType     7  - ['Attchd' 'Detchd' 'BuiltIn' 'CarPort' nan 'Basment' '2Types']\n",
      "GarageFinish   4  - ['RFn' 'Unf' 'Fin' nan]\n",
      "GarageQual     6  - ['TA' 'Fa' 'Gd' nan 'Ex' 'Po']\n",
      "GarageCond     6  - ['TA' 'Fa' nan 'Gd' 'Po' 'Ex']\n",
      "PavedDrive     3  - ['Y' 'N' 'P']\n",
      "PoolQC         4  - [nan 'Ex' 'Fa' 'Gd']\n",
      "Fence          5  - [nan 'MnPrv' 'GdWo' 'GdPrv' 'MnWw']\n",
      "MiscFeature    5  - [nan 'Shed' 'Gar2' 'Othr' 'TenC']\n",
      "SaleType       9  - ['WD' 'New' 'COD' 'ConLD' 'ConLI' 'CWD' 'ConLw' 'Con' 'Oth']\n",
      "SaleCondition  6  - ['Normal' 'Abnorml' 'Partial' 'AdjLand' 'Alloca' 'Family']\n"
     ]
    }
   ],
   "source": [
    "for feature in columns_by_type(original_df, np.dtype('O')):\n",
    "    unique_vals = original_df[feature].unique()\n",
    "    print(f'{feature: <14} {len(unique_vals): <2} - {unique_vals}')"
   ]
  },
  {
   "cell_type": "markdown",
   "metadata": {},
   "source": [
    "## 2) Feature transformation\n",
    "\n",
    "- convert them to the right types boolean, categorical etc."
   ]
  },
  {
   "cell_type": "markdown",
   "metadata": {},
   "source": [
    "### Split dataframe into features and target variable"
   ]
  },
  {
   "cell_type": "code",
   "execution_count": 13,
   "metadata": {},
   "outputs": [],
   "source": [
    "original_y = original_df['SalePrice'].copy()\n",
    "original_x = original_df.drop('SalePrice', axis=1).copy()"
   ]
  },
  {
   "cell_type": "markdown",
   "metadata": {},
   "source": [
    "### Create Data object with data splitted to the train and test set "
   ]
  },
  {
   "cell_type": "code",
   "execution_count": 14,
   "metadata": {},
   "outputs": [],
   "source": [
    "train_x, test_x, train_y, test_y = train_test_split(original_x, original_y, test_size=0.20, random_state=SEED)\n",
    "\n",
    "original = Data(name='original', train_x=train_x, train_y=train_y, test_x=test_x, test_y=test_y)"
   ]
  },
  {
   "cell_type": "markdown",
   "metadata": {},
   "source": [
    "### Convert object features to ordinal, nominal, boolean etc.\n",
    "\n",
    "- Because of the linear regression all the nominal features are one-hot encoded. (Not saying that which different regressor it would not be the same)."
   ]
  },
  {
   "cell_type": "code",
   "execution_count": 15,
   "metadata": {},
   "outputs": [
    {
     "data": {
      "text/plain": [
       "<Data: name=clean, train_x.shape=(1168, 80), train_y.shape=(1168,) test_x.shape=(292, 80), test_y.shape=(292,)>"
      ]
     },
     "metadata": {},
     "output_type": "display_data"
    },
    {
     "name": "stdout",
     "output_type": "stream",
     "text": [
      "There are no missing values.\n",
      "\n",
      " Data after basic cleansing: <Data: name=clean, train_x.shape=(1168, 134), train_y.shape=(1168,) test_x.shape=(292, 134), test_y.shape=(292,)>\n"
     ]
    }
   ],
   "source": [
    "clean = original.copy(name='clean')\n",
    "display(clean)\n",
    "\n",
    "nominal_features = []\n",
    "drop_features = []\n",
    "\n",
    "# 'MSZoning':     Nominal\n",
    "nominal_features.append('MSZoning')\n",
    "\n",
    "# 'Street':       Boolean - street Paved or Gravel {'Pave', 'Grvl'}\n",
    "clean.train_x['street_paved'] = (clean.train_x['Street'] == 'Pave')\n",
    "clean.test_x['street_paved'] = (clean.test_x['Street'] == 'Pave')\n",
    "drop_features.append('Street')\n",
    "\n",
    "# 'Alley':        Boolean - alley Paved, Gravel (or NA-No Access not in data) {'Pave', 'Grvl', 'NA', nan}\n",
    "clean.train_x['alley_paved'] = (clean.train_x['Alley'] == 'Pave')\n",
    "clean.test_x['alley_paved'] = (clean.test_x['Alley'] == 'Pave')\n",
    "drop_features.append('Alley')\n",
    "\n",
    "# 'LotShape':     Ordinal - ['Reg' 'IR1' 'IR2' 'IR3']\n",
    "clean.convert_feature_to_ordinal('LotShape', ['Reg', 'IR1', 'IR2', 'IR3'])\n",
    "\n",
    "# 'LandContour':  Nominal - {Lvl-Flat/Level, Bnk-Banked, HLS-Hillside, Low-Depression}\n",
    "nominal_features.append('LandContour') # (Could be ordinal but I am not sure about Low-Depression) \n",
    "\n",
    "# 'Utilities':    Ordinal - {'AllPub' (All), 'NoSewr' (El.+gas+water), 'NoSeWa' (El.+gas), 'ELO' (El.)}\n",
    "clean.convert_feature_to_ordinal('Utilities', ['AllPub', 'NoSewr', 'NoSeWa', 'ELO'])\n",
    "\n",
    "# 'LotConfig':    Nominal - {'Inside', 'Corner', 'CulDSac' 'FR2', 'FR3'}\n",
    "nominal_features.append('LotConfig')\n",
    "\n",
    "# 'LandSlope':    Ordinal - {'Gtl' (Gentle), 'Mod' (Moderate), 'Sev' (Severe)}\n",
    "clean.convert_feature_to_ordinal('LandSlope', ['Gtl', 'Mod', 'Sev'])\n",
    "\n",
    "# 'Neighborhood': Nominal - Physical locations within Ames city limits\n",
    "nominal_features.append('Neighborhood')\n",
    "\n",
    "# 'Condition1':   Nominal - Proximity to various conditions\n",
    "nominal_features.append('Condition1')\n",
    "\n",
    "# 'Condition2':   Nominal - Proximity to various conditions (if more than one is present)\n",
    "nominal_features.append('Condition2')\n",
    "\n",
    "# 'BldgType':     Nominal - {1Fam, '2FmCon', 'Duplx', 'TwnhsE', 'TwnhsI'}\n",
    "nominal_features.append('BldgType')\n",
    "'''\n",
    "f = 'HouseStyle'    #\n",
    "f = 'RoofStyle'     #\n",
    "f = 'RoofMatl'      #\n",
    "f = 'Exterior1st'   #\n",
    "f = 'Exterior2nd'   #\n",
    "f = 'MasVnrType'    #\n",
    "f = 'ExterQual'     #\n",
    "f = 'ExterCond'     #\n",
    "f = 'Foundation'    #\n",
    "f = 'BsmtQual'      #\n",
    "f = 'BsmtCond'      #\n",
    "f = 'BsmtExposure'  #\n",
    "f = 'BsmtFinType1'  #\n",
    "f = 'BsmtFinType2'  #\n",
    "f = 'Heating'       #\n",
    "f = 'HeatingQC'     #\n",
    "f = 'CentralAir'    #\n",
    "f = 'Electrical'    #\n",
    "f = 'KitchenQual'   #\n",
    "f = 'Functional'    #\n",
    "f = 'FireplaceQu'   #\n",
    "f = 'GarageType'    #\n",
    "f = 'GarageFinish'  #\n",
    "f = 'GarageQual'    #\n",
    "f = 'GarageCond'    #\n",
    "f = 'PavedDrive'    #\n",
    "f = 'PoolQC'        #\n",
    "f = 'Fence'         #\n",
    "f = 'MiscFeature'   #\n",
    "f = 'SaleType'      #\n",
    "f = 'SaleCondition' #\n",
    "'''\n",
    "\n",
    "# Convert nominal features from object to category type\n",
    "for feature in nominal_features:\n",
    "    clean.convert_feature_to_nominal(feature)\n",
    "    \n",
    "# One-hot encoding of the nominal features\n",
    "clean.encode_features_one_hot(nominal_features)\n",
    "\n",
    "# Drop features that were transformed into another ones\n",
    "clean.drop_features(drop_features)\n",
    "\n",
    "# Check ordinal features not for enumarated values \n",
    "show_missing_values(clean.train_x, missing_code=-1)\n",
    "\n",
    "print('\\n', f'Data after basic cleansing: {clean}')"
   ]
  },
  {
   "cell_type": "markdown",
   "metadata": {},
   "source": [
    "### Show unique feature types"
   ]
  },
  {
   "cell_type": "code",
   "execution_count": 16,
   "metadata": {},
   "outputs": [
    {
     "data": {
      "text/plain": [
       "array([dtype('int64'), dtype('float64'), dtype('int8'), dtype('O'),\n",
       "       dtype('bool')], dtype=object)"
      ]
     },
     "execution_count": 16,
     "metadata": {},
     "output_type": "execute_result"
    }
   ],
   "source": [
    "unique_data_types(clean.train_x)"
   ]
  },
  {
   "cell_type": "markdown",
   "metadata": {},
   "source": [
    "### Create temporary dataframe before the cleansing is not done\n",
    "\n",
    "- Drop all unsanitized features (of object type, or with missing values)"
   ]
  },
  {
   "cell_type": "code",
   "execution_count": 17,
   "metadata": {},
   "outputs": [],
   "source": [
    "drop_features = clean.train_x.columns[(clean.train_x.dtypes == np.dtype('O')) | (clean.train_x.isna().sum() != 0)]\n",
    "\n",
    "temporary = clean.copy(suffix='tmp')\n",
    "temporary.drop_features(drop_features)"
   ]
  },
  {
   "cell_type": "code",
   "execution_count": 18,
   "metadata": {},
   "outputs": [
    {
     "data": {
      "text/plain": [
       "<Data: name=clean_tmp, train_x.shape=(1168, 100), train_y.shape=(1168,) test_x.shape=(292, 100), test_y.shape=(292,)>"
      ]
     },
     "execution_count": 18,
     "metadata": {},
     "output_type": "execute_result"
    }
   ],
   "source": [
    "temporary"
   ]
  },
  {
   "cell_type": "markdown",
   "metadata": {},
   "source": [
    "### Data Transformation "
   ]
  },
  {
   "cell_type": "code",
   "execution_count": 19,
   "metadata": {},
   "outputs": [],
   "source": [
    "transformers = [\n",
    "    ('MinMaxScaler', MinMaxScaler()),\n",
    "    ('PowerTransformer', PowerTransformer()),\n",
    "    ('QuantileTransformer', QuantileTransformer()),\n",
    "    ('RobustScaler', RobustScaler(with_centering=True, with_scaling=True, quantile_range=(25.0, 75.0))), #unit_variance=True\n",
    "    ('StandardScaler', StandardScaler()),\n",
    "]"
   ]
  },
  {
   "cell_type": "code",
   "execution_count": 20,
   "metadata": {},
   "outputs": [
    {
     "name": "stderr",
     "output_type": "stream",
     "text": [
      "/home/langerjaros/.langerenv_0.2/lib/python3.6/site-packages/numpy/core/_methods.py:205: RuntimeWarning: overflow encountered in multiply\n",
      "  x = um.multiply(x, x, out=x)\n"
     ]
    }
   ],
   "source": [
    "transformed_data = []\n",
    "\n",
    "for name, transformer in transformers:\n",
    "    data = temporary.copy(name=name)\n",
    "    data.transform(transformer)\n",
    "    transformed_data.append(data)"
   ]
  },
  {
   "cell_type": "markdown",
   "metadata": {},
   "source": [
    "### Check missing values for linear regression"
   ]
  },
  {
   "cell_type": "code",
   "execution_count": 23,
   "metadata": {},
   "outputs": [
    {
     "data": {
      "text/plain": [
       "0"
      ]
     },
     "execution_count": 23,
     "metadata": {},
     "output_type": "execute_result"
    }
   ],
   "source": [
    "temporary.train_x.isna().sum().sum()"
   ]
  },
  {
   "cell_type": "markdown",
   "metadata": {},
   "source": [
    "### Train and evaluate transformed data"
   ]
  },
  {
   "cell_type": "code",
   "execution_count": 24,
   "metadata": {},
   "outputs": [
    {
     "name": "stdout",
     "output_type": "stream",
     "text": [
      "\n",
      " -------------------------------- Create models -------------------------------- \n",
      "\n",
      "\n",
      " --------------------------------- Train models -------------------------------- \n",
      "\n",
      "\n",
      "[linear_regression] clean_tmp\n",
      "\n",
      "[linear_regression] MinMaxScaler\n",
      "\n",
      "[linear_regression] PowerTransformer\n",
      "\n",
      "[linear_regression] QuantileTransformer\n",
      "\n",
      "[linear_regression] RobustScaler\n",
      "\n",
      "[linear_regression] StandardScaler\n",
      "\n",
      " -------------------- Transform negative predictions to zero ------------------- \n",
      "\n",
      "[linear_regression] clean_tmp        Number of negative predictions: 3\n",
      "[linear_regression] MinMaxScaler     Number of negative predictions: 291\n",
      "[linear_regression] PowerTransformer Number of negative predictions: 292\n",
      "[linear_regression] QuantileTransformer Number of negative predictions: 0\n",
      "[linear_regression] RobustScaler     Number of negative predictions: 3\n",
      "[linear_regression] StandardScaler   Number of negative predictions: 291\n",
      "\n",
      " ------------------------------- Evaluate models ------------------------------- \n",
      "\n",
      "\n",
      " -------------------------- Root-Mean-Square Log Error ------------------------- \n",
      "\n",
      "[linear_regression] clean_tmp        Root-Mean-Square Log Error: 1.389\n",
      "[linear_regression] MinMaxScaler     Root-Mean-Square Log Error: 146.27\n",
      "[linear_regression] PowerTransformer Root-Mean-Square Log Error: 144.13\n",
      "[linear_regression] QuantileTransformer Root-Mean-Square Log Error: 669.85\n",
      "[linear_regression] RobustScaler     Root-Mean-Square Log Error: 1.389\n",
      "[linear_regression] StandardScaler   Root-Mean-Square Log Error: 146.2\n",
      "\n",
      " ---------------------- Nomralized Root-Mean-Square Error ---------------------- \n",
      "\n",
      "[linear_regression] clean_tmp        Nomralized Root-Mean-Square Error: 9968.213189252783\n",
      "[linear_regression] MinMaxScaler     Nomralized Root-Mean-Square Error: 5.099642159467862e+25\n",
      "[linear_regression] PowerTransformer Nomralized Root-Mean-Square Error: 221729.1780364976\n",
      "[linear_regression] QuantileTransformer Nomralized Root-Mean-Square Error: 4.4261528882194696e+27\n",
      "[linear_regression] RobustScaler     Nomralized Root-Mean-Square Error: 9968.21318920749\n",
      "[linear_regression] StandardScaler   Nomralized Root-Mean-Square Error: 2.521300792521128e+25\n"
     ]
    }
   ],
   "source": [
    "train_and_evaluate([temporary, *transformed_data])"
   ]
  },
  {
   "cell_type": "markdown",
   "metadata": {},
   "source": [
    "## 3) Features subset"
   ]
  },
  {
   "cell_type": "code",
   "execution_count": 25,
   "metadata": {},
   "outputs": [],
   "source": [
    "subset = temporary.copy(name='subset')"
   ]
  },
  {
   "cell_type": "markdown",
   "metadata": {},
   "source": [
    "### Feature importance"
   ]
  },
  {
   "cell_type": "code",
   "execution_count": 28,
   "metadata": {},
   "outputs": [],
   "source": [
    "features_nums = [\n",
    "    ('rows_one_third', int(np.ceil(subset.train_x.shape[0]/3))),\n",
    "    ('rows_sqrt', int(np.ceil(np.sqrt(subset.train_x.shape[0])))),\n",
    "    ('rows_cbrt', int(np.ceil(np.cbrt(subset.train_x.shape[0])))),\n",
    "    ('rows_log2', int(np.ceil(np.log2(subset.train_x.shape[0])))),\n",
    "]\n",
    "\n",
    "features_nums = [(name, num) for name, num in features_nums if num <= len(temporary.train_x.columns)]\n",
    "\n",
    "subset_data = []\n",
    "\n",
    "for name, features_num in features_nums:\n",
    "    data = subset.copy(suffix=name)\n",
    "    regressor = LinearRegression()\n",
    "    selector = RFE(regressor, n_features_to_select=features_num, step=1)\n",
    "    selector = selector.fit(subset.train_x, subset.train_x)\n",
    "    \n",
    "    drop_features = subset.train_x.columns[~ selector.support_]\n",
    "    data.drop_features(drop_features)\n",
    "    \n",
    "    subset_data.append(data)"
   ]
  },
  {
   "cell_type": "code",
   "execution_count": 30,
   "metadata": {},
   "outputs": [
    {
     "name": "stdout",
     "output_type": "stream",
     "text": [
      "\n",
      " -------------------------------- Create models -------------------------------- \n",
      "\n",
      "\n",
      " --------------------------------- Train models -------------------------------- \n",
      "\n",
      "\n",
      "[linear_regression] clean_tmp\n",
      "\n",
      "[linear_regression] subset_rows_sqrt\n",
      "\n",
      "[linear_regression] subset_rows_cbrt\n",
      "\n",
      "[linear_regression] subset_rows_log2\n",
      "\n",
      " -------------------- Transform negative predictions to zero ------------------- \n",
      "\n",
      "[linear_regression] clean_tmp        Number of negative predictions: 3\n",
      "[linear_regression] subset_rows_sqrt Number of negative predictions: 1\n",
      "[linear_regression] subset_rows_cbrt Number of negative predictions: 0\n",
      "[linear_regression] subset_rows_log2 Number of negative predictions: 0\n",
      "\n",
      " ------------------------------- Evaluate models ------------------------------- \n",
      "\n",
      "\n",
      " -------------------------- Root-Mean-Square Log Error ------------------------- \n",
      "\n",
      "[linear_regression] clean_tmp        Root-Mean-Square Log Error: 1.389\n",
      "[linear_regression] subset_rows_sqrt Root-Mean-Square Log Error: 0.67491\n",
      "[linear_regression] subset_rows_cbrt Root-Mean-Square Log Error: 0.20132\n",
      "[linear_regression] subset_rows_log2 Root-Mean-Square Log Error: 0.20132\n",
      "\n",
      " ---------------------- Nomralized Root-Mean-Square Error ---------------------- \n",
      "\n",
      "[linear_regression] clean_tmp        Nomralized Root-Mean-Square Error: 9968.213189252783\n",
      "[linear_regression] subset_rows_sqrt Nomralized Root-Mean-Square Error: 36386.56594630015\n",
      "[linear_regression] subset_rows_cbrt Nomralized Root-Mean-Square Error: 43819.299024688415\n",
      "[linear_regression] subset_rows_log2 Nomralized Root-Mean-Square Error: 43819.299024688415\n"
     ]
    }
   ],
   "source": [
    "train_and_evaluate([temporary, *subset_data])"
   ]
  },
  {
   "cell_type": "markdown",
   "metadata": {},
   "source": [
    "## 4) Principal Component Analysis"
   ]
  },
  {
   "cell_type": "code",
   "execution_count": 32,
   "metadata": {},
   "outputs": [],
   "source": [
    "pca = temporary.copy(name='pca')"
   ]
  },
  {
   "cell_type": "code",
   "execution_count": 34,
   "metadata": {},
   "outputs": [
    {
     "name": "stdout",
     "output_type": "stream",
     "text": [
      "[('rows_sqrt', 35), ('rows_cbrt', 11), ('rows_log2', 11)]\n"
     ]
    }
   ],
   "source": [
    "components_nums = [\n",
    "    ('rows_one_third', int(np.ceil(pca.train_x.shape[0]/3))),\n",
    "    ('rows_sqrt', int(np.ceil(np.sqrt(pca.train_x.shape[0])))),\n",
    "    ('rows_cbrt', int(np.ceil(np.cbrt(pca.train_x.shape[0])))),\n",
    "    ('rows_log2', int(np.ceil(np.log2(pca.train_x.shape[0])))),\n",
    "]\n",
    "\n",
    "components_nums = [(name, num) for name, num in components_nums if num <= len(temporary.train_x.columns)]\n",
    "print(components_nums)    \n",
    "\n",
    "data_pca = []\n",
    "\n",
    "for name, components_num in components_nums:\n",
    "    data = temporary.copy(suffix=name)\n",
    "#     cn = components_num if len(data.train_x.columns) >= components_num else \n",
    "    data.reduce(PCA(n_components=components_num, svd_solver='full'))\n",
    "    data_pca.append(data)"
   ]
  },
  {
   "cell_type": "code",
   "execution_count": 35,
   "metadata": {},
   "outputs": [
    {
     "name": "stdout",
     "output_type": "stream",
     "text": [
      "\n",
      " -------------------------------- Create models -------------------------------- \n",
      "\n",
      "\n",
      " --------------------------------- Train models -------------------------------- \n",
      "\n",
      "\n",
      "[linear_regression] clean_tmp\n",
      "\n",
      "[linear_regression] clean_tmp_rows_sqrt\n",
      "\n",
      "[linear_regression] clean_tmp_rows_cbrt\n",
      "\n",
      "[linear_regression] clean_tmp_rows_log2\n",
      "\n",
      " -------------------- Transform negative predictions to zero ------------------- \n",
      "\n",
      "[linear_regression] clean_tmp        Number of negative predictions: 3\n",
      "[linear_regression] clean_tmp_rows_sqrt Number of negative predictions: 0\n",
      "[linear_regression] clean_tmp_rows_cbrt Number of negative predictions: 0\n",
      "[linear_regression] clean_tmp_rows_log2 Number of negative predictions: 0\n",
      "\n",
      " ------------------------------- Evaluate models ------------------------------- \n",
      "\n",
      "\n",
      " -------------------------- Root-Mean-Square Log Error ------------------------- \n",
      "\n",
      "[linear_regression] clean_tmp        Root-Mean-Square Log Error: 1.389\n",
      "[linear_regression] clean_tmp_rows_sqrt Root-Mean-Square Log Error: 0.041207\n",
      "[linear_regression] clean_tmp_rows_cbrt Root-Mean-Square Log Error: 0.048437\n",
      "[linear_regression] clean_tmp_rows_log2 Root-Mean-Square Log Error: 0.048437\n",
      "\n",
      " ---------------------- Nomralized Root-Mean-Square Error ---------------------- \n",
      "\n",
      "[linear_regression] clean_tmp        Nomralized Root-Mean-Square Error: 9968.213189252783\n",
      "[linear_regression] clean_tmp_rows_sqrt Nomralized Root-Mean-Square Error: 7829.930053758616\n",
      "[linear_regression] clean_tmp_rows_cbrt Nomralized Root-Mean-Square Error: 10908.713088965305\n",
      "[linear_regression] clean_tmp_rows_log2 Nomralized Root-Mean-Square Error: 10908.713088965305\n"
     ]
    }
   ],
   "source": [
    "train_and_evaluate([temporary, *data_pca])"
   ]
  },
  {
   "cell_type": "markdown",
   "metadata": {},
   "source": [
    "## 5) Results comparison \n",
    "\n",
    "Both selection and pca helps a lot, PCA was in this case better choice."
   ]
  }
 ],
 "metadata": {
  "kernelspec": {
   "display_name": "Python 3",
   "language": "python",
   "name": "python3"
  },
  "language_info": {
   "codemirror_mode": {
    "name": "ipython",
    "version": 3
   },
   "file_extension": ".py",
   "mimetype": "text/x-python",
   "name": "python",
   "nbconvert_exporter": "python",
   "pygments_lexer": "ipython3",
   "version": "3.6.7"
  }
 },
 "nbformat": 4,
 "nbformat_minor": 4
}
