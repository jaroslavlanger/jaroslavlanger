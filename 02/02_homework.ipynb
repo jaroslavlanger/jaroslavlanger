{
 "cells": [
  {
   "cell_type": "markdown",
   "metadata": {},
   "source": [
    "# Homework 2 - balancing & binning (deadline 28. 11. 2020)\n",
    "\n",
    "In short, the main task is to play with balancing and binning to obtain the best results for the binary classification task.\n",
    "  \n",
    "> The instructions are not given in details: It is up to you to come up with ideas on how to fulfill the particular tasks as best you can!\n",
    "\n",
    "## What are you supposed to do:\n",
    "\n",
    "  1. Download the dataset [here](https://www.dropbox.com/s/aq08ytozfplb97b/data.csv?dl=0).\n",
    "  1. Use 2 binning methods (on features of your choice, with your choice of parameters) and comment on its effects on classification performance.\n",
    "  1. Use at least 2 other data balancing techniques of your choice on the dataset and comment the classification results. **Just copied code from tutorial 4 will not be accepted.**\n",
    "  1. Run all classification tests at least three times - once for unbalanced original data, twice for balanced data (try at least 2 balancing techniques), compare those results (give a comment).\n",
    "  \n",
    "Give comments (!) on each step of your solution, with short explanations of your choices.\n",
    "\n",
    "**If you do all this properly, you will obtain 16 points.** \n",
    "\n",
    "## Comments\n",
    "\n",
    "  * Please follow the instructions from https://courses.fit.cvut.cz/MI-PDD/homeworks/index.html.\n",
    "  * If the reviewing teacher is not satisfied, she can (!) give you another chance to rework your homework and to obtain more points. However, this is not a given, so do your best! :)\n",
    "  * English is not compulsory.\n",
    "  \n",
    "## Data description\n",
    "\n",
    "* The dataset can be downloaded [here](https://www.dropbox.com/s/aq08ytozfplb97b/data.csv?dl=0).\n",
    "* The data are devoted to the binary classification task, the aim is to predict the probability that a driver will initiate an auto insurance claim in the next year.\n",
    "* Target feature is called 'y' and signifies whether or not a claim was filed for that policy holder.\n",
    "* To fulfill the task one does not need to know the meaning of predictors.\n",
    "* Predictors that belong to similar groupings are tagged as such in the feature names (e.g., ind, reg, car, calc). In addition, feature names include the postfix bin to indicate binary features and cat to indicate categorical features. Features without these designations are either continuous or ordinal. Values of -1 indicate that the feature was missing from the observation.\n",
    "* While using [train_test_split](https://scikit-learn.org/stable/modules/generated/sklearn.model_selection.train_test_split.html), control the shuffling of data by random_state parameter. Do not use shuffle=False, probably never (can cause systematic error)."
   ]
  },
  {
   "cell_type": "markdown",
   "metadata": {},
   "source": [
    "# Here comes my code"
   ]
  },
  {
   "cell_type": "markdown",
   "metadata": {},
   "source": [
    "### Libraries Imports"
   ]
  },
  {
   "cell_type": "code",
   "execution_count": 65,
   "metadata": {},
   "outputs": [],
   "source": [
    "import pandas as pd\n",
    "\n",
    "from collections import namedtuple\n",
    "\n",
    "import numpy as np\n",
    "from numpy import where\n",
    "\n",
    "from sklearn.metrics import accuracy_score, roc_curve, auc, roc_auc_score, f1_score\n",
    "from sklearn.model_selection import train_test_split\n",
    "from sklearn.naive_bayes import GaussianNB\n",
    "from sklearn.neighbors import KNeighborsClassifier\n",
    "from sklearn.tree import DecisionTreeClassifier\n",
    "from sklearn.linear_model import LogisticRegression\n",
    "from sklearn.linear_model import LinearRegression\n",
    "from sklearn.cluster import KMeans\n",
    "\n",
    "from imblearn.over_sampling import RandomOverSampler\n",
    "from imblearn.over_sampling import SMOTE\n",
    "\n",
    "import matplotlib.pyplot as plt\n",
    "\n",
    "import seaborn as sns"
   ]
  },
  {
   "cell_type": "code",
   "execution_count": 2,
   "metadata": {},
   "outputs": [],
   "source": [
    "# Constants\n",
    "SEED = 42"
   ]
  },
  {
   "cell_type": "code",
   "execution_count": 3,
   "metadata": {},
   "outputs": [],
   "source": [
    "Dataset = namedtuple(\"Dataset\", [\"X\", \"y\"])    \n",
    "\n",
    "Model = namedtuple(\"Model\", [\"name\", \"classifier\", \"train_set\", \"test_set\", \"y_prediction\"])\n",
    "\n",
    "Evaluation = namedtuple(\"Evaluation\", [\"name\", \"model_name\", \"accuracy\", \"auc\", \"f1_score\"])\n",
    "\n",
    "Balancer = namedtuple(\"Balancer\", [\"name\", \"method\"])"
   ]
  },
  {
   "cell_type": "markdown",
   "metadata": {},
   "source": [
    "## 1) Download the dataset"
   ]
  },
  {
   "cell_type": "code",
   "execution_count": 4,
   "metadata": {},
   "outputs": [],
   "source": [
    "# Load the Dataframe\n",
    "original_df = data = pd.read_csv('data.csv')\n",
    "\n",
    "df = original_df.copy()"
   ]
  },
  {
   "cell_type": "code",
   "execution_count": 5,
   "metadata": {},
   "outputs": [
    {
     "name": "stdout",
     "output_type": "stream",
     "text": [
      "<class 'pandas.core.frame.DataFrame'>\n",
      "RangeIndex: 595212 entries, 0 to 595211\n",
      "Data columns (total 58 columns):\n",
      " #   Column        Non-Null Count   Dtype  \n",
      "---  ------        --------------   -----  \n",
      " 0   y             595212 non-null  int64  \n",
      " 1   xind_01       595212 non-null  int64  \n",
      " 2   xind_02_cat   595212 non-null  int64  \n",
      " 3   xind_03       595212 non-null  int64  \n",
      " 4   xind_04_cat   595212 non-null  int64  \n",
      " 5   xind_05_cat   595212 non-null  int64  \n",
      " 6   xind_06_bin   595212 non-null  int64  \n",
      " 7   xind_07_bin   595212 non-null  int64  \n",
      " 8   xind_08_bin   595212 non-null  int64  \n",
      " 9   xind_09_bin   595212 non-null  int64  \n",
      " 10  xind_10_bin   595212 non-null  int64  \n",
      " 11  xind_11_bin   595212 non-null  int64  \n",
      " 12  xind_12_bin   595212 non-null  int64  \n",
      " 13  xind_13_bin   595212 non-null  int64  \n",
      " 14  xind_14       595212 non-null  int64  \n",
      " 15  xind_15       595212 non-null  int64  \n",
      " 16  xind_16_bin   595212 non-null  int64  \n",
      " 17  xind_17_bin   595212 non-null  int64  \n",
      " 18  xind_18_bin   595212 non-null  int64  \n",
      " 19  xreg_01       595212 non-null  float64\n",
      " 20  xreg_02       595212 non-null  float64\n",
      " 21  xreg_03       595212 non-null  float64\n",
      " 22  xcar_01_cat   595212 non-null  int64  \n",
      " 23  xcar_02_cat   595212 non-null  int64  \n",
      " 24  xcar_03_cat   595212 non-null  int64  \n",
      " 25  xcar_04_cat   595212 non-null  int64  \n",
      " 26  xcar_05_cat   595212 non-null  int64  \n",
      " 27  xcar_06_cat   595212 non-null  int64  \n",
      " 28  xcar_07_cat   595212 non-null  int64  \n",
      " 29  xcar_08_cat   595212 non-null  int64  \n",
      " 30  xcar_09_cat   595212 non-null  int64  \n",
      " 31  xcar_10_cat   595212 non-null  int64  \n",
      " 32  xcar_11_cat   595212 non-null  int64  \n",
      " 33  xcar_11       595212 non-null  int64  \n",
      " 34  xcar_12       595212 non-null  float64\n",
      " 35  xcar_13       595212 non-null  float64\n",
      " 36  xcar_14       595212 non-null  float64\n",
      " 37  xcar_15       595212 non-null  float64\n",
      " 38  xcalc_01      595212 non-null  float64\n",
      " 39  xcalc_02      595212 non-null  float64\n",
      " 40  xcalc_03      595212 non-null  float64\n",
      " 41  xcalc_04      595212 non-null  int64  \n",
      " 42  xcalc_05      595212 non-null  int64  \n",
      " 43  xcalc_06      595212 non-null  int64  \n",
      " 44  xcalc_07      595212 non-null  int64  \n",
      " 45  xcalc_08      595212 non-null  int64  \n",
      " 46  xcalc_09      595212 non-null  int64  \n",
      " 47  xcalc_10      595212 non-null  int64  \n",
      " 48  xcalc_11      595212 non-null  int64  \n",
      " 49  xcalc_12      595212 non-null  int64  \n",
      " 50  xcalc_13      595212 non-null  int64  \n",
      " 51  xcalc_14      595212 non-null  int64  \n",
      " 52  xcalc_15_bin  595212 non-null  int64  \n",
      " 53  xcalc_16_bin  595212 non-null  int64  \n",
      " 54  xcalc_17_bin  595212 non-null  int64  \n",
      " 55  xcalc_18_bin  595212 non-null  int64  \n",
      " 56  xcalc_19_bin  595212 non-null  int64  \n",
      " 57  xcalc_20_bin  595212 non-null  int64  \n",
      "dtypes: float64(10), int64(48)\n",
      "memory usage: 263.4 MB\n"
     ]
    }
   ],
   "source": [
    "# Basic information about the dataframe size, feature types etc.\n",
    "df.info()"
   ]
  },
  {
   "cell_type": "code",
   "execution_count": 6,
   "metadata": {},
   "outputs": [],
   "source": [
    "# df.describe()"
   ]
  },
  {
   "cell_type": "markdown",
   "metadata": {},
   "source": [
    "### Explore Missing Values\n",
    "\n",
    "The missing values are encoded with value `-1` so it is not visible at first glance how much values there are missing."
   ]
  },
  {
   "cell_type": "code",
   "execution_count": 7,
   "metadata": {},
   "outputs": [
    {
     "data": {
      "text/plain": [
       "'Columns with missing values (-1) and percentage of values that are missing'"
      ]
     },
     "metadata": {},
     "output_type": "display_data"
    },
    {
     "data": {
      "text/html": [
       "<div>\n",
       "<style scoped>\n",
       "    .dataframe tbody tr th:only-of-type {\n",
       "        vertical-align: middle;\n",
       "    }\n",
       "\n",
       "    .dataframe tbody tr th {\n",
       "        vertical-align: top;\n",
       "    }\n",
       "\n",
       "    .dataframe thead th {\n",
       "        text-align: right;\n",
       "    }\n",
       "</style>\n",
       "<table border=\"1\" class=\"dataframe\">\n",
       "  <thead>\n",
       "    <tr style=\"text-align: right;\">\n",
       "      <th></th>\n",
       "      <th>missing_values</th>\n",
       "      <th>percentage_missing</th>\n",
       "    </tr>\n",
       "  </thead>\n",
       "  <tbody>\n",
       "    <tr>\n",
       "      <th>xcar_03_cat</th>\n",
       "      <td>411231</td>\n",
       "      <td>69.089837</td>\n",
       "    </tr>\n",
       "    <tr>\n",
       "      <th>xcar_05_cat</th>\n",
       "      <td>266551</td>\n",
       "      <td>44.782531</td>\n",
       "    </tr>\n",
       "    <tr>\n",
       "      <th>xreg_03</th>\n",
       "      <td>107772</td>\n",
       "      <td>18.106490</td>\n",
       "    </tr>\n",
       "    <tr>\n",
       "      <th>xcar_14</th>\n",
       "      <td>42620</td>\n",
       "      <td>7.160474</td>\n",
       "    </tr>\n",
       "    <tr>\n",
       "      <th>xcar_07_cat</th>\n",
       "      <td>11489</td>\n",
       "      <td>1.930237</td>\n",
       "    </tr>\n",
       "    <tr>\n",
       "      <th>xind_05_cat</th>\n",
       "      <td>5809</td>\n",
       "      <td>0.975955</td>\n",
       "    </tr>\n",
       "    <tr>\n",
       "      <th>xcar_09_cat</th>\n",
       "      <td>569</td>\n",
       "      <td>0.095596</td>\n",
       "    </tr>\n",
       "    <tr>\n",
       "      <th>xind_02_cat</th>\n",
       "      <td>216</td>\n",
       "      <td>0.036290</td>\n",
       "    </tr>\n",
       "    <tr>\n",
       "      <th>xcar_01_cat</th>\n",
       "      <td>107</td>\n",
       "      <td>0.017977</td>\n",
       "    </tr>\n",
       "    <tr>\n",
       "      <th>xind_04_cat</th>\n",
       "      <td>83</td>\n",
       "      <td>0.013945</td>\n",
       "    </tr>\n",
       "    <tr>\n",
       "      <th>xcar_02_cat</th>\n",
       "      <td>5</td>\n",
       "      <td>0.000840</td>\n",
       "    </tr>\n",
       "    <tr>\n",
       "      <th>xcar_11</th>\n",
       "      <td>5</td>\n",
       "      <td>0.000840</td>\n",
       "    </tr>\n",
       "    <tr>\n",
       "      <th>xcar_12</th>\n",
       "      <td>1</td>\n",
       "      <td>0.000168</td>\n",
       "    </tr>\n",
       "  </tbody>\n",
       "</table>\n",
       "</div>"
      ],
      "text/plain": [
       "             missing_values  percentage_missing\n",
       "xcar_03_cat          411231           69.089837\n",
       "xcar_05_cat          266551           44.782531\n",
       "xreg_03              107772           18.106490\n",
       "xcar_14               42620            7.160474\n",
       "xcar_07_cat           11489            1.930237\n",
       "xind_05_cat            5809            0.975955\n",
       "xcar_09_cat             569            0.095596\n",
       "xind_02_cat             216            0.036290\n",
       "xcar_01_cat             107            0.017977\n",
       "xind_04_cat              83            0.013945\n",
       "xcar_02_cat               5            0.000840\n",
       "xcar_11                   5            0.000840\n",
       "xcar_12                   1            0.000168"
      ]
     },
     "metadata": {},
     "output_type": "display_data"
    }
   ],
   "source": [
    "# Create temporary missing_values dataframe for exploration purpose\n",
    "mv = pd.DataFrame(df.apply(lambda x: (x == -1).sum()), columns=[\"missing_values\"])\n",
    "\n",
    "# Count the percentages\n",
    "mv[\"percentage_missing\"] = (mv[\"missing_values\"] / df.shape[0]) * 100\n",
    "\n",
    "display(\"Columns with missing values (-1) and percentage of values that are missing\",\n",
    "    mv[mv[\"missing_values\"] != 0].sort_values(\"missing_values\", ascending=False)\n",
    ")"
   ]
  },
  {
   "cell_type": "markdown",
   "metadata": {},
   "source": [
    "- The missing values should be treated separatedly.\n",
    "    - Perhaps some imputation method should be used so the missing values would make sense.\n",
    "    - Usually good choice is the k-Nearest Neighbors, however even the replacment with mean works better than just leaving there an artificial number.\n",
    "\n",
    "- It does not need to be true, if the values are missing from some systematical reason, the reason can be explored.\n",
    "    - For this analysis I will hope, the values are missing for a good reason, so I won't impute them anyhow."
   ]
  },
  {
   "cell_type": "markdown",
   "metadata": {},
   "source": [
    "## Copy Sample of the Dataframe"
   ]
  },
  {
   "cell_type": "code",
   "execution_count": 8,
   "metadata": {},
   "outputs": [],
   "source": [
    "sample_df = original_df.sample(n=int(original_df.shape[0]/10), random_state=SEED).copy()"
   ]
  },
  {
   "cell_type": "markdown",
   "metadata": {},
   "source": [
    "## Data Cleansing\n",
    "\n",
    "- Convert Categorical Features to Categorical Type\n",
    "- Check Type by the Column Name"
   ]
  },
  {
   "cell_type": "code",
   "execution_count": 9,
   "metadata": {},
   "outputs": [],
   "source": [
    "def convertCategoricalFeatures(cols, df):\n",
    "    \"\"\"Convert given columns to types to categorical type.\n",
    "    Show the categorical column types. Also show types of non-categorical features.\n",
    "    \"\"\"\n",
    "    df[categorical_cols] = df[categorical_cols].astype(\"category\")\n",
    "    \n",
    "    print(f\"Categorical columns names and types\\n{df[categorical_cols].dtypes}\\n\")\n",
    "    print(f\"Other columns types {df.drop(categorical_cols, axis=1).dtypes.unique()}\")\n",
    "    return df"
   ]
  },
  {
   "cell_type": "code",
   "execution_count": 10,
   "metadata": {},
   "outputs": [
    {
     "name": "stdout",
     "output_type": "stream",
     "text": [
      "Categorical columns names and types\n",
      "xind_02_cat    category\n",
      "xind_04_cat    category\n",
      "xind_05_cat    category\n",
      "xcar_01_cat    category\n",
      "xcar_02_cat    category\n",
      "xcar_03_cat    category\n",
      "xcar_04_cat    category\n",
      "xcar_05_cat    category\n",
      "xcar_06_cat    category\n",
      "xcar_07_cat    category\n",
      "xcar_08_cat    category\n",
      "xcar_09_cat    category\n",
      "xcar_10_cat    category\n",
      "xcar_11_cat    category\n",
      "dtype: object\n",
      "\n",
      "Other columns types [dtype('int64') dtype('float64')]\n"
     ]
    }
   ],
   "source": [
    "# Columns with \"_cat\" suffix should be treated as cetegorical\n",
    "categorical_cols = [x for x in sample_df.columns if x.endswith(\"_cat\")]\n",
    "\n",
    "sample_df = convertCategoricalFeatures(categorical_cols, sample_df)"
   ]
  },
  {
   "cell_type": "markdown",
   "metadata": {},
   "source": [
    "### Make Categorical Columns Suitable for Classifiers\n",
    "\n",
    "- Check if One-Hot encoding is possible (i.e. check whether the cardinality is not to high)"
   ]
  },
  {
   "cell_type": "code",
   "execution_count": 11,
   "metadata": {},
   "outputs": [
    {
     "data": {
      "text/html": [
       "<div>\n",
       "<style scoped>\n",
       "    .dataframe tbody tr th:only-of-type {\n",
       "        vertical-align: middle;\n",
       "    }\n",
       "\n",
       "    .dataframe tbody tr th {\n",
       "        vertical-align: top;\n",
       "    }\n",
       "\n",
       "    .dataframe thead th {\n",
       "        text-align: right;\n",
       "    }\n",
       "</style>\n",
       "<table border=\"1\" class=\"dataframe\">\n",
       "  <thead>\n",
       "    <tr style=\"text-align: right;\">\n",
       "      <th></th>\n",
       "      <th>unique_values</th>\n",
       "    </tr>\n",
       "  </thead>\n",
       "  <tbody>\n",
       "    <tr>\n",
       "      <th>xind_02_cat</th>\n",
       "      <td>5</td>\n",
       "    </tr>\n",
       "    <tr>\n",
       "      <th>xind_04_cat</th>\n",
       "      <td>3</td>\n",
       "    </tr>\n",
       "    <tr>\n",
       "      <th>xind_05_cat</th>\n",
       "      <td>8</td>\n",
       "    </tr>\n",
       "    <tr>\n",
       "      <th>xcar_01_cat</th>\n",
       "      <td>13</td>\n",
       "    </tr>\n",
       "    <tr>\n",
       "      <th>xcar_02_cat</th>\n",
       "      <td>2</td>\n",
       "    </tr>\n",
       "    <tr>\n",
       "      <th>xcar_03_cat</th>\n",
       "      <td>3</td>\n",
       "    </tr>\n",
       "    <tr>\n",
       "      <th>xcar_04_cat</th>\n",
       "      <td>10</td>\n",
       "    </tr>\n",
       "    <tr>\n",
       "      <th>xcar_05_cat</th>\n",
       "      <td>3</td>\n",
       "    </tr>\n",
       "    <tr>\n",
       "      <th>xcar_06_cat</th>\n",
       "      <td>18</td>\n",
       "    </tr>\n",
       "    <tr>\n",
       "      <th>xcar_07_cat</th>\n",
       "      <td>3</td>\n",
       "    </tr>\n",
       "    <tr>\n",
       "      <th>xcar_08_cat</th>\n",
       "      <td>2</td>\n",
       "    </tr>\n",
       "    <tr>\n",
       "      <th>xcar_09_cat</th>\n",
       "      <td>6</td>\n",
       "    </tr>\n",
       "    <tr>\n",
       "      <th>xcar_10_cat</th>\n",
       "      <td>3</td>\n",
       "    </tr>\n",
       "    <tr>\n",
       "      <th>xcar_11_cat</th>\n",
       "      <td>104</td>\n",
       "    </tr>\n",
       "  </tbody>\n",
       "</table>\n",
       "</div>"
      ],
      "text/plain": [
       "             unique_values\n",
       "xind_02_cat              5\n",
       "xind_04_cat              3\n",
       "xind_05_cat              8\n",
       "xcar_01_cat             13\n",
       "xcar_02_cat              2\n",
       "xcar_03_cat              3\n",
       "xcar_04_cat             10\n",
       "xcar_05_cat              3\n",
       "xcar_06_cat             18\n",
       "xcar_07_cat              3\n",
       "xcar_08_cat              2\n",
       "xcar_09_cat              6\n",
       "xcar_10_cat              3\n",
       "xcar_11_cat            104"
      ]
     },
     "metadata": {},
     "output_type": "display_data"
    }
   ],
   "source": [
    "df = sample_df\n",
    "\n",
    "uv = pd.DataFrame(df[categorical_cols].nunique(), columns=[\"unique_values\"]) #.value_counts()\n",
    "\n",
    "display(uv)"
   ]
  },
  {
   "cell_type": "markdown",
   "metadata": {},
   "source": [
    "### Some columns has high cardinality let's look how much values are they miss\n",
    "\n",
    "- In case there would be significant percentage of missing values we could drop them with peace in mind\n",
    "    - I'm not sure, this cardinality increase is worth one column of features"
   ]
  },
  {
   "cell_type": "code",
   "execution_count": 12,
   "metadata": {},
   "outputs": [
    {
     "data": {
      "text/html": [
       "<div>\n",
       "<style scoped>\n",
       "    .dataframe tbody tr th:only-of-type {\n",
       "        vertical-align: middle;\n",
       "    }\n",
       "\n",
       "    .dataframe tbody tr th {\n",
       "        vertical-align: top;\n",
       "    }\n",
       "\n",
       "    .dataframe thead th {\n",
       "        text-align: right;\n",
       "    }\n",
       "</style>\n",
       "<table border=\"1\" class=\"dataframe\">\n",
       "  <thead>\n",
       "    <tr style=\"text-align: right;\">\n",
       "      <th></th>\n",
       "      <th>missing_values</th>\n",
       "      <th>percentage_missing</th>\n",
       "    </tr>\n",
       "  </thead>\n",
       "  <tbody>\n",
       "    <tr>\n",
       "      <th>xind_02_cat</th>\n",
       "      <td>216</td>\n",
       "      <td>0.036290</td>\n",
       "    </tr>\n",
       "    <tr>\n",
       "      <th>xind_05_cat</th>\n",
       "      <td>5809</td>\n",
       "      <td>0.975955</td>\n",
       "    </tr>\n",
       "    <tr>\n",
       "      <th>xcar_01_cat</th>\n",
       "      <td>107</td>\n",
       "      <td>0.017977</td>\n",
       "    </tr>\n",
       "    <tr>\n",
       "      <th>xcar_04_cat</th>\n",
       "      <td>0</td>\n",
       "      <td>0.000000</td>\n",
       "    </tr>\n",
       "    <tr>\n",
       "      <th>xcar_06_cat</th>\n",
       "      <td>0</td>\n",
       "      <td>0.000000</td>\n",
       "    </tr>\n",
       "    <tr>\n",
       "      <th>xcar_09_cat</th>\n",
       "      <td>569</td>\n",
       "      <td>0.095596</td>\n",
       "    </tr>\n",
       "    <tr>\n",
       "      <th>xcar_11_cat</th>\n",
       "      <td>0</td>\n",
       "      <td>0.000000</td>\n",
       "    </tr>\n",
       "  </tbody>\n",
       "</table>\n",
       "</div>"
      ],
      "text/plain": [
       "             missing_values  percentage_missing\n",
       "xind_02_cat             216            0.036290\n",
       "xind_05_cat            5809            0.975955\n",
       "xcar_01_cat             107            0.017977\n",
       "xcar_04_cat               0            0.000000\n",
       "xcar_06_cat               0            0.000000\n",
       "xcar_09_cat             569            0.095596\n",
       "xcar_11_cat               0            0.000000"
      ]
     },
     "execution_count": 12,
     "metadata": {},
     "output_type": "execute_result"
    }
   ],
   "source": [
    "df = sample_df\n",
    "\n",
    "high_card_rows = uv[uv[\"unique_values\"] >= 5].index\n",
    "\n",
    "mv.loc[high_card_rows, :]"
   ]
  },
  {
   "cell_type": "code",
   "execution_count": 13,
   "metadata": {},
   "outputs": [],
   "source": [
    "def showHistogramAndBoxplot(feature, df):\n",
    "    \"\"\"Show histogram and boxplot for given dataframe feature\"\"\"\n",
    "    fig, axes = plt.subplots(nrows=1, ncols=2)\n",
    "    fig.set_size_inches(16, 6)\n",
    "    sns.distplot(df[feature], kde=False, ax=axes[0]).set_title(f\"Histogram of {feature} feature\")\n",
    "    sns.boxplot(df[feature], ax=axes[1]).set_title(f\"{feature} feature boxplot\")"
   ]
  },
  {
   "cell_type": "code",
   "execution_count": 14,
   "metadata": {},
   "outputs": [
    {
     "data": {
      "image/png": "[encoded data removed]",
      "text/plain": [
       "<Figure size 1152x432 with 2 Axes>"
      ]
     },
     "metadata": {
      "needs_background": "light"
     },
     "output_type": "display_data"
    }
   ],
   "source": [
    "showHistogramAndBoxplot(\"xcar_11_cat\", sample_df)"
   ]
  },
  {
   "cell_type": "markdown",
   "metadata": {},
   "source": [
    "### One-hot Encoding\n",
    "\n",
    "- Concatenate non-categorical columns with the one-hot encoding of the categorical colums."
   ]
  },
  {
   "cell_type": "code",
   "execution_count": 15,
   "metadata": {},
   "outputs": [
    {
     "name": "stdout",
     "output_type": "stream",
     "text": [
      "Number of columns after encoding: 227\n"
     ]
    }
   ],
   "source": [
    "def oneHotEncoding(cols, df):\n",
    "    \"\"\"For given columns perform one-hot encoding.\n",
    "    Add the encoded columns to the given dataframe and drop the original (not-encoded) columns.\n",
    "    \"\"\"\n",
    "    df = pd.concat([\n",
    "        df.drop(cols, axis=1), \n",
    "        pd.get_dummies(df[cols])\n",
    "    ], axis=1)\n",
    "    print(f\"Number of columns after encoding: {df.shape[1]}\")\n",
    "    return df\n",
    "\n",
    "sample_df = oneHotEncoding(categorical_cols, sample_df)"
   ]
  },
  {
   "cell_type": "code",
   "execution_count": 16,
   "metadata": {},
   "outputs": [
    {
     "name": "stdout",
     "output_type": "stream",
     "text": [
      "Encoded columns that represents missing values\n",
      "xind_02_cat_-1\n",
      "xind_04_cat_-1\n",
      "xind_05_cat_-1\n",
      "xcar_01_cat_-1\n",
      "xcar_03_cat_-1\n",
      "xcar_05_cat_-1\n",
      "xcar_07_cat_-1\n",
      "xcar_09_cat_-1\n"
     ]
    }
   ],
   "source": [
    "df = sample_df\n",
    "\n",
    "print(\"Encoded columns that represents missing values\",\n",
    "    *[x for x in df.columns if (\"-1\" in x)],\n",
    "sep=\"\\n\")"
   ]
  },
  {
   "cell_type": "markdown",
   "metadata": {},
   "source": [
    "## Binning"
   ]
  },
  {
   "cell_type": "markdown",
   "metadata": {},
   "source": [
    "- I chosed to discretize the highest cardinality feature i.e. the fature with the biggest number of unique values."
   ]
  },
  {
   "cell_type": "code",
   "execution_count": 17,
   "metadata": {},
   "outputs": [
    {
     "data": {
      "text/plain": [
       "xcar_13     24216\n",
       "xreg_03      4336\n",
       "xcar_14       724\n",
       "xcar_12       129\n",
       "xcalc_10       24\n",
       "xcalc_14       22\n",
       "xreg_02        19\n",
       "xcalc_11       19\n",
       "xcar_15        15\n",
       "xcalc_13       14\n",
       "dtype: int64"
      ]
     },
     "execution_count": 17,
     "metadata": {},
     "output_type": "execute_result"
    }
   ],
   "source": [
    "binning_df = sample_df.copy()\n",
    "df = binning_df\n",
    "\n",
    "df.nunique().sort_values(ascending=False)[:10]"
   ]
  },
  {
   "cell_type": "markdown",
   "metadata": {},
   "source": [
    "The feature \"xcar_13\" has the biggest number of unique values by a lot so I will apply binning to it.\n",
    "\n",
    "### Histogram of xcar_13 (values distribution)"
   ]
  },
  {
   "cell_type": "code",
   "execution_count": 18,
   "metadata": {},
   "outputs": [
    {
     "data": {
      "image/png": "[encoded data removed]",
      "text/plain": [
       "<Figure size 1152x432 with 2 Axes>"
      ]
     },
     "metadata": {
      "needs_background": "light"
     },
     "output_type": "display_data"
    }
   ],
   "source": [
    "showHistogramAndBoxplot(\"xcar_13\", binning_df)"
   ]
  },
  {
   "cell_type": "markdown",
   "metadata": {},
   "source": [
    "Before I start with binning I will create a sample copy of the dataframe to do the test "
   ]
  },
  {
   "cell_type": "markdown",
   "metadata": {},
   "source": [
    "### Binning Function"
   ]
  },
  {
   "cell_type": "code",
   "execution_count": 19,
   "metadata": {},
   "outputs": [],
   "source": [
    "def binFeatureEqualWidth(feature, df, equal=\"depth\", interval_method=np.log2): # interval_method=np.sqrt\n",
    "    interval_num = int(np.ceil(interval_method(df.xcar_13.nunique())))\n",
    "    print(f\"Number of Intervals: {interval_num}\")\n",
    "\n",
    "    bin_labels = list(range(interval_num))\n",
    "    bin_feature = f\"{feature}_{equal}_{interval_num}\"\n",
    "    print(f\"Name of binned feature: {bin_feature}\")\n",
    "    \n",
    "    bin_method = pd.qcut if equal == \"depth\" else pd.cut\n",
    "    df[bin_feature] = bin_method(df[feature], interval_num, labels=bin_labels)\n",
    "    return bin_feature\n"
   ]
  },
  {
   "cell_type": "markdown",
   "metadata": {},
   "source": [
    "### Equal Width Binning\n",
    "\n",
    "#### Number of bins\n",
    "\n",
    "- As a rule of thumb i chosed to take square root of unique values rounded up."
   ]
  },
  {
   "cell_type": "code",
   "execution_count": 20,
   "metadata": {},
   "outputs": [
    {
     "name": "stdout",
     "output_type": "stream",
     "text": [
      "Number of Intervals: 15\n",
      "Name of binned feature: xcar_13_width_15\n"
     ]
    },
    {
     "data": {
      "image/png": "[encoded data removed]",
      "text/plain": [
       "<Figure size 1152x432 with 2 Axes>"
      ]
     },
     "metadata": {
      "needs_background": "light"
     },
     "output_type": "display_data"
    }
   ],
   "source": [
    "feature_width = binFeatureEqualWidth(\"xcar_13\", binning_df, equal=\"width\")\n",
    "showHistogramAndBoxplot(feature_width, binning_df)"
   ]
  },
  {
   "cell_type": "code",
   "execution_count": 21,
   "metadata": {},
   "outputs": [
    {
     "name": "stdout",
     "output_type": "stream",
     "text": [
      "Number of Intervals: 156\n",
      "Name of binned feature: xcar_13_width_156\n"
     ]
    }
   ],
   "source": [
    "feature_width_sqrt = binFeatureEqualWidth(\"xcar_13\", binning_df, equal=\"width\", interval_method=np.sqrt)\n",
    "# showHistogramAndBoxplot(feature_width_sqrt, binning_df)"
   ]
  },
  {
   "cell_type": "code",
   "execution_count": 22,
   "metadata": {},
   "outputs": [
    {
     "name": "stdout",
     "output_type": "stream",
     "text": [
      "Number of Intervals: 5\n",
      "Name of binned feature: xcar_13_width_5\n"
     ]
    }
   ],
   "source": [
    "feature_width_log10 = binFeatureEqualWidth(\"xcar_13\", binning_df, equal=\"width\", interval_method=np.log10)\n",
    "# showHistogramAndBoxplot(feature_width_log10, binning_df)"
   ]
  },
  {
   "cell_type": "markdown",
   "metadata": {},
   "source": [
    "### Equal Depth Binning"
   ]
  },
  {
   "cell_type": "code",
   "execution_count": 23,
   "metadata": {},
   "outputs": [
    {
     "name": "stdout",
     "output_type": "stream",
     "text": [
      "Number of Intervals: 15\n",
      "Name of binned feature: xcar_13_depth_15\n"
     ]
    },
    {
     "data": {
      "image/png": "[encoded data removed]",
      "text/plain": [
       "<Figure size 1152x432 with 2 Axes>"
      ]
     },
     "metadata": {
      "needs_background": "light"
     },
     "output_type": "display_data"
    }
   ],
   "source": [
    "feature_depth = binFeatureEqualWidth(\"xcar_13\", binning_df, equal=\"depth\")\n",
    "showHistogramAndBoxplot(feature_depth, binning_df)"
   ]
  },
  {
   "cell_type": "code",
   "execution_count": 24,
   "metadata": {},
   "outputs": [
    {
     "name": "stdout",
     "output_type": "stream",
     "text": [
      "Number of Intervals: 156\n",
      "Name of binned feature: xcar_13_depth_156\n"
     ]
    }
   ],
   "source": [
    "feature_depth_sqrt = binFeatureEqualWidth(\"xcar_13\", binning_df, equal=\"depth\", interval_method=np.sqrt)\n",
    "# showHistogramAndBoxplot(feature_depth_sqrt, binning_df)"
   ]
  },
  {
   "cell_type": "code",
   "execution_count": 25,
   "metadata": {},
   "outputs": [
    {
     "name": "stdout",
     "output_type": "stream",
     "text": [
      "Number of Intervals: 5\n",
      "Name of binned feature: xcar_13_depth_5\n"
     ]
    }
   ],
   "source": [
    "feature_depth_log10 = binFeatureEqualWidth(\"xcar_13\", binning_df, equal=\"depth\", interval_method=np.log10)\n",
    "# showHistogramAndBoxplot(feature_width_log10, binning_df)"
   ]
  },
  {
   "cell_type": "code",
   "execution_count": 26,
   "metadata": {},
   "outputs": [],
   "source": [
    "def trainAndPredict(model_name, train_ds, test_ds):\n",
    "    if model_name == \"decision_tree\":\n",
    "        classifier = DecisionTreeClassifier(random_state=SEED)\n",
    "\n",
    "    y_prediction =  classifier.fit(train_ds.X, train_ds.y).predict(test_ds.X)\n",
    "\n",
    "    return Model(name=model_name, classifier=classifier, y_prediction=y_prediction,\n",
    "        train_set=train_ds, test_set=test_ds) \n"
   ]
  },
  {
   "cell_type": "code",
   "execution_count": 27,
   "metadata": {},
   "outputs": [],
   "source": [
    "def trainWithAlternatingColumn(model_name, X_train, y_train, X_test, y_test, alternating_cols):\n",
    "    \"\"\"Return list of trained models. \n",
    "    The models are trained with X features, where is present only one column form alternating_cols at a time.\n",
    "    \"\"\"\n",
    "    trained_models = {}\n",
    "    for alt_col in alternating_cols:\n",
    "        to_drop = [x for x in alternating_cols if x != alt_col]\n",
    "        train_ds = Dataset(X_train.drop(to_drop, axis=1), y_train)\n",
    "        test_ds = Dataset(X_test.drop(to_drop, axis=1), y_test)\n",
    "        \n",
    "        model = trainAndPredict(model_name, train_ds, test_ds)\n",
    "        \n",
    "        print(f\"Train Set and Test Set Sizes [{alt_col}] (rows, columns)\\n\",\n",
    "            f\"Train set: X={train_ds.X.shape}, y={train_ds.y.shape}\",\n",
    "            f\"| Test set:  X={test_ds.X.shape}, y={test_ds.y.shape}\\n\")\n",
    "        \n",
    "        trained_models[alt_col] = model\n",
    "    \n",
    "    return trained_models\n"
   ]
  },
  {
   "cell_type": "code",
   "execution_count": 28,
   "metadata": {},
   "outputs": [
    {
     "name": "stdout",
     "output_type": "stream",
     "text": [
      "Train Set and Test Set Sizes [xcar_13_width_15] (rows, columns)\n",
      " Train set: X=(39879, 226), y=(39879,) | Test set:  X=(19642, 226), y=(19642,)\n",
      "\n",
      "Train Set and Test Set Sizes [xcar_13_width_156] (rows, columns)\n",
      " Train set: X=(39879, 226), y=(39879,) | Test set:  X=(19642, 226), y=(19642,)\n",
      "\n",
      "Train Set and Test Set Sizes [xcar_13_width_5] (rows, columns)\n",
      " Train set: X=(39879, 226), y=(39879,) | Test set:  X=(19642, 226), y=(19642,)\n",
      "\n",
      "Train Set and Test Set Sizes [xcar_13_depth_15] (rows, columns)\n",
      " Train set: X=(39879, 226), y=(39879,) | Test set:  X=(19642, 226), y=(19642,)\n",
      "\n",
      "Train Set and Test Set Sizes [xcar_13_depth_156] (rows, columns)\n",
      " Train set: X=(39879, 226), y=(39879,) | Test set:  X=(19642, 226), y=(19642,)\n",
      "\n",
      "Train Set and Test Set Sizes [xcar_13_depth_5] (rows, columns)\n",
      " Train set: X=(39879, 226), y=(39879,) | Test set:  X=(19642, 226), y=(19642,)\n",
      "\n",
      "Train Set and Test Set Sizes [xcar_13] (rows, columns)\n",
      " Train set: X=(39879, 226), y=(39879,) | Test set:  X=(19642, 226), y=(19642,)\n",
      "\n"
     ]
    }
   ],
   "source": [
    "df = binning_df\n",
    "\n",
    "alternating_cols = [x for x in df.columns if ((\"_width\" in x) or (\"_depth\" in x))]\n",
    "alternating_cols.append(alternating_cols[0].split(\"_width\")[0].split(\"_depth\")[0])\n",
    "# display(alternating_cols)\n",
    "\n",
    "ds = Dataset(df.drop(\"y\", axis=1), df.y)\n",
    "X_train, X_test, y_train, y_test = train_test_split(ds.X, ds.y, test_size=0.33, random_state=SEED)\n",
    "\n",
    "trained_models = trainWithAlternatingColumn(\"decision_tree\", alternating_cols=alternating_cols,\n",
    "    X_train=X_train, X_test=X_test, y_train=y_train, y_test=y_test)"
   ]
  },
  {
   "cell_type": "code",
   "execution_count": 29,
   "metadata": {},
   "outputs": [],
   "source": [
    "def evaluateModel(model, name):\n",
    "    ev = Evaluation(name=name, model_name=model.name,\n",
    "        accuracy=accuracy_score(model.test_set.y, model.y_prediction),\n",
    "        auc=roc_auc_score(model.test_set.y, model.y_prediction),\n",
    "        f1_score=f1_score(model.test_set.y, model.y_prediction))\n",
    "    print(f\"[{ev.model_name}] {ev.name}\\n\",\n",
    "        f\"Acc: {ev.accuracy:.5f}\\tAUC: {ev.auc:.5f}\\tF1: {ev.f1_score:.5f}\\n\")\n",
    "    return ev"
   ]
  },
  {
   "cell_type": "code",
   "execution_count": 30,
   "metadata": {},
   "outputs": [
    {
     "name": "stdout",
     "output_type": "stream",
     "text": [
      "[decision_tree] xcar_13_width_15\n",
      " Acc: 0.92058\tAUC: 0.50697\tF1: 0.05340\n",
      "\n",
      "[decision_tree] xcar_13_width_156\n",
      " Acc: 0.91885\tAUC: 0.50607\tF1: 0.05232\n",
      "\n",
      "[decision_tree] xcar_13_width_5\n",
      " Acc: 0.91890\tAUC: 0.49889\tF1: 0.03978\n",
      "\n",
      "[decision_tree] xcar_13_depth_15\n",
      " Acc: 0.92211\tAUC: 0.50841\tF1: 0.05556\n",
      "\n",
      "[decision_tree] xcar_13_depth_156\n",
      " Acc: 0.91813\tAUC: 0.50308\tF1: 0.04739\n",
      "\n",
      "[decision_tree] xcar_13_depth_5\n",
      " Acc: 0.91915\tAUC: 0.49968\tF1: 0.04106\n",
      "\n",
      "[decision_tree] xcar_13\n",
      " Acc: 0.92053\tAUC: 0.50432\tF1: 0.04875\n",
      "\n"
     ]
    }
   ],
   "source": [
    "evals = []\n",
    "\n",
    "for name, model in trained_models.items(): #, gnb_model, lr_model]: # \n",
    "    evals.append(evaluateModel(model, name))\n",
    "    \n",
    "# \"Original Data Prediction Evaluation\""
   ]
  },
  {
   "cell_type": "code",
   "execution_count": 31,
   "metadata": {},
   "outputs": [
    {
     "data": {
      "text/plain": [
       "<matplotlib.axes._subplots.AxesSubplot at 0x7f543c0afeb8>"
      ]
     },
     "execution_count": 31,
     "metadata": {},
     "output_type": "execute_result"
    },
    {
     "data": {
      "image/png": "[encoded data removed]",
      "text/plain": [
       "<Figure size 432x288 with 1 Axes>"
      ]
     },
     "metadata": {
      "needs_background": "light"
     },
     "output_type": "display_data"
    }
   ],
   "source": [
    "eval_df = pd.DataFrame(evals)\n",
    "\n",
    "eval_df=eval_df.sort_values(by=\"f1_score\", ascending=False)\n",
    "sns.barplot(y=\"name\", x=\"f1_score\", hue=\"model_name\", data=eval_df, orient=\"h\")"
   ]
  },
  {
   "cell_type": "markdown",
   "metadata": {},
   "source": [
    "## Balancing"
   ]
  },
  {
   "cell_type": "code",
   "execution_count": 33,
   "metadata": {},
   "outputs": [],
   "source": [
    "balancing_df = sample_df.copy()"
   ]
  },
  {
   "cell_type": "code",
   "execution_count": 34,
   "metadata": {},
   "outputs": [
    {
     "data": {
      "text/plain": [
       "0    57310\n",
       "1     2211\n",
       "Name: y, dtype: int64"
      ]
     },
     "execution_count": 34,
     "metadata": {},
     "output_type": "execute_result"
    }
   ],
   "source": [
    "df.y.value_counts()"
   ]
  },
  {
   "cell_type": "code",
   "execution_count": 74,
   "metadata": {},
   "outputs": [],
   "source": [
    "def trainWithBalancedSets(model_name, X_train, y_train, X_test, y_test, balancers):\n",
    "    \"\"\"Return list of trained models. \n",
    "    The models are trained with \n",
    "    \"\"\"\n",
    "    trained_models = {}\n",
    "    \n",
    "    test_ds = Dataset(X_test, y_test)\n",
    "    \n",
    "    for balancer in balancers:\n",
    "#         print(f\"X_train {X_train}, y_train {y_train}\")\n",
    "        train_ds = Dataset(*balancer.method.fit_sample(X_train, y_train))\n",
    "        print(f\"{balancer.name} train.X {train_ds.X.shape} | train.y {train_ds.y.shape} | {train_ds.y.value_counts()}\")\n",
    "        model = trainAndPredict(model_name, train_ds, test_ds)\n",
    "        \n",
    "        print(f\"Train Set and Test Set Sizes [{balancer.name}] (rows, columns)\",\n",
    "            f\"Train set: X={train_ds.X.shape}, y={train_ds.y.shape} | Test set:  X={test_ds.X.shape}, y={test_ds.y.shape}\\n\",\n",
    "             sep=\"\\n\")\n",
    "        \n",
    "        trained_models[balancer.name] = model\n",
    "    \n",
    "    return trained_models\n"
   ]
  },
  {
   "cell_type": "markdown",
   "metadata": {},
   "source": [
    "### Under-sampling"
   ]
  },
  {
   "cell_type": "code",
   "execution_count": null,
   "metadata": {},
   "outputs": [],
   "source": []
  },
  {
   "cell_type": "markdown",
   "metadata": {},
   "source": [
    "### Over-sampling methods\n",
    "\n",
    "- Random Over-sampling\n",
    "- SMOTE"
   ]
  },
  {
   "cell_type": "code",
   "execution_count": 75,
   "metadata": {},
   "outputs": [
    {
     "name": "stdout",
     "output_type": "stream",
     "text": [
      "random_over_sampling train.X (76804, 226) | train.y (76804,) | 1    38402\n",
      "0    38402\n",
      "Name: y, dtype: int64\n",
      "Train Set and Test Set Sizes [random_over_sampling] (rows, columns)\n",
      "Train set: X=(76804, 226), y=(76804,) | Test set:  X=(19642, 226), y=(19642,)\n",
      "\n",
      "smote train.X (76804, 226) | train.y (76804,) | 1    38402\n",
      "0    38402\n",
      "Name: y, dtype: int64\n",
      "Train Set and Test Set Sizes [smote] (rows, columns)\n",
      "Train set: X=(76804, 226), y=(76804,) | Test set:  X=(19642, 226), y=(19642,)\n",
      "\n"
     ]
    }
   ],
   "source": [
    "balancers = [\n",
    "    Balancer(name=\"random_over_sampling\", method=RandomOverSampler(random_state=SEED)),\n",
    "    Balancer(name=\"smote\", method=SMOTE(random_state=SEED))\n",
    "]\n",
    "\n",
    "trainedAndBalanced = trainWithBalancedSets(\"decision_tree\", X_train, y_train, X_test, y_test, balancers)\n"
   ]
  },
  {
   "cell_type": "code",
   "execution_count": 76,
   "metadata": {},
   "outputs": [
    {
     "name": "stdout",
     "output_type": "stream",
     "text": [
      "[decision_tree] random_over_sampling\n",
      " Acc: 0.91900\tAUC: 0.49960\tF1: 0.04099\n",
      "\n",
      "[decision_tree] smote\n",
      " Acc: 0.91589\tAUC: 0.50519\tF1: 0.05166\n",
      "\n"
     ]
    }
   ],
   "source": [
    "balancing_evals = []\n",
    "\n",
    "for name, model in trainedAndBalanced.items(): #, gnb_model, lr_model]: # \n",
    "    balancing_evals.append(evaluateModel(model, name))\n"
   ]
  },
  {
   "cell_type": "code",
   "execution_count": 78,
   "metadata": {},
   "outputs": [
    {
     "data": {
      "text/plain": [
       "<matplotlib.axes._subplots.AxesSubplot at 0x7f5439c034e0>"
      ]
     },
     "execution_count": 78,
     "metadata": {},
     "output_type": "execute_result"
    },
    {
     "data": {
      "image/png": "[encoded data removed]",
      "text/plain": [
       "<Figure size 432x288 with 1 Axes>"
      ]
     },
     "metadata": {
      "needs_background": "light"
     },
     "output_type": "display_data"
    }
   ],
   "source": [
    "bal_eval_df = pd.DataFrame(balancing_evals)\n",
    "\n",
    "bal_eval_df=bal_eval_df.sort_values(by=\"f1_score\", ascending=False)\n",
    "sns.barplot(y=\"name\", x=\"f1_score\", hue=\"model_name\", data=bal_eval_df, orient=\"h\")"
   ]
  },
  {
   "cell_type": "markdown",
   "metadata": {},
   "source": [
    "## Classification Tests and Evalutaions"
   ]
  },
  {
   "cell_type": "markdown",
   "metadata": {},
   "source": [
    "### Divide the dataset into train set and test set"
   ]
  },
  {
   "cell_type": "code",
   "execution_count": 66,
   "metadata": {},
   "outputs": [],
   "source": [
    "df = sample_df\n",
    "\n",
    "ds = Dataset(df.drop(\"y\", axis=1), df.y)\n",
    "\n",
    "X_train, X_test, y_train, y_test = train_test_split(ds.X, ds.y, test_size=0.33, random_state=SEED)\n",
    "train_ds, test_ds = Dataset(X_train, y_train), Dataset(X_test, y_test)"
   ]
  },
  {
   "cell_type": "code",
   "execution_count": 76,
   "metadata": {},
   "outputs": [
    {
     "name": "stdout",
     "output_type": "stream",
     "text": [
      "Train Set and Test Set Sizes (rows, columns)\n",
      "Train set: X=(39879, 226), y=(39879,)\n",
      "Test set:  X=(19642, 226), y=(19642,)\n",
      "\n"
     ]
    }
   ],
   "source": [
    "print(f\"\"\"Train Set and Test Set Sizes (rows, columns)\n",
    "Train set: X={train_ds.X.shape}, y={train_ds.y.shape}\n",
    "Test set:  X={test_ds.X.shape}, y={test_ds.y.shape}\n",
    "\"\"\")\n"
   ]
  },
  {
   "cell_type": "markdown",
   "metadata": {},
   "source": [
    "### Classifiers and Predictions"
   ]
  },
  {
   "cell_type": "code",
   "execution_count": 77,
   "metadata": {},
   "outputs": [],
   "source": []
  },
  {
   "cell_type": "markdown",
   "metadata": {},
   "source": [
    "### k-Means (2)"
   ]
  },
  {
   "cell_type": "code",
   "execution_count": 48,
   "metadata": {},
   "outputs": [],
   "source": [
    "# %%time\n",
    "\n",
    "# km = KMeans(n_clusters=2, random_state=SEED)\n",
    "\n",
    "# y_pred_km = km.fit(train_ds.X, train_ds.y).predict(test_ds.X)\n",
    "\n",
    "# # Structure the data together\n",
    "# km_model = Model(name=\"k_means\", classifier=km, \n",
    "#     train_set=train_ds, test_set=test_ds, y_prediction=y_pred_km\n",
    "# ) "
   ]
  },
  {
   "cell_type": "markdown",
   "metadata": {},
   "source": [
    "### Logistic Regression"
   ]
  },
  {
   "cell_type": "code",
   "execution_count": 56,
   "metadata": {},
   "outputs": [
    {
     "name": "stdout",
     "output_type": "stream",
     "text": [
      "CPU times: user 19min 50s, sys: 8min 13s, total: 28min 4s\n",
      "Wall time: 3min 44s\n"
     ]
    }
   ],
   "source": [
    "%%time\n",
    "\n",
    "lr = LogisticRegression(max_iter=1000, random_state=SEED)\n",
    "y_pred_lr = lr.fit(train_ds.X, train_ds.y).predict(test_ds.X)\n",
    "\n",
    "# Structure the data together\n",
    "lr_model = Model(name=\"logistic_regression\", classifier=lr, \n",
    "    train_set=train_ds, test_set=test_ds, y_prediction=y_pred_lr\n",
    ") "
   ]
  },
  {
   "cell_type": "markdown",
   "metadata": {},
   "source": [
    "### Decision Tree Learning and Prediciton"
   ]
  },
  {
   "cell_type": "code",
   "execution_count": 32,
   "metadata": {},
   "outputs": [
    {
     "ename": "NameError",
     "evalue": "name 'train_ds' is not defined",
     "output_type": "error",
     "traceback": [
      "\u001b[0;31m---------------------------------------------------------------------------\u001b[0m",
      "\u001b[0;31mNameError\u001b[0m                                 Traceback (most recent call last)",
      "\u001b[0;32m<timed exec>\u001b[0m in \u001b[0;36m<module>\u001b[0;34m\u001b[0m\n",
      "\u001b[0;31mNameError\u001b[0m: name 'train_ds' is not defined"
     ]
    }
   ],
   "source": [
    "%%time\n",
    "\n",
    "dtc = DecisionTreeClassifier(random_state=SEED)\n",
    "y_pred_dtc = dtc.fit(train_ds.X, train_ds.y).predict(test_ds.X)\n",
    "\n",
    "dtc_model = Model(name=\"decision_tree\", classifier=dtc, y_prediction=y_pred_dtc,\n",
    "    train_set=train_ds, test_set=test_ds) "
   ]
  },
  {
   "cell_type": "markdown",
   "metadata": {},
   "source": [
    "### Naive Bayes"
   ]
  },
  {
   "cell_type": "code",
   "execution_count": 52,
   "metadata": {},
   "outputs": [
    {
     "name": "stdout",
     "output_type": "stream",
     "text": [
      "CPU times: user 1.35 s, sys: 17 s, total: 18.4 s\n",
      "Wall time: 18.5 s\n"
     ]
    }
   ],
   "source": [
    "%%time\n",
    "\n",
    "gnb = GaussianNB()\n",
    "y_pred_gnb = gnb.fit(train_ds.X, train_ds.y).predict(test_ds.X)\n",
    "\n",
    "gnb_model = Model(name=\"naive_bayes\", classifier=gnb, y_prediction=y_pred_gnb,\n",
    "    train_set=train_ds, test_set=test_ds) "
   ]
  },
  {
   "cell_type": "code",
   "execution_count": null,
   "metadata": {},
   "outputs": [],
   "source": []
  },
  {
   "cell_type": "code",
   "execution_count": null,
   "metadata": {},
   "outputs": [],
   "source": [
    "### "
   ]
  },
  {
   "cell_type": "markdown",
   "metadata": {},
   "source": [
    "### Prediction Evaluation and Comparison"
   ]
  },
  {
   "cell_type": "code",
   "execution_count": 89,
   "metadata": {},
   "outputs": [],
   "source": []
  },
  {
   "cell_type": "code",
   "execution_count": 90,
   "metadata": {},
   "outputs": [
    {
     "name": "stdout",
     "output_type": "stream",
     "text": [
      "Original Data Prediction Evaluation [decision_tree]\n",
      "Accuracy: 0.9191019244476123\n",
      "AUC:      0.5040208288748973\n",
      "F1-score: 0.04907241172950329\n",
      "\n"
     ]
    }
   ],
   "source": [
    "evals = []\n",
    "\n",
    "for model in [dtc_model]: #, gnb_model, lr_model]: # \n",
    "    evals.append(evaluateModel(model, \"Original Data Prediction Evaluation\"))"
   ]
  },
  {
   "cell_type": "markdown",
   "metadata": {},
   "source": [
    "## IF THERE WILL BE TIME LEFT"
   ]
  },
  {
   "cell_type": "code",
   "execution_count": null,
   "metadata": {},
   "outputs": [],
   "source": [
    "Dataset(y=\"b\", X=\"a\")"
   ]
  },
  {
   "cell_type": "code",
   "execution_count": null,
   "metadata": {},
   "outputs": [],
   "source": [
    "# [x for x in zip([\"x_train\",\"x_test\"], [\"y_train\",\"y_test\"])]\n",
    "a, b = zip([\"x_train\",\"x_test\"], [\"y_train\",\"y_test\"])\n",
    "a, b\n",
    "\n",
    "a, b = zip(train_test_split(df.drop('y', axis=1), test_size=0.33, random_state=SEED), [\"y_train\",\"y_test\"])\n",
    "\n",
    "ds = Dataset()\n",
    "\n",
    "test_ds = train_test_split(X, y, test_size=0.33, random_state=SEED)\n",
    "# df.drop('b', axis=1)\n"
   ]
  },
  {
   "cell_type": "code",
   "execution_count": null,
   "metadata": {},
   "outputs": [],
   "source": [
    "print(\"stopped?\")"
   ]
  },
  {
   "cell_type": "code",
   "execution_count": 88,
   "metadata": {},
   "outputs": [
    {
     "data": {
      "text/plain": [
       "True"
      ]
     },
     "execution_count": 88,
     "metadata": {},
     "output_type": "execute_result"
    }
   ],
   "source": [
    "id(main_df) == id(df)"
   ]
  },
  {
   "cell_type": "code",
   "execution_count": null,
   "metadata": {},
   "outputs": [],
   "source": [
    "# sample_df = sample_df.drop(alternating_cols, axis=1)"
   ]
  }
 ],
 "metadata": {
  "kernelspec": {
   "display_name": "Python 3",
   "language": "python",
   "name": "python3"
  },
  "language_info": {
   "codemirror_mode": {
    "name": "ipython",
    "version": 3
   },
   "file_extension": ".py",
   "mimetype": "text/x-python",
   "name": "python",
   "nbconvert_exporter": "python",
   "pygments_lexer": "ipython3",
   "version": "3.6.7"
  }
 },
 "nbformat": 4,
 "nbformat_minor": 4
}
